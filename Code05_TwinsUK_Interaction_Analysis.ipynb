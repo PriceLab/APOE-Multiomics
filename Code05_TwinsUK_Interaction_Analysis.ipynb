{
 "cells": [
  {
   "cell_type": "markdown",
   "id": "c6d72265-82ec-4865-a90c-f4656591aff5",
   "metadata": {
    "tags": []
   },
   "source": [
    "# TwinsUK inter-omic interaction analysis\n",
    "\n",
    "Inputs: Arivale_metabolomics_metadata.csv; E1199_15122022_2_TwinsUK_Interaction_Analysis.csv  \n",
    "Outputs: Data organized into Supplementary File 5\n",
    "\n",
    "'Save' lines are commented out  "
   ]
  },
  {
   "cell_type": "code",
   "execution_count": null,
   "id": "7f88f664-c316-469e-8d44-ae9178f70642",
   "metadata": {},
   "outputs": [],
   "source": [
    "# Load packages\n",
    "import pandas as pd\n",
    "import seaborn as sns\n",
    "import numpy as np\n",
    "import matplotlib.pyplot as plt\n",
    "import scipy\n",
    "import sys\n",
    "import math\n",
    "from datetime import datetime\n",
    "import logging\n",
    "logging.basicConfig(level=logging.INFO)\n",
    "\n",
    "logger = logging.getLogger('analytics')\n",
    "logger.setLevel(logging.INFO)\n",
    "\n",
    "# Set up logging\n",
    "from analytics.util.analytics_logger import GetAnalyticsLogger\n",
    "import logging\n",
    "logger = GetAnalyticsLogger()\n",
    "logger.setLevel(logging.INFO)"
   ]
  },
  {
   "cell_type": "code",
   "execution_count": null,
   "id": "ecec123b-750d-4180-8989-3cbd8ecbaadc",
   "metadata": {},
   "outputs": [],
   "source": [
    "df_analysis_5SD_valid = pd.read_csv('/notebooks/0. APOE-Multiomics/Data_Files/E1199_15122022_2_TwinsUK_Interaction_Analysis.csv').drop(columns=['Unnamed: 0'])"
   ]
  },
  {
   "cell_type": "code",
   "execution_count": null,
   "id": "5b0029a2-f979-4db8-9a4c-89348259093a",
   "metadata": {},
   "outputs": [],
   "source": [
    "# get chem and metab lists\n",
    "chem_list = df_analysis_5SD_valid.columns[-17:-5].to_list()\n",
    "chem_list.append('IGF-1')\n",
    "metab_list = df_analysis_5SD_valid.columns[10:-24].to_list()"
   ]
  },
  {
   "cell_type": "markdown",
   "id": "77cb8153-6ca1-43d8-bb98-938d6927c8de",
   "metadata": {},
   "source": [
    "# Correlation network"
   ]
  },
  {
   "cell_type": "code",
   "execution_count": null,
   "id": "dfd44308-ac44-4ebf-9bbe-a1a023c9160b",
   "metadata": {},
   "outputs": [],
   "source": [
    "import statsmodels.api as sm\n",
    "import statsmodels.formula.api as smf\n",
    "import statsmodels.sandbox.stats.multicomp\n",
    "from statsmodels.genmod.families import family, links\n",
    "import itertools"
   ]
  },
  {
   "cell_type": "code",
   "execution_count": null,
   "id": "934a5733-9609-4c02-b81c-e24c66a1c2f0",
   "metadata": {},
   "outputs": [],
   "source": [
    "analytes = chem_list + metab_list"
   ]
  },
  {
   "cell_type": "code",
   "execution_count": null,
   "id": "0b45ad15-9fe4-4e73-af40-faaf179fa753",
   "metadata": {},
   "outputs": [],
   "source": [
    "pairs = list(itertools.combinations(analytes, 2))"
   ]
  },
  {
   "cell_type": "code",
   "execution_count": null,
   "id": "6d330f92-2fb8-47d8-b9c0-bf14f20eb9de",
   "metadata": {},
   "outputs": [],
   "source": [
    "pairs[0:5]"
   ]
  },
  {
   "cell_type": "code",
   "execution_count": null,
   "id": "49791cdd-a26f-4773-a65e-18c9050422de",
   "metadata": {},
   "outputs": [],
   "source": [
    "# restrict data to subset to be tested\n",
    "df_F = df_analysis_5SD_valid[(df_analysis_5SD_valid.Sex == 'F')]\n",
    "df_FE2 = df_F[(df_F.APOE_Status == 'E3')|(df_F.APOE_Status == 'E2')]"
   ]
  },
  {
   "cell_type": "code",
   "execution_count": null,
   "id": "beb36334-8555-4384-b2e7-280294b704cf",
   "metadata": {},
   "outputs": [],
   "source": [
    "# restrict data to subset to be tested\n",
    "df_M = df_analysis_5SD_valid[(df_analysis_5SD_valid.Sex == 'M')]\n",
    "df_ME2 = df_M[(df_M.APOE_Status == 'E3')|(df_M.APOE_Status == 'E2')]"
   ]
  },
  {
   "cell_type": "code",
   "execution_count": null,
   "id": "f7525bde-e599-4299-b5c1-cb7b95529b4e",
   "metadata": {},
   "outputs": [],
   "source": [
    "# restrict data to subset to be tested\n",
    "df_F = df_analysis_5SD_valid[(df_analysis_5SD_valid.Sex == 'F')]\n",
    "df_FE4 = df_F[(df_F.APOE_Status == 'E3')|(df_F.APOE_Status == 'E4')]"
   ]
  },
  {
   "cell_type": "code",
   "execution_count": null,
   "id": "de0e9ad4-6302-4033-9bd7-e7251991fbe8",
   "metadata": {},
   "outputs": [],
   "source": [
    "# restrict data to subset to be tested\n",
    "df_M = df_analysis_5SD_valid[(df_analysis_5SD_valid.Sex == 'M')]\n",
    "df_ME4 = df_M[(df_M.APOE_Status == 'E3')|(df_M.APOE_Status == 'E4')]"
   ]
  },
  {
   "cell_type": "code",
   "execution_count": null,
   "id": "60f72845-17fb-4930-8cf8-7fddf63131e5",
   "metadata": {},
   "outputs": [],
   "source": [
    "# restrict data to subset to be tested\n",
    "df_M = df_analysis_5SD_valid[(df_analysis_5SD_valid.Sex == 'M')]\n",
    "df_Mhealth = df_M[(df_M.Model_Health == 'Bio_Young')|(df_M.Model_Health == 'BA_equals_CA')]"
   ]
  },
  {
   "cell_type": "code",
   "execution_count": null,
   "id": "e8194385-e750-4982-b3cd-af96234294af",
   "metadata": {},
   "outputs": [],
   "source": [
    "# restrict data to subset to be tested\n",
    "df_F = df_analysis_5SD_valid[(df_analysis_5SD_valid.Sex == 'F')]\n",
    "df_Fhealth = df_F[(df_F.Model_Health == 'Bio_Young')|(df_F.Model_Health == 'BA_equals_CA')]"
   ]
  },
  {
   "cell_type": "code",
   "execution_count": null,
   "id": "e51af20e-1891-49e2-a070-251613427b78",
   "metadata": {},
   "outputs": [],
   "source": [
    "# restrict data to subset to be tested\n",
    "df_M = df_analysis_5SD_valid[(df_analysis_5SD_valid.Sex == 'M')]\n",
    "df_Munhealth = df_M[(df_M.Model_Health == 'Bio_Old')|(df_M.Model_Health == 'BA_equals_CA')]"
   ]
  },
  {
   "cell_type": "code",
   "execution_count": null,
   "id": "d10423a4-ce87-47e3-bfee-d3e7a3be7ce6",
   "metadata": {},
   "outputs": [],
   "source": [
    "# restrict data to subset to be tested\n",
    "df_F = df_analysis_5SD_valid[(df_analysis_5SD_valid.Sex == 'F')]\n",
    "df_Funhealth = df_F[(df_F.Model_Health == 'Bio_Old')|(df_F.Model_Health == 'BA_equals_CA')]"
   ]
  },
  {
   "cell_type": "code",
   "execution_count": null,
   "id": "0bee7515-45fc-480c-aa09-14b813b4503d",
   "metadata": {},
   "outputs": [],
   "source": [
    "# #TwinsUK Chem list: Arivale Chem List\n",
    "# ['Urate' : 'URIC ACID',\n",
    "#  'HbA1c' : 'GLYCOHEMOGLOBIN A1C',\n",
    "#  'Creatinine' : 'CREATININE ENZ, SER',\n",
    "#  'Triglycerides' : 'TRIGLYCERIDES',\n",
    "#  'Urea' : 'UREA NITROGEN',\n",
    "#  'hs_CRP' : 'CRP HIGH SENSITIVITY',\n",
    "#  'Glucose' : 'GLUCOSE',\n",
    "#  'Haemoglobin' : 'HEMOGLOBIN',\n",
    "#  'eGFR' : 'GFR, MDRD',\n",
    "#  'Tot-cholesterol' : 'CHOLESTEROL, TOTAL',\n",
    "#  'HDL' : 'HDL CHOL DIRECT',\n",
    "#  'LDL' : 'LDL-CHOL CALCULATION',\n",
    "#  'IGF-1' : nan]"
   ]
  },
  {
   "cell_type": "markdown",
   "id": "83c589b8-eb01-4500-b5c6-479fceda37ab",
   "metadata": {},
   "source": [
    "# Select specific metabs to test based on sub-pathway"
   ]
  },
  {
   "cell_type": "code",
   "execution_count": null,
   "id": "6d043ad4-934d-42c8-b7e2-3095f3326e62",
   "metadata": {},
   "outputs": [],
   "source": [
    "metam = pd.read_csv('/notebooks/0. APOE-Multiomics/Data_Files/Arivale_metabolomics_metadata.csv').drop(columns=['Unnamed: 0'])\n",
    "metam['CHEMICAL_ID'] = metam['CHEMICAL_ID'].astype(str)"
   ]
  },
  {
   "cell_type": "code",
   "execution_count": null,
   "id": "53c2da55-ac3c-4241-bd29-6a3efaa7e591",
   "metadata": {},
   "outputs": [],
   "source": [
    "metabs_to_add = []"
   ]
  },
  {
   "cell_type": "code",
   "execution_count": null,
   "id": "edeff1e4-48c1-4c93-9e97-d0adaaad34ed",
   "metadata": {},
   "outputs": [],
   "source": [
    "metabs_to_add += metam[metam.SUB_PATHWAY=='TCA Cycle'].BIOCHEMICAL_NAME.to_list()\n",
    "metabs_to_add += metam[metam.SUB_PATHWAY=='Glycolysis, Gluconeogenesis, and Pyruvate Metabolism'].BIOCHEMICAL_NAME.to_list()\n",
    "metabs_to_add += metam[metam.SUB_PATHWAY=='Fructose, Mannose and Galactose Metabolism'].BIOCHEMICAL_NAME.to_list()\n",
    "metabs_to_add += metam[metam.SUB_PATHWAY=='Pentose Metabolism'].BIOCHEMICAL_NAME.to_list()\n",
    "metabs_to_add += metam[metam.SUB_PATHWAY=='Oxidative Phosphorylation'].BIOCHEMICAL_NAME.to_list()\n",
    "metabs_to_add += metam[metam.SUB_PATHWAY=='Phospholipid Metabolism'].BIOCHEMICAL_NAME.to_list()\n",
    "metabs_to_add += metam[metam.SUB_PATHWAY=='Sphingolipid Metabolism'].BIOCHEMICAL_NAME.to_list()\n",
    "metabs_to_add += metam[metam.SUB_PATHWAY=='Leucine, Isoleucine and Valine Metabolism'].BIOCHEMICAL_NAME.to_list()\n",
    "metabs_to_add += metam[metam.SUB_PATHWAY=='Diacylglycerol'].BIOCHEMICAL_NAME.to_list()"
   ]
  },
  {
   "cell_type": "code",
   "execution_count": null,
   "id": "e934b82e-4a74-4583-a611-6a0a67b100a9",
   "metadata": {},
   "outputs": [],
   "source": [
    "valid_test = []\n",
    "\n",
    "for i in metabs_to_add:\n",
    "    \n",
    "    valid_test.append(('Glucose',i))\n",
    "    \n",
    "    valid_test.append(('Triglycerides',i))\n",
    "    \n",
    "    valid_test.append(('HDL',i))\n",
    "    \n",
    "    valid_test.append(('LDL',i))\n",
    "                       \n",
    "    valid_test.append(('Tot-cholesterol',i))\n",
    "                       \n",
    "    # energy_valid_test.append(('HbA1c',i))"
   ]
  },
  {
   "cell_type": "markdown",
   "id": "b08feb1b-386b-4353-8962-e7fdf18c2957",
   "metadata": {},
   "source": [
    "# Select specific metabs to test based on Arivale results"
   ]
  },
  {
   "cell_type": "code",
   "execution_count": null,
   "id": "78077120-8d74-4438-8c18-212a7409e3bb",
   "metadata": {
    "tags": []
   },
   "outputs": [],
   "source": [
    "FE2_valid_list = []"
   ]
  },
  {
   "cell_type": "code",
   "execution_count": null,
   "id": "ef738480-f4d4-4ce5-bc41-d7f9c55e3773",
   "metadata": {
    "tags": []
   },
   "outputs": [],
   "source": [
    "ME2_valid_list = [('Triglycerides', 'ribitol'),\n",
    " ('HbA1c', 'phenol sulfate'),\n",
    " ('Triglycerides', 'ceramide (d18:1/20:0, d16:1/22:0, d20:1/18:0)*'),\n",
    " ('Glucose', 'phenol sulfate')]"
   ]
  },
  {
   "cell_type": "code",
   "execution_count": null,
   "id": "e6b74bda-7e5c-4c51-a2d9-3e15156d89d1",
   "metadata": {},
   "outputs": [],
   "source": [
    "FE4_valid_list = []"
   ]
  },
  {
   "cell_type": "code",
   "execution_count": null,
   "id": "e98306d7-e92c-485b-bd7f-ba7560a940fc",
   "metadata": {},
   "outputs": [],
   "source": [
    "ME4_valid_list = []"
   ]
  },
  {
   "cell_type": "code",
   "execution_count": null,
   "id": "d5d5668d-8f55-4b31-ac57-6314a9befd5e",
   "metadata": {},
   "outputs": [],
   "source": [
    "Fhealth_valid_list = []"
   ]
  },
  {
   "cell_type": "code",
   "execution_count": null,
   "id": "50d112ce-dd0a-4423-82da-a5b24ab19d42",
   "metadata": {},
   "outputs": [],
   "source": [
    "Mhealth_valid_list = []"
   ]
  },
  {
   "cell_type": "code",
   "execution_count": null,
   "id": "9d744f72-040d-4f58-8704-c1f1e8169029",
   "metadata": {},
   "outputs": [],
   "source": [
    "Funhealth_valid_list = [('HbA1c', 'alpha-ketobutyrate'),\n",
    " ('HbA1c', 'gluconate'),\n",
    " ('HbA1c', '1-(1-enyl-palmitoyl)-2-myristoyl-GPC (P-16:0/14:0)*'),\n",
    " ('HbA1c', 'X - 19438'),\n",
    " ('HbA1c', 'taurine'),\n",
    " ('HbA1c', '2-hydroxybutyrate/2-hydroxyisobutyrate'),\n",
    " ('HbA1c', 'X - 24295'),\n",
    " ('HbA1c', 'alpha-ketoglutarate'),\n",
    " ('HbA1c', '4-methyl-2-oxopentanoate'),\n",
    " ('HbA1c', 'fructose'),\n",
    " ('Glucose', 'gluconate'),\n",
    " ('Glucose', '1-(1-enyl-palmitoyl)-2-myristoyl-GPC (P-16:0/14:0)*'),\n",
    " ('HbA1c', 'N-acetylleucine'),\n",
    " ('HbA1c', '3-methyl-2-oxovalerate'),\n",
    " ('HbA1c', 'pyruvate'),\n",
    " ('HbA1c', 'margarate (17:0)'),\n",
    " ('Glucose', 'alpha-ketobutyrate'),\n",
    " ('HbA1c', '3-hydroxy-2-ethylpropionate'),\n",
    " ('HbA1c', 'mannose'),\n",
    " ('Urea', 'linolenoylcarnitine (C18:3)*'),\n",
    " ('Glucose', 'X - 16087')]"
   ]
  },
  {
   "cell_type": "code",
   "execution_count": null,
   "id": "c556ec2f-c4e8-4262-b756-f6014cb61902",
   "metadata": {},
   "outputs": [],
   "source": [
    "Munhealth_valid_list = [('Glucose', 'N-acetylvaline'),\n",
    " ('Glucose', 'linoleoyl-linoleoyl-glycerol (18:2/18:2) [1]*'),\n",
    " ('Glucose', 'mannose'),\n",
    " ('HbA1c', 'N-acetylvaline'),\n",
    " ('Glucose', 'glutamate'),\n",
    " ('HbA1c', 'linoleoyl-linoleoyl-glycerol (18:2/18:2) [1]*'),\n",
    " ('HbA1c', 'aspartate'),\n",
    " ('Glucose', 'palmitoleoyl-linoleoyl-glycerol (16:1/18:2) [1]*'),\n",
    " ('HbA1c', 'pyruvate'),\n",
    " ('Glucose', 'pyruvate'),\n",
    " ('Glucose', 'leucine'),\n",
    " ('Glucose', 'aspartate'),\n",
    " ('Glucose', 'palmitoyl-linoleoyl-glycerol (16:0/18:2) [2]*'),\n",
    " ('Haemoglobin', 'N-acetylthreonine'),\n",
    " ('HbA1c', 'glutamate'),\n",
    " ('Haemoglobin', 'gamma-glutamylglycine'),\n",
    " ('HbA1c', '1-carboxyethylvaline'),\n",
    " ('HbA1c', 'linoleoyl-arachidonoyl-glycerol (18:2/20:4) [1]*'),\n",
    " ('Glucose', 'oleoyl-linoleoyl-glycerol (18:1/18:2) [1]'),\n",
    " ('HbA1c', 'isoleucine'),\n",
    " ('Glucose', 'cortolone glucuronide (1)'),\n",
    " ('HbA1c', 'leucine'),\n",
    " ('Glucose', 'butyrylcarnitine (C4)'),\n",
    " ('Glucose', 'phenol sulfate'),\n",
    " ('Glucose', 'linoleoyl-arachidonoyl-glycerol (18:2/20:4) [1]*'),\n",
    " ('HbA1c', '1-carboxyethylleucine'),\n",
    " ('HbA1c', 'phenol sulfate'),\n",
    " ('HbA1c', 'X - 24337'),\n",
    " ('HbA1c', 'X - 16087'),\n",
    " ('HbA1c', 'gamma-glutamylisoleucine*'),\n",
    " ('Glucose', 'creatine'),\n",
    " ('Glucose', '1-(1-enyl-palmitoyl)-2-oleoyl-GPC (P-16:0/18:1)*'),\n",
    " ('HbA1c', 'palmitoyl-linoleoyl-glycerol (16:0/18:2) [2]*'),\n",
    " ('Glucose', 'X - 23641'),\n",
    " ('HbA1c', 'lactate'),\n",
    " ('Glucose', '1-stearoyl-2-dihomo-linolenoyl-GPE (18:0/20:3n3 or 6)*'),\n",
    " ('Glucose', 'hydroxyasparagine**'),\n",
    " ('HbA1c', 'palmitoyl-linoleoyl-glycerol (16:0/18:2) [1]*'),\n",
    " ('Glucose', 'X - 16087'),\n",
    " ('Glucose', 'gamma-glutamylleucine'),\n",
    " ('Glucose', 'oleoyl-oleoyl-glycerol (18:1/18:1)  [1]*'),\n",
    " ('Glucose', 'oleoyl-linoleoyl-glycerol (18:1/18:2) [2]'),\n",
    " ('Glucose', 'valine'),\n",
    " ('HbA1c', 'mannose'),\n",
    " ('HbA1c', 'glutamine conjugate of C6H10O2 (1)*'),\n",
    " ('Glucose', 'sphingomyelin (d18:1/22:1, d18:2/22:0, d16:1/24:1)*'),\n",
    " ('Glucose', '1-oleoylglycerol (18:1)'),\n",
    " ('HbA1c', 'N-acetylisoleucine'),\n",
    " ('Haemoglobin', 'X - 12026'),\n",
    " ('HbA1c', 'oleoyl-linoleoyl-glycerol (18:1/18:2) [1]'),\n",
    " ('Glucose', 'linoleoyl-linolenoyl-glycerol (18:2/18:3) [2]*'),\n",
    " ('Glucose', 'hydroquinone sulfate'),\n",
    " ('HbA1c', 'N-acetylaspartate (NAA)'),\n",
    " ('Glucose', 'palmitoyl-oleoyl-glycerol (16:0/18:1) [1]*'),\n",
    " ('Glucose', 'choline'),\n",
    " ('Glucose', 'linoleoyl ethanolamide'),\n",
    " ('Glucose', '1-carboxyethylvaline'),\n",
    " ('Glucose', '1-linoleoyl-GPC (18:2)'),\n",
    " ('HbA1c', 'X - 12101'),\n",
    " ('HbA1c', 'palmitoleoyl-linoleoyl-glycerol (16:1/18:2) [1]*'),\n",
    " ('HbA1c', 'N2,N2-dimethylguanosine'),\n",
    " ('Glucose', 'palmitoyl-linoleoyl-glycerol (16:0/18:2) [1]*')]"
   ]
  },
  {
   "cell_type": "code",
   "execution_count": null,
   "id": "d7fed63f-dcb8-4ce1-ba73-ac7f4b6e435d",
   "metadata": {},
   "outputs": [],
   "source": [
    "E2_allele_valid_list = [('HbA1c', 'malate'),\n",
    " ('HbA1c', 'fumarate'),\n",
    " ('Glucose', 'aconitate [cis or trans]'),\n",
    " ('Glucose', '3-hydroxy-2-ethylpropionate'),\n",
    " ('Tot-cholesterol', 'arabonate/xylonate')]"
   ]
  },
  {
   "cell_type": "code",
   "execution_count": null,
   "id": "98abe8d3-6820-461a-8b2b-4594916d8536",
   "metadata": {},
   "outputs": [],
   "source": [
    "E4_allele_valid_list = []"
   ]
  },
  {
   "cell_type": "code",
   "execution_count": null,
   "id": "55bac9f3-fcb3-4408-b8ed-2159020a9d0f",
   "metadata": {},
   "outputs": [],
   "source": [
    "delta_age_continuous_valid_list = [('Insulin', 'eicosenoate (20:1)'),\n",
    " ('Tot-cholesterol', 'alpha-hydroxyisocaproate'),\n",
    " ('Tot-cholesterol', 'sphingomyelin (d18:2/23:1)*'),\n",
    " ('Tot-cholesterol', 'leucine'),\n",
    " ('Tot-cholesterol', '1-palmitoyl-GPE (16:0)'),\n",
    " ('Glucose', 'palmitate (16:0)'),\n",
    " ('Glucose', 'oleoyl-arachidonoyl-glycerol (18:1/20:4) [2]*'),\n",
    " ('Glucose', '1-carboxyethylleucine'),\n",
    " ('Glucose', '3,5-dichloro-2,6-dihydroxybenzoic acid'),\n",
    " ('Glucose', 'X - 23639'),\n",
    " ('Glucose', 'palmitoyl-oleoyl-glycerol (16:0/18:1) [2]*'),\n",
    " ('Glucose', 'beta-cryptoxanthin'),\n",
    " ('Glucose', '1-stearoyl-2-docosapentaenoyl-GPC (18:0/22:5n6)*'),\n",
    " ('Glucose', '1-eicosenoyl-GPC (20:1)*'),\n",
    " ('Glucose', 'valine'),\n",
    " ('Glucose', 'arginine'),\n",
    " ('Glucose', '1-oleoyl-GPC (18:1)'),\n",
    " ('Glucose', 'X - 24337'),\n",
    " ('Glucose', 'dihomo-linoleate (20:2n6)'),\n",
    " ('Glucose', 'glutamine conjugate of C6H10O2 (1)*'),\n",
    " ('Glucose', '1-(1-enyl-palmitoyl)-GPC (P-16:0)*'),\n",
    " ('Glucose', 'glutamine'),\n",
    " ('Glucose', 'behenoyl dihydrosphingomyelin (d18:0/22:0)*'),\n",
    " ('Glucose', 'aspartate'),\n",
    " ('Glucose', '1-linoleoyl-2-docosahexaenoyl-GPC (18:2/22:6)*'),\n",
    " ('Glucose', 'S-methylcysteine sulfoxide'),\n",
    " ('Glucose', '1,5-anhydroglucitol (1,5-AG)'),\n",
    " ('Glucose', 'S-methylcysteine'),\n",
    " ('Glucose', 'oxalate (ethanedioate)'),\n",
    " ('Glucose', 'hexanoylglutamine'),\n",
    " ('Glucose', '(S)-3-hydroxybutyrylcarnitine'),\n",
    " ('Glucose', 'tyrosine'),\n",
    " ('Glucose', 'alpha-ketoglutarate'),\n",
    " ('Glucose', '1-stearoyl-2-docosapentaenoyl-GPE (18:0/22:5n6)*'),\n",
    " ('Glucose', 'palmitoyl-linoleoyl-glycerol (16:0/18:2) [2]*'),\n",
    " ('Glucose', '1-margaroyl-GPC (17:0)'),\n",
    " ('Glucose', 'adrenate (22:4n6)'),\n",
    " ('Glucose', '3-hydroxyisobutyrate'),\n",
    " ('Glucose', '2-hydroxybutyrate/2-hydroxyisobutyrate'),\n",
    " ('Glucose', 'gamma-glutamylisoleucine*'),\n",
    " ('Glucose', 'palmitoyl-linoleoyl-glycerol (16:0/18:2) [1]*'),\n",
    " ('Glucose', '3-methyl-2-oxovalerate'),\n",
    " ('Glucose', 'linoleoyl-arachidonoyl-glycerol (18:2/20:4) [1]*'),\n",
    " ('Glucose', '1-palmityl-2-oleoyl-GPC (O-16:0/18:1)*'),\n",
    " ('Glucose', 'aconitate [cis or trans]'),\n",
    " ('Glucose', 'glycodeoxycholate'),\n",
    " ('Glucose', 'gamma-glutamylmethionine'),\n",
    " ('Glucose', 'linoleoyl-linoleoyl-glycerol (18:2/18:2) [1]*'),\n",
    " ('Glucose', 'leucine'),\n",
    " ('Glucose', 'X - 19438'),\n",
    " ('Glucose', 'lactate'),\n",
    " ('Glucose', 'gluconate'),\n",
    " ('Glucose', 'fructose'),\n",
    " ('Glucose', 'pyruvate'),\n",
    " ('Glucose', '1-carboxyethylphenylalanine'),\n",
    " ('Glucose', 'tartronate (hydroxymalonate)'),\n",
    " ('Glucose', 'stearate (18:0)'),\n",
    " ('Glucose', 'oleate/vaccenate (18:1)'),\n",
    " ('Glucose', '1,2-dilinoleoyl-GPC (18:2/18:2)'),\n",
    " ('Glucose', '1-(1-enyl-palmitoyl)-2-oleoyl-GPC (P-16:0/18:1)*'),\n",
    " ('Glucose', 'ribonate'),\n",
    " ('Glucose', 'gamma-glutamylcitrulline*'),\n",
    " ('Glucose', 'X - 24295'),\n",
    " ('Glucose', 'X - 16087'),\n",
    " ('Glucose', 'eicosenoate (20:1)'),\n",
    " ('Glucose', 'hydroxypalmitoyl sphingomyelin (d18:1/16:0(OH))**'),\n",
    " ('Glucose', 'metabolonic lactone sulfate'),\n",
    " ('Glucose', 'ribitol'),\n",
    " ('Glucose', 'X - 14056'),\n",
    " ('Glucose', 'alpha-ketobutyrate'),\n",
    " ('Glucose', 'N-acetylleucine'),\n",
    " ('Glucose', 'taurine'),\n",
    " ('Glucose', 'N-stearoyl-sphinganine (d18:0/18:0)*'),\n",
    " ('Glucose', 'docosapentaenoate (n6 DPA; 22:5n6)'),\n",
    " ('Glucose', '1-dihomo-linoleoyl-GPC (20:2)*'),\n",
    " ('Glucose', '5-hydroxylysine'),\n",
    " ('Glucose', 'hydantoin-5-propionate'),\n",
    " ('Glucose', 'X - 21829'),\n",
    " ('Glucose', '2-hydroxydecanoate'),\n",
    " ('Glucose', '3-methyl-2-oxobutyrate'),\n",
    " ('Glucose', 'asparagine'),\n",
    " ('Glucose', '4-methyl-2-oxopentanoate'),\n",
    " ('Glucose', 'glutamate'),\n",
    " ('Glucose', 'palmitoyl-oleoyl-glycerol (16:0/18:1) [1]*'),\n",
    " ('Glucose', 'N-acetylaspartate (NAA)'),\n",
    " ('Glucose', 'mannose'),\n",
    " ('Glucose', '3-hydroxy-2-ethylpropionate'),\n",
    " ('Glucose', '1-linoleoyl-GPC (18:2)'),\n",
    " ('Glucose', 'margarate (17:0)'),\n",
    " ('Glucose', '1-carboxyethylvaline'),\n",
    " ('Glucose', 'palmitoyl-arachidonoyl-glycerol (16:0/20:4) [2]*'),\n",
    " ('Glucose', 'gamma-glutamylglutamine'),\n",
    " ('Glucose', 'isoleucine'),\n",
    " ('Glucose', 'oleoyl-arachidonoyl-glycerol (18:1/20:4) [1]*'),\n",
    " ('Glucose', 'docosadienoate (22:2n6)'),\n",
    " ('Triglycerides', 'indolepropionate'),\n",
    " ('Triglycerides', '(16 or 17)-methylstearate (a19:0 or i19:0)'),\n",
    " ('HbA1c', 'deoxycholic acid 12-sulfate*'),\n",
    " ('HbA1c', 'palmitate (16:0)'),\n",
    " ('HbA1c', '1-carboxyethylleucine'),\n",
    " ('HbA1c', '1-arachidonoyl-GPC (20:4n6)*'),\n",
    " ('HbA1c', 'X - 23639'),\n",
    " ('HbA1c', 'glucose'),\n",
    " ('HbA1c', 'beta-cryptoxanthin'),\n",
    " ('HbA1c', 'sphingomyelin (d18:1/22:1, d18:2/22:0, d16:1/24:1)*'),\n",
    " ('HbA1c', 'glycodeoxycholate 3-sulfate'),\n",
    " ('HbA1c', '1-eicosenoyl-GPC (20:1)*'),\n",
    " ('HbA1c', 'valine'),\n",
    " ('HbA1c', '1-docosapentaenoyl-GPC (22:5n3)*'),\n",
    " ('HbA1c', '1-oleoyl-GPC (18:1)'),\n",
    " ('HbA1c', 'arachidonoylcholine'),\n",
    " ('HbA1c', 'X - 24337'),\n",
    " ('HbA1c', 'dihomo-linoleate (20:2n6)'),\n",
    " ('HbA1c', 'linoleoylcholine*'),\n",
    " ('HbA1c', 'glutamine conjugate of C6H10O2 (1)*'),\n",
    " ('HbA1c', 'sphingomyelin (d18:1/24:1, d18:2/24:0)*'),\n",
    " ('HbA1c', '1-(1-enyl-palmitoyl)-GPC (P-16:0)*'),\n",
    " ('HbA1c', 'glutamine'),\n",
    " ('HbA1c', '(R)-3-hydroxybutyrylcarnitine'),\n",
    " ('HbA1c', 'glycerate'),\n",
    " ('HbA1c', 'aspartate'),\n",
    " ('HbA1c', '1-linoleoyl-2-docosahexaenoyl-GPC (18:2/22:6)*'),\n",
    " ('HbA1c', '1,5-anhydroglucitol (1,5-AG)'),\n",
    " ('HbA1c', 'oxalate (ethanedioate)'),\n",
    " ('HbA1c', 'hexanoylglutamine'),\n",
    " ('HbA1c', '(S)-3-hydroxybutyrylcarnitine'),\n",
    " ('HbA1c', 'alpha-ketoglutarate'),\n",
    " ('HbA1c', 'palmitoyl-linoleoyl-glycerol (16:0/18:2) [2]*'),\n",
    " ('HbA1c', '10-nonadecenoate (19:1n9)'),\n",
    " ('HbA1c', 'adrenate (22:4n6)'),\n",
    " ('HbA1c', '3-hydroxyisobutyrate'),\n",
    " ('HbA1c', '2-hydroxybutyrate/2-hydroxyisobutyrate'),\n",
    " ('HbA1c', 'glutamine conjugate of C7H12O2*'),\n",
    " ('HbA1c', 'X - 11315'),\n",
    " ('HbA1c', 'gamma-glutamylisoleucine*'),\n",
    " ('HbA1c', 'palmitoyl-linoleoyl-glycerol (16:0/18:2) [1]*'),\n",
    " ('HbA1c', '4-allylphenol sulfate'),\n",
    " ('HbA1c', '3-methyl-2-oxovalerate'),\n",
    " ('HbA1c', 'linoleoyl-arachidonoyl-glycerol (18:2/20:4) [1]*'),\n",
    " ('HbA1c', 'aconitate [cis or trans]'),\n",
    " ('HbA1c', 'glycodeoxycholate'),\n",
    " ('HbA1c', 'gamma-glutamylleucine'),\n",
    " ('HbA1c', 'linoleate (18:2n6)'),\n",
    " ('HbA1c', 'linoleoyl-linoleoyl-glycerol (18:2/18:2) [1]*'),\n",
    " ('HbA1c', 'leucine'),\n",
    " ('HbA1c', 'X - 19438'),\n",
    " ('HbA1c', 'lactate'),\n",
    " ('HbA1c', 'gluconate'),\n",
    " ('HbA1c', 'fructose'),\n",
    " ('HbA1c', 'pyruvate'),\n",
    " ('HbA1c', '1-carboxyethylphenylalanine'),\n",
    " ('HbA1c', 'tartronate (hydroxymalonate)'),\n",
    " ('HbA1c', 'stearate (18:0)'),\n",
    " ('HbA1c', 'oleate/vaccenate (18:1)'),\n",
    " ('HbA1c', '1-(1-enyl-palmitoyl)-2-linoleoyl-GPC (P-16:0/18:2)*'),\n",
    " ('HbA1c', '1-(1-enyl-palmitoyl)-2-oleoyl-GPC (P-16:0/18:1)*'),\n",
    " ('HbA1c', 'palmitoylcholine'),\n",
    " ('HbA1c', 'maleate'),\n",
    " ('HbA1c', '3-hydroxyoctanoate'),\n",
    " ('HbA1c', 'X - 24295'),\n",
    " ('HbA1c', 'eicosenoate (20:1)'),\n",
    " ('HbA1c', 'metabolonic lactone sulfate'),\n",
    " ('HbA1c', 'X - 14056'),\n",
    " ('HbA1c', 'alpha-ketobutyrate'),\n",
    " ('HbA1c', '3-indoleglyoxylic acid'),\n",
    " ('HbA1c', 'N-acetylleucine'),\n",
    " ('HbA1c', '6-oxopiperidine-2-carboxylate'),\n",
    " ('HbA1c', 'taurine'),\n",
    " ('HbA1c', 'gamma-CEHC'),\n",
    " ('HbA1c', 'docosapentaenoate (n6 DPA; 22:5n6)'),\n",
    " ('HbA1c', 'X - 21339'),\n",
    " ('HbA1c', 'beta-hydroxyisovalerate'),\n",
    " ('HbA1c', 'gamma-glutamylvaline'),\n",
    " ('HbA1c', '1-dihomo-linoleoyl-GPC (20:2)*'),\n",
    " ('HbA1c', 'N-acetylglutamate'),\n",
    " ('HbA1c', 'N-acetylvaline'),\n",
    " ('HbA1c', 'X - 21829'),\n",
    " ('HbA1c', 'N-delta-acetylornithine'),\n",
    " ('HbA1c', '3-methyl-2-oxobutyrate'),\n",
    " ('HbA1c', 'glutamate'),\n",
    " ('HbA1c', 'N-acetylaspartate (NAA)'),\n",
    " ('HbA1c', 'mannose'),\n",
    " ('HbA1c', '3-hydroxy-2-ethylpropionate'),\n",
    " ('HbA1c', 'sphingomyelin (d18:2/24:1, d18:1/24:2)*'),\n",
    " ('HbA1c', '1-linoleoyl-GPC (18:2)'),\n",
    " ('HbA1c', 'X - 16935'),\n",
    " ('HbA1c', 'margarate (17:0)'),\n",
    " ('HbA1c', '1-carboxyethylvaline'),\n",
    " ('HbA1c', '3beta-hydroxy-5-cholestenoate'),\n",
    " ('HbA1c', 'palmitoyl-arachidonoyl-glycerol (16:0/20:4) [2]*'),\n",
    " ('HbA1c', 'gamma-glutamylglutamine'),\n",
    " ('HbA1c', 'isoleucine'),\n",
    " ('HbA1c', 'docosadienoate (22:2n6)'),\n",
    " ('HbA1c', 'proline'),\n",
    " ('Haemoglobin', '2,3-dihydroxy-5-methylthio-4-pentenoate (DMTPA)*'),\n",
    " ('Haemoglobin', 'X - 12007'),\n",
    " ('Haemoglobin', 'pregnenetriol disulfate*'),\n",
    " ('Haemoglobin', '1-methyl-5-imidazoleacetate'),\n",
    " ('Haemoglobin', 'creatine'),\n",
    " ('Haemoglobin', 'pyroglutamine*'),\n",
    " ('LDL', 'valine'),\n",
    " ('eGFR', '1-ribosyl-imidazoleacetate*'),\n",
    " ('HDL', '1-(1-enyl-palmitoyl)-2-palmitoleoyl-GPC (P-16:0/16:1)*'),\n",
    " ('HDL', '1-palmityl-2-linoleoyl-GPC (O-16:0/18:2)*'),\n",
    " ('HDL', 'palmitoyl-linoleoyl-glycerol (16:0/18:2) [2]*'),\n",
    " ('HDL', '1-palmityl-2-oleoyl-GPC (O-16:0/18:1)*'),\n",
    " ('HDL', '1-(1-enyl-palmitoyl)-2-myristoyl-GPC (P-16:0/14:0)*'),\n",
    " ('HDL', '1-(1-enyl-palmitoyl)-2-oleoyl-GPC (P-16:0/18:1)*'),\n",
    " ('Urate', 'valine'),\n",
    " ('Urate', '1-stearoyl-2-linoleoyl-GPI (18:0/18:2)'),\n",
    " ('Urate', '1-palmitoyl-2-oleoyl-GPI (16:0/18:1)*'),\n",
    " ('Creatinine', '1-methyl-4-imidazoleacetate'),\n",
    " ('Creatinine', '1-ribosyl-imidazoleacetate*'),\n",
    " ('Creatinine', 'X - 17351'),\n",
    " ('Creatinine', 'X - 21821')]"
   ]
  },
  {
   "cell_type": "markdown",
   "id": "9b815426-f922-4a9a-b16b-60d8fc6fedc0",
   "metadata": {},
   "source": [
    "# Run glms"
   ]
  },
  {
   "cell_type": "markdown",
   "id": "6af9cf81-a78b-4712-9417-85f048236d44",
   "metadata": {},
   "source": [
    "### E2"
   ]
  },
  {
   "cell_type": "code",
   "execution_count": null,
   "id": "3b4b9e9a-8cee-4a84-87b1-f3e66a38c012",
   "metadata": {},
   "outputs": [],
   "source": [
    "# this is edited slightly for each group (E2, E4, bio young, bio old)\n",
    "def run_interaction_analysis(screened_pairs, dat, analytes, chems, metabs, max_run=None):\n",
    "\n",
    "    print('Running {} pairs'.format(len(screened_pairs)))\n",
    "         \n",
    "    count = 0 \n",
    "    done = 0\n",
    "    skipped = 0\n",
    "    completed = 0\n",
    "\n",
    "    results = []\n",
    "#     columns = list(dat.columns)\n",
    "\n",
    "    start_time = datetime.now()\n",
    "    for (col1, col2) in screened_pairs:\n",
    "        \n",
    "        if (col2 in metabs) == False:\n",
    "            print('{} not in TwinsUK metabs'.format(col2))\n",
    "            skipped += 1\n",
    "            continue\n",
    "            \n",
    "\n",
    "        # Default is gaussian\n",
    "        family_type = family.Gaussian()\n",
    "        family_type.link = links.identity()\n",
    "        family_name = 'Gaussian'\n",
    "        family_link = 'Identity'\n",
    "\n",
    "        # Covariance structure\n",
    "        cov = sm.cov_struct.Exchangeable()\n",
    "\n",
    "        sub = dat[['PublicID', col1, col2, 'Age', 'Sex', 'APOE_Status', 'Model_Health', 'Statin_User', 'BMI']].copy() #, 'MetBatch']].copy()\n",
    "        sub.dropna(subset = [col1,col2], inplace=True)\n",
    "        sub.drop_duplicates(subset = ['PublicID'], keep='first', inplace=True)\n",
    "        sub.rename(columns={col1:'analyte1'}, inplace=True)\n",
    "        sub.rename(columns={col2:'analyte2'}, inplace=True)\n",
    "\n",
    "        if (sub['analyte1'].skew() > 1.5) | (sub['analyte1'].skew() < -1.5):\n",
    "\n",
    "            #logger.info('Setting gamma family for skewed analyte %s'%(col))\n",
    "\n",
    "            # Set any zero values to 1/2 the smallest value\n",
    "            sub.loc[sub['analyte1']==0, 'analyte1'] = (sub.loc[sub['analyte1']>0, 'analyte1'].min() / 2.0)\n",
    "\n",
    "            family_type = family.Gamma()\n",
    "            family_type.link = links.log()\n",
    "            family_name = 'Gamma'\n",
    "            family_link = 'Log'\n",
    "            \n",
    "            # print('Used Gamma family with Log link for analytes {} {}'.format(col1, col2))\n",
    "\n",
    "        try:\n",
    "            \n",
    "            ols_model = 'analyte1 ~ analyte2*C(APOE_Status, Treatment(reference=1)) + Age + BMI + Statin_User' # + MetBatch'\n",
    "            # ols_model = 'analyte1 ~ analyte2*C(APOE_Status) + Age + BMI + Statin_User'\n",
    "            # ols_model = 'analyte1 ~ analyte2*C(Model_Health) + Age + BMI + Statin_User'\n",
    "            # ols_model = 'analyte1 ~ analyte2*C(Model_Health) + Age + BMI + Statin_User'\n",
    "            #\n",
    "            \n",
    "            fitted_model = smf.glm(ols_model, data=sub, family=family_type, missing='drop').fit(maxiter=2000)\n",
    "            result_to_append = (col1, col2, len(fitted_model.fittedvalues), fitted_model.converged, *fitted_model.params, *fitted_model.pvalues)\n",
    "            if len(result_to_append) == 18:\n",
    "                # make sure that each coefficient is represented in the model, avoid an error at the end\n",
    "                fitted_model_to_use = fitted_model\n",
    "                results.append(result_to_append)\n",
    "            else:\n",
    "                print('Failed analytes {} {}: not all coefficients were represented'.format(col1, col2))\n",
    "                skipped += 1\n",
    "\n",
    "        except Exception as e:\n",
    "            print('Failed analytes {} {} with error {}'.format(col1, col2, str(e)))\n",
    "            skipped += 1\n",
    "\n",
    "        count += 1\n",
    "        if (max_run is not None) and (count >= max_run):\n",
    "            break\n",
    "        \n",
    "        if (count % 1000) == 0:\n",
    "\n",
    "            elapsed_time = datetime.now() - start_time    \n",
    "            print('Finished {} in {:.3f} seconds (skipped {})'.format(count, elapsed_time.total_seconds(), skipped))\n",
    "      \n",
    "    elapsed_time = datetime.now() - start_time    \n",
    "    print('Complete! Yay! Finished {} in {:.3f} seconds (skipped {})'.format(count, elapsed_time.total_seconds(), skipped))\n",
    "    \n",
    "    df = pd.DataFrame(results, columns=['col1', 'col2', 'n', 'converged', *fitted_model_to_use.params.index, *[str(x)+'_p' for x in fitted_model_to_use.pvalues.index]])\n",
    "    \n",
    "    df.sort_values(['analyte2:C(APOE_Status, Treatment(reference=1))[T.E2]_p'], ascending=True, inplace=True)\n",
    "    np.seterr(all='warn')\n",
    "    (adj_pval_index, adj_pval, _, _) = statsmodels.sandbox.stats.multicomp.multipletests(df.loc[~df['analyte2:C(APOE_Status, Treatment(reference=1))[T.E2]_p'].isnull(), 'analyte2:C(APOE_Status, Treatment(reference=1))[T.E2]_p'], alpha=0.05, method='fdr_bh')\n",
    "    df.loc[~df['analyte2:C(APOE_Status, Treatment(reference=1))[T.E2]_p'].isnull(), 'pval_adj'] = adj_pval\n",
    "    df.sort_values(['pval_adj'], ascending=True, inplace=True)\n",
    "    \n",
    "#     df.sort_values(['analyte2:C(APOE_Status)[T.E4]_p'], ascending=True, inplace=True)\n",
    "#     np.seterr(all='warn')\n",
    "#     (adj_pval_index, adj_pval, _, _) = statsmodels.sandbox.stats.multicomp.multipletests(df.loc[~df['analyte2:C(APOE_Status)[T.E4]_p'].isnull(), 'analyte2:C(APOE_Status)[T.E4]_p'], alpha=0.05, method='fdr_bh')\n",
    "#     df.loc[~df['analyte2:C(APOE_Status)[T.E4]_p'].isnull(), 'pval_adj'] = adj_pval\n",
    "#     df.sort_values(['pval_adj'], ascending=True, inplace=True)\n",
    "    \n",
    "#     df.sort_values(['analyte2:C(Model_Health)[T.Bio_Old]_p'], ascending=True, inplace=True)\n",
    "#     np.seterr(all='warn')\n",
    "#     (adj_pval_index, adj_pval, _, _) = statsmodels.sandbox.stats.multicomp.multipletests(df.loc[~df['analyte2:C(Model_Health)[T.Bio_Old]_p'].isnull(), 'analyte2:C(Model_Health)[T.Bio_Old]_p'], alpha=0.05, method='fdr_bh')\n",
    "#     df.loc[~df['analyte2:C(Model_Health)[T.Bio_Old]_p'].isnull(), 'pval_adj'] = adj_pval\n",
    "#     df.sort_values(['pval_adj'], ascending=True, inplace=True)\n",
    "\n",
    "    # df.sort_values(['analyte2:C(Model_Health)[T.Bio_Young]_p'], ascending=True, inplace=True)\n",
    "    # np.seterr(all='warn')\n",
    "    # (adj_pval_index, adj_pval, _, _) = statsmodels.sandbox.stats.multicomp.multipletests(df.loc[~df['analyte2:C(Model_Health)[T.Bio_Young]_p'].isnull(), 'analyte2:C(Model_Health)[T.Bio_Young]_p'], alpha=0.05, method='fdr_bh')\n",
    "    # df.loc[~df['analyte2:C(Model_Health)[T.Bio_Young]_p'].isnull(), 'pval_adj'] = adj_pval\n",
    "    # df.sort_values(['pval_adj'], ascending=True, inplace=True)\n",
    "    \n",
    "    return df"
   ]
  },
  {
   "cell_type": "markdown",
   "id": "a1a7f5c5-3f36-4be6-9935-7e0955a0f85d",
   "metadata": {},
   "source": [
    "### E2 female"
   ]
  },
  {
   "cell_type": "code",
   "execution_count": null,
   "id": "0b08f6dc-f43f-4fdd-9407-1b207269f5f2",
   "metadata": {},
   "outputs": [],
   "source": [
    "import sys\n",
    "sys.stdout = open(\"240806_log_FE2.txt\", \"a\")"
   ]
  },
  {
   "cell_type": "code",
   "execution_count": null,
   "id": "76c5c04b-f746-4a05-8ca8-500f3680a762",
   "metadata": {},
   "outputs": [],
   "source": [
    "print('log open')"
   ]
  },
  {
   "cell_type": "code",
   "execution_count": null,
   "id": "f748e660-313b-488c-998d-c7ac2cb6b181",
   "metadata": {},
   "outputs": [],
   "source": [
    "temp_valid_list = list(set(valid_test+FE2_valid_list))"
   ]
  },
  {
   "cell_type": "code",
   "execution_count": null,
   "id": "5145935b-b6e7-4b44-91b2-31ecba1533e5",
   "metadata": {},
   "outputs": [],
   "source": [
    "interact_glm_FE2_compare = run_interaction_analysis(temp_valid_list, df_FE2, analytes, chem_list, metab_list)"
   ]
  },
  {
   "cell_type": "code",
   "execution_count": null,
   "id": "a4e5c573-7fbe-44ea-9f2c-b965f5f5f824",
   "metadata": {},
   "outputs": [],
   "source": [
    "interact_glm_FE2_compare.head(n=5)"
   ]
  },
  {
   "cell_type": "code",
   "execution_count": null,
   "id": "65a44ac7-32f4-4d4b-b60f-7d38a56e66d6",
   "metadata": {},
   "outputs": [],
   "source": [
    "# interact_glm_FE2_compare.to_csv('/notebooks/Final_Paper/240423_Investigate_Redo_Interactions/Validation_Folder/output/240806_TwinsUK_FE2_5SD_valid_interact.csv')"
   ]
  },
  {
   "cell_type": "code",
   "execution_count": null,
   "id": "73aedd5c-1d04-455d-9067-0fe2e5543be0",
   "metadata": {},
   "outputs": [],
   "source": [
    "temp1 = interact_glm_FE2_compare.copy()\n",
    "temp2 = FE2_valid_list.copy()\n",
    "\n",
    "col1_list = []\n",
    "col2_list = []\n",
    "\n",
    "for (col1, col2) in temp2:\n",
    "    col1_list.append(col1)\n",
    "    col2_list.append(col2)\n",
    "    \n",
    "for i in temp1.index:\n",
    "    if temp1.col1[i] not in col1_list or temp1.col2[i] not in col2_list:\n",
    "        temp1.drop(i,inplace=True)\n",
    "\n",
    "s = [0,1,2,8,15,18]\n",
    "\n",
    "temp1[list(np.array(temp1.columns[s]))]"
   ]
  },
  {
   "cell_type": "markdown",
   "id": "b089a012-cada-4960-857f-c57adadbf27b",
   "metadata": {},
   "source": [
    "### E2 male"
   ]
  },
  {
   "cell_type": "code",
   "execution_count": null,
   "id": "2e98de7b-a81e-4601-820b-a74fa29d8fcd",
   "metadata": {},
   "outputs": [],
   "source": [
    "import sys\n",
    "sys.stdout = open(\"240806_log_ME2.txt\", \"a\")"
   ]
  },
  {
   "cell_type": "code",
   "execution_count": null,
   "id": "c851e142-4b4d-494a-bf65-f43e34e3ecbf",
   "metadata": {},
   "outputs": [],
   "source": [
    "temp_valid_list = list(set(valid_test+ME2_valid_list))"
   ]
  },
  {
   "cell_type": "code",
   "execution_count": null,
   "id": "c8035ba9-3234-4d83-b5d4-bb53c5c650fb",
   "metadata": {},
   "outputs": [],
   "source": [
    "interact_glm_ME2_compare = run_interaction_analysis(temp_valid_list, df_ME2, analytes, chem_list, metab_list)"
   ]
  },
  {
   "cell_type": "code",
   "execution_count": null,
   "id": "39d389ad-7367-4da1-bbe4-fa6a82751c0e",
   "metadata": {},
   "outputs": [],
   "source": [
    "# interact_glm_ME2_compare.to_csv('/notebooks/Final_Paper/240423_Investigate_Redo_Interactions/Validation_Folder/output/240806_TwinsUK_ME2_5SD_valid_interact.csv')"
   ]
  },
  {
   "cell_type": "markdown",
   "id": "36d31881-a187-44be-ade0-560db8ce8a9a",
   "metadata": {},
   "source": [
    "### E4"
   ]
  },
  {
   "cell_type": "code",
   "execution_count": null,
   "id": "2d552455-c0a3-4648-8776-eaf2025485e8",
   "metadata": {},
   "outputs": [],
   "source": [
    "# this is edited slightly for each group (E2, E4, bio young, bio old)\n",
    "def run_interaction_analysis(screened_pairs, dat, analytes, chems, metabs, max_run=None):\n",
    "\n",
    "    print('Running {} pairs'.format(len(screened_pairs)))\n",
    "         \n",
    "    count = 0 \n",
    "    done = 0\n",
    "    skipped = 0\n",
    "    completed = 0\n",
    "\n",
    "    results = []\n",
    "#     columns = list(dat.columns)\n",
    "\n",
    "    start_time = datetime.now()\n",
    "    for (col1, col2) in screened_pairs:\n",
    "        \n",
    "        if (col2 in metabs) == False:\n",
    "            print('{} not in TwinsUK metabs'.format(col2))\n",
    "            skipped += 1\n",
    "            continue\n",
    "            \n",
    "\n",
    "        # Default is gaussian\n",
    "        family_type = family.Gaussian()\n",
    "        family_type.link = links.identity()\n",
    "        family_name = 'Gaussian'\n",
    "        family_link = 'Identity'\n",
    "\n",
    "        # Covariance structure\n",
    "        cov = sm.cov_struct.Exchangeable()\n",
    "\n",
    "        sub = dat[['PublicID', col1, col2, 'Age', 'Sex', 'APOE_Status', 'Model_Health', 'Statin_User', 'BMI']].copy() #, 'MetBatch']].copy()\n",
    "        sub.dropna(subset = [col1,col2], inplace=True)\n",
    "        sub.drop_duplicates(subset = ['PublicID'], keep='first', inplace=True)\n",
    "        sub.rename(columns={col1:'analyte1'}, inplace=True)\n",
    "        sub.rename(columns={col2:'analyte2'}, inplace=True)\n",
    "\n",
    "        if (sub['analyte1'].skew() > 1.5) | (sub['analyte1'].skew() < -1.5):\n",
    "\n",
    "            #logger.info('Setting gamma family for skewed analyte %s'%(col))\n",
    "\n",
    "            # Set any zero values to 1/2 the smallest value\n",
    "            sub.loc[sub['analyte1']==0, 'analyte1'] = (sub.loc[sub['analyte1']>0, 'analyte1'].min() / 2.0)\n",
    "\n",
    "            family_type = family.Gamma()\n",
    "            family_type.link = links.log()\n",
    "            family_name = 'Gamma'\n",
    "            family_link = 'Log'\n",
    "            \n",
    "            # print('Used Gamma family with Log link for analytes {} {}'.format(col1, col2))\n",
    "\n",
    "        try:\n",
    "            \n",
    "            # ols_model = 'analyte1 ~ analyte2*C(APOE_Status, Treatment(reference=1)) + Age + BMI + Statin_User' # + MetBatch'\n",
    "            ols_model = 'analyte1 ~ analyte2*C(APOE_Status) + Age + BMI + Statin_User'\n",
    "            # ols_model = 'analyte1 ~ analyte2*C(Model_Health) + Age + BMI + Statin_User'\n",
    "            # ols_model = 'analyte1 ~ analyte2*C(Model_Health) + Age + BMI + Statin_User'\n",
    "            #\n",
    "            \n",
    "            fitted_model = smf.glm(ols_model, data=sub, family=family_type, missing='drop').fit(maxiter=2000)\n",
    "            result_to_append = (col1, col2, len(fitted_model.fittedvalues), fitted_model.converged, *fitted_model.params, *fitted_model.pvalues)\n",
    "            if len(result_to_append) == 18:\n",
    "                # make sure that each coefficient is represented in the model, avoid an error at the end\n",
    "                fitted_model_to_use = fitted_model\n",
    "                results.append(result_to_append)\n",
    "            else:\n",
    "                print('Failed analytes {} {}: not all coefficients were represented'.format(col1, col2))\n",
    "                skipped += 1\n",
    "\n",
    "        except Exception as e:\n",
    "            print('Failed analytes {} {} with error {}'.format(col1, col2, str(e)))\n",
    "            skipped += 1\n",
    "\n",
    "        count += 1\n",
    "        if (max_run is not None) and (count >= max_run):\n",
    "            break\n",
    "        \n",
    "        if (count % 1000) == 0:\n",
    "\n",
    "            elapsed_time = datetime.now() - start_time    \n",
    "            print('Finished {} in {:.3f} seconds (skipped {})'.format(count, elapsed_time.total_seconds(), skipped))\n",
    "      \n",
    "    elapsed_time = datetime.now() - start_time    \n",
    "    print('Complete! Yay! Finished {} in {:.3f} seconds (skipped {})'.format(count, elapsed_time.total_seconds(), skipped))\n",
    "    \n",
    "    df = pd.DataFrame(results, columns=['col1', 'col2', 'n', 'converged', *fitted_model_to_use.params.index, *[str(x)+'_p' for x in fitted_model_to_use.pvalues.index]])\n",
    "    \n",
    "#     df.sort_values(['analyte2:C(APOE_Status, Treatment(reference=1))[T.E2]_p'], ascending=True, inplace=True)\n",
    "#     np.seterr(all='warn')\n",
    "#     (adj_pval_index, adj_pval, _, _) = statsmodels.sandbox.stats.multicomp.multipletests(df.loc[~df['analyte2:C(APOE_Status, Treatment(reference=1))[T.E2]_p'].isnull(), 'analyte2:C(APOE_Status, Treatment(reference=1))[T.E2]_p'], alpha=0.05, method='fdr_bh')\n",
    "#     df.loc[~df['analyte2:C(APOE_Status, Treatment(reference=1))[T.E2]_p'].isnull(), 'pval_adj'] = adj_pval\n",
    "#     df.sort_values(['pval_adj'], ascending=True, inplace=True)\n",
    "    \n",
    "    df.sort_values(['analyte2:C(APOE_Status)[T.E4]_p'], ascending=True, inplace=True)\n",
    "    np.seterr(all='warn')\n",
    "    (adj_pval_index, adj_pval, _, _) = statsmodels.sandbox.stats.multicomp.multipletests(df.loc[~df['analyte2:C(APOE_Status)[T.E4]_p'].isnull(), 'analyte2:C(APOE_Status)[T.E4]_p'], alpha=0.05, method='fdr_bh')\n",
    "    df.loc[~df['analyte2:C(APOE_Status)[T.E4]_p'].isnull(), 'pval_adj'] = adj_pval\n",
    "    df.sort_values(['pval_adj'], ascending=True, inplace=True)\n",
    "    \n",
    "#     df.sort_values(['analyte2:C(Model_Health)[T.Bio_Old]_p'], ascending=True, inplace=True)\n",
    "#     np.seterr(all='warn')\n",
    "#     (adj_pval_index, adj_pval, _, _) = statsmodels.sandbox.stats.multicomp.multipletests(df.loc[~df['analyte2:C(Model_Health)[T.Bio_Old]_p'].isnull(), 'analyte2:C(Model_Health)[T.Bio_Old]_p'], alpha=0.05, method='fdr_bh')\n",
    "#     df.loc[~df['analyte2:C(Model_Health)[T.Bio_Old]_p'].isnull(), 'pval_adj'] = adj_pval\n",
    "#     df.sort_values(['pval_adj'], ascending=True, inplace=True)\n",
    "\n",
    "    # df.sort_values(['analyte2:C(Model_Health)[T.Bio_Young]_p'], ascending=True, inplace=True)\n",
    "    # np.seterr(all='warn')\n",
    "    # (adj_pval_index, adj_pval, _, _) = statsmodels.sandbox.stats.multicomp.multipletests(df.loc[~df['analyte2:C(Model_Health)[T.Bio_Young]_p'].isnull(), 'analyte2:C(Model_Health)[T.Bio_Young]_p'], alpha=0.05, method='fdr_bh')\n",
    "    # df.loc[~df['analyte2:C(Model_Health)[T.Bio_Young]_p'].isnull(), 'pval_adj'] = adj_pval\n",
    "    # df.sort_values(['pval_adj'], ascending=True, inplace=True)\n",
    "    \n",
    "    return df"
   ]
  },
  {
   "cell_type": "markdown",
   "id": "cd6c409d-199d-41ee-b440-9af8665320a9",
   "metadata": {},
   "source": [
    "### E4 female"
   ]
  },
  {
   "cell_type": "code",
   "execution_count": null,
   "id": "9dd44b7a-2d64-42eb-bcf0-cc4fe3713181",
   "metadata": {},
   "outputs": [],
   "source": [
    "import sys\n",
    "sys.stdout = open(\"240806_log_FE4.txt\", \"a\")"
   ]
  },
  {
   "cell_type": "code",
   "execution_count": null,
   "id": "2d557a31-df7f-43c8-a3cc-94433e063cd7",
   "metadata": {},
   "outputs": [],
   "source": [
    "temp_valid_list = list(set(valid_test+FE4_valid_list))"
   ]
  },
  {
   "cell_type": "code",
   "execution_count": null,
   "id": "9624e2ca-a65c-4c84-a068-e8f2bfa0b75f",
   "metadata": {},
   "outputs": [],
   "source": [
    "interact_glm_FE4_compare = run_interaction_analysis(temp_valid_list, df_FE4, analytes, chem_list, metab_list)"
   ]
  },
  {
   "cell_type": "code",
   "execution_count": null,
   "id": "f93ba1a3-f9cd-46c6-9bdd-f4d4878e21c9",
   "metadata": {},
   "outputs": [],
   "source": [
    "# interact_glm_FE4_compare.to_csv('/notebooks/Final_Paper/240423_Investigate_Redo_Interactions/Validation_Folder/output/240806_TwinsUK_FE4_5SD_valid_interact.csv')"
   ]
  },
  {
   "cell_type": "markdown",
   "id": "e5841587-6c78-4772-a5ab-c92839d33447",
   "metadata": {},
   "source": [
    "### E4 male"
   ]
  },
  {
   "cell_type": "code",
   "execution_count": null,
   "id": "fb05ac26-6935-4d17-b781-810e4a0c0014",
   "metadata": {},
   "outputs": [],
   "source": [
    "import sys\n",
    "sys.stdout = open(\"240806_log_ME4.txt\", \"a\")"
   ]
  },
  {
   "cell_type": "code",
   "execution_count": null,
   "id": "742047ff-809a-4de9-b384-4e86dd73b5a2",
   "metadata": {},
   "outputs": [],
   "source": [
    "temp_valid_list = list(set(valid_test+ME4_valid_list))"
   ]
  },
  {
   "cell_type": "code",
   "execution_count": null,
   "id": "f924a7e7-3317-4e11-bfdd-dd5b5978bae5",
   "metadata": {},
   "outputs": [],
   "source": [
    "interact_glm_ME4_compare = run_interaction_analysis(temp_valid_list, df_ME4, analytes, chem_list, metab_list)"
   ]
  },
  {
   "cell_type": "code",
   "execution_count": null,
   "id": "cc043b23-0c27-498f-ac19-0cf7750fcda1",
   "metadata": {},
   "outputs": [],
   "source": [
    "# interact_glm_ME4_compare.to_csv('/notebooks/Final_Paper/240423_Investigate_Redo_Interactions/Validation_Folder/output/240806_TwinsUK_ME4_5SD_valid_interact.csv')"
   ]
  },
  {
   "cell_type": "markdown",
   "id": "bf44d0a7-8912-426b-b560-56b28217ffa6",
   "metadata": {},
   "source": [
    "### Bio Young"
   ]
  },
  {
   "cell_type": "code",
   "execution_count": null,
   "id": "1d7102be-f3dd-4762-ad82-039960864e75",
   "metadata": {},
   "outputs": [],
   "source": [
    "# this is edited slightly for each group (E2, E4, bio young, bio old)\n",
    "def run_interaction_analysis(screened_pairs, dat, analytes, chems, metabs, max_run=None):\n",
    "\n",
    "    print('Running {} pairs'.format(len(screened_pairs)))\n",
    "         \n",
    "    count = 0 \n",
    "    done = 0\n",
    "    skipped = 0\n",
    "    completed = 0\n",
    "\n",
    "    results = []\n",
    "#     columns = list(dat.columns)\n",
    "\n",
    "    start_time = datetime.now()\n",
    "    for (col1, col2) in screened_pairs:\n",
    "        \n",
    "        if (col2 in metabs) == False:\n",
    "            print('{} not in TwinsUK metabs'.format(col2))\n",
    "            skipped += 1\n",
    "            continue\n",
    "            \n",
    "\n",
    "        # Default is gaussian\n",
    "        family_type = family.Gaussian()\n",
    "        family_type.link = links.identity()\n",
    "        family_name = 'Gaussian'\n",
    "        family_link = 'Identity'\n",
    "\n",
    "        # Covariance structure\n",
    "        cov = sm.cov_struct.Exchangeable()\n",
    "\n",
    "        sub = dat[['PublicID', col1, col2, 'Age', 'Sex', 'APOE_Status', 'Model_Health', 'Statin_User', 'BMI']].copy() #, 'MetBatch']].copy()\n",
    "        sub.dropna(subset = [col1,col2], inplace=True)\n",
    "        sub.drop_duplicates(subset = ['PublicID'], keep='first', inplace=True)\n",
    "        sub.rename(columns={col1:'analyte1'}, inplace=True)\n",
    "        sub.rename(columns={col2:'analyte2'}, inplace=True)\n",
    "\n",
    "        if (sub['analyte1'].skew() > 1.5) | (sub['analyte1'].skew() < -1.5):\n",
    "\n",
    "            #logger.info('Setting gamma family for skewed analyte %s'%(col))\n",
    "\n",
    "            # Set any zero values to 1/2 the smallest value\n",
    "            sub.loc[sub['analyte1']==0, 'analyte1'] = (sub.loc[sub['analyte1']>0, 'analyte1'].min() / 2.0)\n",
    "\n",
    "            family_type = family.Gamma()\n",
    "            family_type.link = links.log()\n",
    "            family_name = 'Gamma'\n",
    "            family_link = 'Log'\n",
    "            \n",
    "            # print('Used Gamma family with Log link for analytes {} {}'.format(col1, col2))\n",
    "\n",
    "        try:\n",
    "            \n",
    "            # ols_model = 'analyte1 ~ analyte2*C(APOE_Status, Treatment(reference=1)) + Age + BMI + Statin_User' # + MetBatch'\n",
    "            # ols_model = 'analyte1 ~ analyte2*C(APOE_Status) + Age + BMI + Statin_User'\n",
    "            ols_model = 'analyte1 ~ analyte2*C(Model_Health) + Age + BMI + Statin_User'\n",
    "            # ols_model = 'analyte1 ~ analyte2*C(Model_Health) + Age + BMI + Statin_User'\n",
    "            #\n",
    "            \n",
    "            fitted_model = smf.glm(ols_model, data=sub, family=family_type, missing='drop').fit(maxiter=2000)\n",
    "            result_to_append = (col1, col2, len(fitted_model.fittedvalues), fitted_model.converged, *fitted_model.params, *fitted_model.pvalues)\n",
    "            if len(result_to_append) == 18:\n",
    "                # make sure that each coefficient is represented in the model, avoid an error at the end\n",
    "                fitted_model_to_use = fitted_model\n",
    "                results.append(result_to_append)\n",
    "            else:\n",
    "                print('Failed analytes {} {}: not all coefficients were represented'.format(col1, col2))\n",
    "                skipped += 1\n",
    "\n",
    "        except Exception as e:\n",
    "            print('Failed analytes {} {} with error {}'.format(col1, col2, str(e)))\n",
    "            skipped += 1\n",
    "\n",
    "        count += 1\n",
    "        if (max_run is not None) and (count >= max_run):\n",
    "            break\n",
    "        \n",
    "        if (count % 1000) == 0:\n",
    "\n",
    "            elapsed_time = datetime.now() - start_time    \n",
    "            print('Finished {} in {:.3f} seconds (skipped {})'.format(count, elapsed_time.total_seconds(), skipped))\n",
    "      \n",
    "    elapsed_time = datetime.now() - start_time    \n",
    "    print('Complete! Yay! Finished {} in {:.3f} seconds (skipped {})'.format(count, elapsed_time.total_seconds(), skipped))\n",
    "    \n",
    "    df = pd.DataFrame(results, columns=['col1', 'col2', 'n', 'converged', *fitted_model_to_use.params.index, *[str(x)+'_p' for x in fitted_model_to_use.pvalues.index]])\n",
    "    \n",
    "#     df.sort_values(['analyte2:C(APOE_Status, Treatment(reference=1))[T.E2]_p'], ascending=True, inplace=True)\n",
    "#     np.seterr(all='warn')\n",
    "#     (adj_pval_index, adj_pval, _, _) = statsmodels.sandbox.stats.multicomp.multipletests(df.loc[~df['analyte2:C(APOE_Status, Treatment(reference=1))[T.E2]_p'].isnull(), 'analyte2:C(APOE_Status, Treatment(reference=1))[T.E2]_p'], alpha=0.05, method='fdr_bh')\n",
    "#     df.loc[~df['analyte2:C(APOE_Status, Treatment(reference=1))[T.E2]_p'].isnull(), 'pval_adj'] = adj_pval\n",
    "#     df.sort_values(['pval_adj'], ascending=True, inplace=True)\n",
    "    \n",
    "    # df.sort_values(['analyte2:C(APOE_Status)[T.E4]_p'], ascending=True, inplace=True)\n",
    "    # np.seterr(all='warn')\n",
    "    # (adj_pval_index, adj_pval, _, _) = statsmodels.sandbox.stats.multicomp.multipletests(df.loc[~df['analyte2:C(APOE_Status)[T.E4]_p'].isnull(), 'analyte2:C(APOE_Status)[T.E4]_p'], alpha=0.05, method='fdr_bh')\n",
    "    # df.loc[~df['analyte2:C(APOE_Status)[T.E4]_p'].isnull(), 'pval_adj'] = adj_pval\n",
    "    # df.sort_values(['pval_adj'], ascending=True, inplace=True)\n",
    "    \n",
    "    # df.sort_values(['analyte2:C(Model_Health)[T.Bio_Old]_p'], ascending=True, inplace=True)\n",
    "    # np.seterr(all='warn')\n",
    "    # (adj_pval_index, adj_pval, _, _) = statsmodels.sandbox.stats.multicomp.multipletests(df.loc[~df['analyte2:C(Model_Health)[T.Bio_Old]_p'].isnull(), 'analyte2:C(Model_Health)[T.Bio_Old]_p'], alpha=0.05, method='fdr_bh')\n",
    "    # df.loc[~df['analyte2:C(Model_Health)[T.Bio_Old]_p'].isnull(), 'pval_adj'] = adj_pval\n",
    "    # df.sort_values(['pval_adj'], ascending=True, inplace=True)\n",
    "\n",
    "    df.sort_values(['analyte2:C(Model_Health)[T.Bio_Young]_p'], ascending=True, inplace=True)\n",
    "    np.seterr(all='warn')\n",
    "    (adj_pval_index, adj_pval, _, _) = statsmodels.sandbox.stats.multicomp.multipletests(df.loc[~df['analyte2:C(Model_Health)[T.Bio_Young]_p'].isnull(), 'analyte2:C(Model_Health)[T.Bio_Young]_p'], alpha=0.05, method='fdr_bh')\n",
    "    df.loc[~df['analyte2:C(Model_Health)[T.Bio_Young]_p'].isnull(), 'pval_adj'] = adj_pval\n",
    "    df.sort_values(['pval_adj'], ascending=True, inplace=True)\n",
    "    \n",
    "    return df"
   ]
  },
  {
   "cell_type": "markdown",
   "id": "3dfaa92b-b897-4fd3-84a3-d2a321d2e2e4",
   "metadata": {},
   "source": [
    "### bio young female"
   ]
  },
  {
   "cell_type": "code",
   "execution_count": null,
   "id": "829577ab-db9e-4955-89bf-bfa6357107c5",
   "metadata": {},
   "outputs": [],
   "source": [
    "import sys\n",
    "sys.stdout = open(\"240806_log_Fhealth.txt\", \"a\")"
   ]
  },
  {
   "cell_type": "code",
   "execution_count": null,
   "id": "49f4809d-5b9e-495c-8baf-92eac061cfaa",
   "metadata": {},
   "outputs": [],
   "source": [
    "temp_valid_list = list(set(valid_test+Fhealth_valid_list))"
   ]
  },
  {
   "cell_type": "code",
   "execution_count": null,
   "id": "342f18ac-32f5-41d5-b9cf-350d13c9f5cd",
   "metadata": {},
   "outputs": [],
   "source": [
    "interact_glm_Fhealth_compare = run_interaction_analysis(temp_valid_list, df_Fhealth, analytes, chem_list, metab_list)"
   ]
  },
  {
   "cell_type": "code",
   "execution_count": null,
   "id": "45d5c17f-ba24-4e0f-86da-20045f14625a",
   "metadata": {},
   "outputs": [],
   "source": [
    "# interact_glm_Fhealth_compare.to_csv('/notebooks/Final_Paper/240423_Investigate_Redo_Interactions/Validation_Folder/output/240806_TwinsUK_Fhealth_5SD_valid_interact.csv')"
   ]
  },
  {
   "cell_type": "markdown",
   "id": "9808551d-09a6-40d9-a6f9-00a9721a6949",
   "metadata": {},
   "source": [
    "### bio young male"
   ]
  },
  {
   "cell_type": "code",
   "execution_count": null,
   "id": "3435c1b9-1702-4e19-a2ce-f28b38a08ede",
   "metadata": {},
   "outputs": [],
   "source": [
    "import sys\n",
    "sys.stdout = open(\"240806_log_Mhealth.txt\", \"a\")"
   ]
  },
  {
   "cell_type": "code",
   "execution_count": null,
   "id": "a19c5c45-aa9d-4a54-857b-daa5e1a082e1",
   "metadata": {},
   "outputs": [],
   "source": [
    "temp_valid_list = list(set(valid_test+Mhealth_valid_list))"
   ]
  },
  {
   "cell_type": "code",
   "execution_count": null,
   "id": "227aa76f-ecb0-46cf-80bb-ea902e65e47e",
   "metadata": {},
   "outputs": [],
   "source": [
    "interact_glm_Mhealth_compare = run_interaction_analysis(temp_valid_list, df_Mhealth, analytes, chem_list, metab_list)"
   ]
  },
  {
   "cell_type": "code",
   "execution_count": null,
   "id": "d37903ed-ea3b-49f4-a59c-de592981d1bd",
   "metadata": {},
   "outputs": [],
   "source": [
    "# interact_glm_Mhealth_compare.to_csv('/notebooks/Final_Paper/240423_Investigate_Redo_Interactions/Validation_Folder/output/240806_TwinsUK_Mhealth_5SD_valid_interact.csv')"
   ]
  },
  {
   "cell_type": "markdown",
   "id": "8557bb10-fc0f-42d4-8b56-fa3ace2c6fe2",
   "metadata": {},
   "source": [
    "### bio old"
   ]
  },
  {
   "cell_type": "code",
   "execution_count": null,
   "id": "8f3077ec-f525-4111-a1c6-8f68aec66e7f",
   "metadata": {},
   "outputs": [],
   "source": [
    "# this is edited slightly for each group (E2, E4, bio young, bio old)\n",
    "def run_interaction_analysis(screened_pairs, dat, analytes, chems, metabs, max_run=None):\n",
    "\n",
    "    print('Running {} pairs'.format(len(screened_pairs)))\n",
    "         \n",
    "    count = 0 \n",
    "    done = 0\n",
    "    skipped = 0\n",
    "    completed = 0\n",
    "\n",
    "    results = []\n",
    "#     columns = list(dat.columns)\n",
    "\n",
    "    start_time = datetime.now()\n",
    "    for (col1, col2) in screened_pairs:\n",
    "        \n",
    "        if (col2 in metabs) == False:\n",
    "            print('{} not in TwinsUK metabs'.format(col2))\n",
    "            skipped += 1\n",
    "            continue\n",
    "            \n",
    "\n",
    "        # Default is gaussian\n",
    "        family_type = family.Gaussian()\n",
    "        family_type.link = links.identity()\n",
    "        family_name = 'Gaussian'\n",
    "        family_link = 'Identity'\n",
    "\n",
    "        # Covariance structure\n",
    "        cov = sm.cov_struct.Exchangeable()\n",
    "\n",
    "        sub = dat[['PublicID', col1, col2, 'Age', 'Sex', 'APOE_Status', 'Model_Health', 'Statin_User', 'BMI']].copy() #, 'MetBatch']].copy()\n",
    "        sub.dropna(subset = [col1,col2], inplace=True)\n",
    "        sub.drop_duplicates(subset = ['PublicID'], keep='first', inplace=True)\n",
    "        sub.rename(columns={col1:'analyte1'}, inplace=True)\n",
    "        sub.rename(columns={col2:'analyte2'}, inplace=True)\n",
    "\n",
    "        if (sub['analyte1'].skew() > 1.5) | (sub['analyte1'].skew() < -1.5):\n",
    "\n",
    "            #logger.info('Setting gamma family for skewed analyte %s'%(col))\n",
    "\n",
    "            # Set any zero values to 1/2 the smallest value\n",
    "            sub.loc[sub['analyte1']==0, 'analyte1'] = (sub.loc[sub['analyte1']>0, 'analyte1'].min() / 2.0)\n",
    "\n",
    "            family_type = family.Gamma()\n",
    "            family_type.link = links.log()\n",
    "            family_name = 'Gamma'\n",
    "            family_link = 'Log'\n",
    "            \n",
    "            # print('Used Gamma family with Log link for analytes {} {}'.format(col1, col2))\n",
    "\n",
    "        try:\n",
    "            \n",
    "            # ols_model = 'analyte1 ~ analyte2*C(APOE_Status, Treatment(reference=1)) + Age + BMI + Statin_User' # + MetBatch'\n",
    "            # ols_model = 'analyte1 ~ analyte2*C(APOE_Status) + Age + BMI + Statin_User'\n",
    "            # ols_model = 'analyte1 ~ analyte2*C(Model_Health) + Age + BMI + Statin_User'\n",
    "            ols_model = 'analyte1 ~ analyte2*C(Model_Health) + Age + BMI + Statin_User'\n",
    "            #\n",
    "            \n",
    "            fitted_model = smf.glm(ols_model, data=sub, family=family_type, missing='drop').fit(maxiter=2000)\n",
    "            result_to_append = (col1, col2, len(fitted_model.fittedvalues), fitted_model.converged, *fitted_model.params, *fitted_model.pvalues)\n",
    "            if len(result_to_append) == 18:\n",
    "                # make sure that each coefficient is represented in the model, avoid an error at the end\n",
    "                fitted_model_to_use = fitted_model\n",
    "                results.append(result_to_append)\n",
    "            else:\n",
    "                print('Failed analytes {} {}: not all coefficients were represented'.format(col1, col2))\n",
    "                skipped += 1\n",
    "\n",
    "        except Exception as e:\n",
    "            print('Failed analytes {} {} with error {}'.format(col1, col2, str(e)))\n",
    "            skipped += 1\n",
    "\n",
    "        count += 1\n",
    "        if (max_run is not None) and (count >= max_run):\n",
    "            break\n",
    "        \n",
    "        if (count % 1000) == 0:\n",
    "\n",
    "            elapsed_time = datetime.now() - start_time    \n",
    "            print('Finished {} in {:.3f} seconds (skipped {})'.format(count, elapsed_time.total_seconds(), skipped))\n",
    "      \n",
    "    elapsed_time = datetime.now() - start_time    \n",
    "    print('Complete! Yay! Finished {} in {:.3f} seconds (skipped {})'.format(count, elapsed_time.total_seconds(), skipped))\n",
    "    \n",
    "    df = pd.DataFrame(results, columns=['col1', 'col2', 'n', 'converged', *fitted_model_to_use.params.index, *[str(x)+'_p' for x in fitted_model_to_use.pvalues.index]])\n",
    "    \n",
    "#     df.sort_values(['analyte2:C(APOE_Status, Treatment(reference=1))[T.E2]_p'], ascending=True, inplace=True)\n",
    "#     np.seterr(all='warn')\n",
    "#     (adj_pval_index, adj_pval, _, _) = statsmodels.sandbox.stats.multicomp.multipletests(df.loc[~df['analyte2:C(APOE_Status, Treatment(reference=1))[T.E2]_p'].isnull(), 'analyte2:C(APOE_Status, Treatment(reference=1))[T.E2]_p'], alpha=0.05, method='fdr_bh')\n",
    "#     df.loc[~df['analyte2:C(APOE_Status, Treatment(reference=1))[T.E2]_p'].isnull(), 'pval_adj'] = adj_pval\n",
    "#     df.sort_values(['pval_adj'], ascending=True, inplace=True)\n",
    "    \n",
    "    # df.sort_values(['analyte2:C(APOE_Status)[T.E4]_p'], ascending=True, inplace=True)\n",
    "    # np.seterr(all='warn')\n",
    "    # (adj_pval_index, adj_pval, _, _) = statsmodels.sandbox.stats.multicomp.multipletests(df.loc[~df['analyte2:C(APOE_Status)[T.E4]_p'].isnull(), 'analyte2:C(APOE_Status)[T.E4]_p'], alpha=0.05, method='fdr_bh')\n",
    "    # df.loc[~df['analyte2:C(APOE_Status)[T.E4]_p'].isnull(), 'pval_adj'] = adj_pval\n",
    "    # df.sort_values(['pval_adj'], ascending=True, inplace=True)\n",
    "    \n",
    "    df.sort_values(['analyte2:C(Model_Health)[T.Bio_Old]_p'], ascending=True, inplace=True)\n",
    "    np.seterr(all='warn')\n",
    "    (adj_pval_index, adj_pval, _, _) = statsmodels.sandbox.stats.multicomp.multipletests(df.loc[~df['analyte2:C(Model_Health)[T.Bio_Old]_p'].isnull(), 'analyte2:C(Model_Health)[T.Bio_Old]_p'], alpha=0.05, method='fdr_bh')\n",
    "    df.loc[~df['analyte2:C(Model_Health)[T.Bio_Old]_p'].isnull(), 'pval_adj'] = adj_pval\n",
    "    df.sort_values(['pval_adj'], ascending=True, inplace=True)\n",
    "\n",
    "    # df.sort_values(['analyte2:C(Model_Health)[T.Bio_Young]_p'], ascending=True, inplace=True)\n",
    "    # np.seterr(all='warn')\n",
    "    # (adj_pval_index, adj_pval, _, _) = statsmodels.sandbox.stats.multicomp.multipletests(df.loc[~df['analyte2:C(Model_Health)[T.Bio_Young]_p'].isnull(), 'analyte2:C(Model_Health)[T.Bio_Young]_p'], alpha=0.05, method='fdr_bh')\n",
    "    # df.loc[~df['analyte2:C(Model_Health)[T.Bio_Young]_p'].isnull(), 'pval_adj'] = adj_pval\n",
    "    # df.sort_values(['pval_adj'], ascending=True, inplace=True)\n",
    "    \n",
    "    return df"
   ]
  },
  {
   "cell_type": "markdown",
   "id": "f6e1d3b6-420c-4374-bc14-2c36e6c397bd",
   "metadata": {},
   "source": [
    "### bio old female"
   ]
  },
  {
   "cell_type": "code",
   "execution_count": null,
   "id": "27b9d6d4-d72a-41e4-a897-b1adf8ec8858",
   "metadata": {},
   "outputs": [],
   "source": [
    "import sys\n",
    "sys.stdout = open(\"240806_log_Funhealth.txt\", \"a\")"
   ]
  },
  {
   "cell_type": "code",
   "execution_count": null,
   "id": "c485dfca-95ed-4117-9c82-50b1230cea2e",
   "metadata": {},
   "outputs": [],
   "source": [
    "temp_valid_list = list(set(valid_test+Funhealth_valid_list))"
   ]
  },
  {
   "cell_type": "code",
   "execution_count": null,
   "id": "f938c7f6-281b-4a04-a9bf-e5f49cd25fe9",
   "metadata": {},
   "outputs": [],
   "source": [
    "interact_glm_Funhealth_compare = run_interaction_analysis(temp_valid_list, df_Funhealth, analytes, chem_list, metab_list)"
   ]
  },
  {
   "cell_type": "code",
   "execution_count": null,
   "id": "9802acaa-ae72-4401-8f2e-93981577e84d",
   "metadata": {},
   "outputs": [],
   "source": [
    "# interact_glm_Funhealth_compare.to_csv('/notebooks/Final_Paper/240423_Investigate_Redo_Interactions/Validation_Folder/output/240806_TwinsUK_Funhealth_5SD_valid_interact.csv')"
   ]
  },
  {
   "cell_type": "markdown",
   "id": "27efec60-45fb-4bac-8cd2-04c3c41b6fa5",
   "metadata": {},
   "source": [
    "### bio old male"
   ]
  },
  {
   "cell_type": "code",
   "execution_count": null,
   "id": "8b80614c-2439-4ed7-8322-db7dbd6f5916",
   "metadata": {},
   "outputs": [],
   "source": [
    "import sys\n",
    "sys.stdout = open(\"240806_log_Munhealth.txt\", \"a\")"
   ]
  },
  {
   "cell_type": "code",
   "execution_count": null,
   "id": "e11a1aec-de10-4d30-bc5e-06e205a3634f",
   "metadata": {},
   "outputs": [],
   "source": [
    "temp_valid_list = list(set(valid_test+Munhealth_valid_list))"
   ]
  },
  {
   "cell_type": "code",
   "execution_count": null,
   "id": "a9504477-cbe8-4eb6-ae63-e9a6f5391698",
   "metadata": {},
   "outputs": [],
   "source": [
    "interact_glm_Munhealth_compare = run_interaction_analysis(temp_valid_list, df_Munhealth, analytes, chem_list, metab_list)"
   ]
  },
  {
   "cell_type": "code",
   "execution_count": null,
   "id": "c42ad441-df02-4e04-ad67-ceb5c0129c8d",
   "metadata": {},
   "outputs": [],
   "source": [
    "# interact_glm_Munhealth_compare.to_csv('/notebooks/Final_Paper/240423_Investigate_Redo_Interactions/Validation_Folder/output/240806_TwinsUK_Munhealth_5SD_valid_interact.csv')"
   ]
  },
  {
   "cell_type": "markdown",
   "id": "ca2500a8-03cf-4a04-bfca-74baf3de0383",
   "metadata": {},
   "source": [
    "### e2 allele dosage"
   ]
  },
  {
   "cell_type": "code",
   "execution_count": null,
   "id": "96c6a888-9edf-4dcb-8272-037e3c8692a3",
   "metadata": {},
   "outputs": [],
   "source": [
    "def run_interaction_analysis_continuous(screened_pairs, dat, analytes, chems, metabs, max_run=None):\n",
    "\n",
    "    print('Running {} pairs'.format(len(screened_pairs)))\n",
    "         \n",
    "    count = 0 \n",
    "    done = 0\n",
    "    skipped = 0\n",
    "    completed = 0\n",
    "\n",
    "    results = []\n",
    "#     columns = list(dat.columns)\n",
    "\n",
    "    start_time = datetime.now()\n",
    "    for (col1, col2) in screened_pairs:\n",
    "        \n",
    "        if (col2 in metabs) == False:\n",
    "            print('{} not in TwinsUK metabs'.format(col2))\n",
    "            skipped += 1\n",
    "            continue\n",
    "            \n",
    "\n",
    "        # Default is gaussian\n",
    "        family_type = family.Gaussian()\n",
    "        family_type.link = links.identity()\n",
    "        family_name = 'Gaussian'\n",
    "        family_link = 'Identity'\n",
    "\n",
    "        # Covariance structure\n",
    "        cov = sm.cov_struct.Exchangeable()\n",
    "\n",
    "        sub = dat[['PublicID', col1, col2, 'Age', 'Sex', 'e2_allele', 'e4_allele', 'metab_deltaAge', 'Statin_User', 'BMI']].copy() #, 'MetBatch']].copy()\n",
    "        sub.dropna(subset = [col1,col2], inplace=True)\n",
    "        sub.drop_duplicates(subset = ['PublicID'], keep='first', inplace=True)\n",
    "        sub.rename(columns={col1:'analyte1'}, inplace=True)\n",
    "        sub.rename(columns={col2:'analyte2'}, inplace=True)\n",
    "\n",
    "        if (sub['analyte1'].skew() > 1.5) | (sub['analyte1'].skew() < -1.5):\n",
    "\n",
    "            #logger.info('Setting gamma family for skewed analyte %s'%(col))\n",
    "\n",
    "            # Set any zero values to 1/2 the smallest value\n",
    "            sub.loc[sub['analyte1']==0, 'analyte1'] = (sub.loc[sub['analyte1']>0, 'analyte1'].min() / 2.0)\n",
    "\n",
    "            family_type = family.Gamma()\n",
    "            family_type.link = links.log()\n",
    "            family_name = 'Gamma'\n",
    "            family_link = 'Log'\n",
    "            \n",
    "            # print('Used Gamma family with Log link for analytes {} {}'.format(col1, col2))\n",
    "\n",
    "        try:\n",
    "            \n",
    "            ols_model = 'analyte1 ~ analyte2*e2_allele + Age + BMI + Statin_User'\n",
    "            # ols_model = 'analyte1 ~ analyte2*e4_allele + Age + BMI + Statin_User'\n",
    "            # ols_model = 'analyte1 ~ analyte2*metab_deltaAge + Age + BMI + Statin_User'\n",
    "            \n",
    "            fitted_model = smf.glm(ols_model, data=sub, family=family_type, missing='drop').fit(maxiter=2000)\n",
    "            result_to_append = (col1, col2, len(fitted_model.fittedvalues), fitted_model.converged, *fitted_model.params, *fitted_model.pvalues)\n",
    "            if len(result_to_append) == 18:\n",
    "                # make sure that each coefficient is represented in the model, avoid an error at the end\n",
    "                fitted_model_to_use = fitted_model\n",
    "                results.append(result_to_append)\n",
    "            else:\n",
    "                print('Failed analytes {} {}: not all coefficients were represented'.format(col1, col2))\n",
    "                skipped += 1\n",
    "\n",
    "        except Exception as e:\n",
    "            print('Failed analytes {} {} with error {}'.format(col1, col2, str(e)))\n",
    "            skipped += 1\n",
    "\n",
    "        count += 1\n",
    "        if (max_run is not None) and (count >= max_run):\n",
    "            break\n",
    "        \n",
    "        if (count % 1000) == 0:\n",
    "\n",
    "            elapsed_time = datetime.now() - start_time    \n",
    "            print('Finished {} in {:.3f} seconds (skipped {})'.format(count, elapsed_time.total_seconds(), skipped))\n",
    "      \n",
    "    elapsed_time = datetime.now() - start_time    \n",
    "    print('Complete! Yay! Finished {} in {:.3f} seconds (skipped {})'.format(count, elapsed_time.total_seconds(), skipped))\n",
    "    \n",
    "    df = pd.DataFrame(results, columns=['col1', 'col2', 'n', 'converged', *fitted_model_to_use.params.index, *[str(x)+'_p' for x in fitted_model_to_use.pvalues.index]])\n",
    "    \n",
    "    np.seterr(all='warn')\n",
    "    (adj_pval_index, adj_pval, _, _) = statsmodels.sandbox.stats.multicomp.multipletests(df.loc[~df['analyte2:e2_allele_p'].isnull(), 'analyte2:e2_allele_p'], alpha=0.05, method='fdr_bh')\n",
    "    df.loc[~df['analyte2:e2_allele_p'].isnull(), 'E2_pFDR'] = adj_pval # oops, typo\n",
    "    \n",
    "#     np.seterr(all='warn')\n",
    "#     (adj_pval_index, adj_pval, _, _) = statsmodels.sandbox.stats.multicomp.multipletests(df.loc[~df['analyte2:e4_allele_p'].isnull(), 'analyte2:e4_allele_p'], alpha=0.05, method='fdr_bh')\n",
    "#     df.loc[~df['analyte2:e4_allele_p'].isnull(), 'E4_pFDR'] = adj_pval\n",
    "    \n",
    "#     np.seterr(all='warn')\n",
    "#     (adj_pval_index, adj_pval, _, _) = statsmodels.sandbox.stats.multicomp.multipletests(df.loc[~df['analyte2:metab_deltaAge_p'].isnull(), 'analyte2:metab_deltaAge_p'], alpha=0.05, method='fdr_bh')\n",
    "#     df.loc[~df['analyte2:metab_deltaAge_p'].isnull(), 'delta_age_pFDR'] = adj_pval\n",
    "    \n",
    "    return df"
   ]
  },
  {
   "cell_type": "code",
   "execution_count": null,
   "id": "6b1c6dbe-b1ff-4380-a320-a739c271046e",
   "metadata": {},
   "outputs": [],
   "source": [
    "import sys\n",
    "sys.stdout = open(\"240806_log_E2_allele.txt\", \"a\")"
   ]
  },
  {
   "cell_type": "code",
   "execution_count": null,
   "id": "837f304d-586a-461d-b65f-0e40c456c8d0",
   "metadata": {},
   "outputs": [],
   "source": [
    "temp_valid_list = list(set(valid_test+E2_allele_valid_list))"
   ]
  },
  {
   "cell_type": "code",
   "execution_count": null,
   "id": "e9a36f8f-9132-47de-a4ff-7ccc6399fbbf",
   "metadata": {},
   "outputs": [],
   "source": [
    "interact_glm_E2_allele_compare = run_interaction_analysis_continuous(temp_valid_list, df_analysis_5SD_valid, analytes, chem_list, metab_list)"
   ]
  },
  {
   "cell_type": "code",
   "execution_count": null,
   "id": "371a2c71-8226-41fd-b58e-14471d6d383d",
   "metadata": {},
   "outputs": [],
   "source": [
    "# interact_glm_E2_allele_compare.to_csv('/notebooks/Final_Paper/240423_Investigate_Redo_Interactions/Validation_Folder/output/240806_TwinsUK_E2_continuous_5SD_valid_interact.csv')"
   ]
  },
  {
   "cell_type": "markdown",
   "id": "c0ff663d-1268-4058-a752-3bc6ea312106",
   "metadata": {},
   "source": [
    "### e4 allele dosage"
   ]
  },
  {
   "cell_type": "code",
   "execution_count": null,
   "id": "04d81c70-8c37-47a3-8790-94318580a2a3",
   "metadata": {},
   "outputs": [],
   "source": [
    "def run_interaction_analysis_continuous(screened_pairs, dat, analytes, chems, metabs, max_run=None):\n",
    "\n",
    "    print('Running {} pairs'.format(len(screened_pairs)))\n",
    "         \n",
    "    count = 0 \n",
    "    done = 0\n",
    "    skipped = 0\n",
    "    completed = 0\n",
    "\n",
    "    results = []\n",
    "#     columns = list(dat.columns)\n",
    "\n",
    "    start_time = datetime.now()\n",
    "    for (col1, col2) in screened_pairs:\n",
    "        \n",
    "        if (col2 in metabs) == False:\n",
    "            print('{} not in TwinsUK metabs'.format(col2))\n",
    "            skipped += 1\n",
    "            continue\n",
    "            \n",
    "\n",
    "        # Default is gaussian\n",
    "        family_type = family.Gaussian()\n",
    "        family_type.link = links.identity()\n",
    "        family_name = 'Gaussian'\n",
    "        family_link = 'Identity'\n",
    "\n",
    "        # Covariance structure\n",
    "        cov = sm.cov_struct.Exchangeable()\n",
    "\n",
    "        sub = dat[['PublicID', col1, col2, 'Age', 'Sex', 'e2_allele', 'e4_allele', 'metab_deltaAge', 'Statin_User', 'BMI']].copy() #, 'MetBatch']].copy()\n",
    "        sub.dropna(subset = [col1,col2], inplace=True)\n",
    "        sub.drop_duplicates(subset = ['PublicID'], keep='first', inplace=True)\n",
    "        sub.rename(columns={col1:'analyte1'}, inplace=True)\n",
    "        sub.rename(columns={col2:'analyte2'}, inplace=True)\n",
    "\n",
    "        if (sub['analyte1'].skew() > 1.5) | (sub['analyte1'].skew() < -1.5):\n",
    "\n",
    "            #logger.info('Setting gamma family for skewed analyte %s'%(col))\n",
    "\n",
    "            # Set any zero values to 1/2 the smallest value\n",
    "            sub.loc[sub['analyte1']==0, 'analyte1'] = (sub.loc[sub['analyte1']>0, 'analyte1'].min() / 2.0)\n",
    "\n",
    "            family_type = family.Gamma()\n",
    "            family_type.link = links.log()\n",
    "            family_name = 'Gamma'\n",
    "            family_link = 'Log'\n",
    "            \n",
    "            # print('Used Gamma family with Log link for analytes {} {}'.format(col1, col2))\n",
    "\n",
    "        try:\n",
    "            \n",
    "            # ols_model = 'analyte1 ~ analyte2*e2_allele + Age + BMI + Statin_User'\n",
    "            ols_model = 'analyte1 ~ analyte2*e4_allele + Age + BMI + Statin_User'\n",
    "            # ols_model = 'analyte1 ~ analyte2*metab_deltaAge + Age + BMI + Statin_User'\n",
    "            \n",
    "            fitted_model = smf.glm(ols_model, data=sub, family=family_type, missing='drop').fit(maxiter=2000)\n",
    "            result_to_append = (col1, col2, len(fitted_model.fittedvalues), fitted_model.converged, *fitted_model.params, *fitted_model.pvalues)\n",
    "            if len(result_to_append) == 18:\n",
    "                # make sure that each coefficient is represented in the model, avoid an error at the end\n",
    "                fitted_model_to_use = fitted_model\n",
    "                results.append(result_to_append)\n",
    "            else:\n",
    "                print('Failed analytes {} {}: not all coefficients were represented'.format(col1, col2))\n",
    "                skipped += 1\n",
    "\n",
    "        except Exception as e:\n",
    "            print('Failed analytes {} {} with error {}'.format(col1, col2, str(e)))\n",
    "            skipped += 1\n",
    "\n",
    "        count += 1\n",
    "        if (max_run is not None) and (count >= max_run):\n",
    "            break\n",
    "        \n",
    "        if (count % 1000) == 0:\n",
    "\n",
    "            elapsed_time = datetime.now() - start_time    \n",
    "            print('Finished {} in {:.3f} seconds (skipped {})'.format(count, elapsed_time.total_seconds(), skipped))\n",
    "      \n",
    "    elapsed_time = datetime.now() - start_time    \n",
    "    print('Complete! Yay! Finished {} in {:.3f} seconds (skipped {})'.format(count, elapsed_time.total_seconds(), skipped))\n",
    "    \n",
    "    df = pd.DataFrame(results, columns=['col1', 'col2', 'n', 'converged', *fitted_model_to_use.params.index, *[str(x)+'_p' for x in fitted_model_to_use.pvalues.index]])\n",
    "    \n",
    "    # np.seterr(all='warn')\n",
    "    # (adj_pval_index, adj_pval, _, _) = statsmodels.sandbox.stats.multicomp.multipletests(df.loc[~df['analyte2:e2_allele_p'].isnull(), 'analyte2:e2_allele_p'], alpha=0.05, method='fdr_bh')\n",
    "    # df.loc[~df['analyte2:e2_allele_p'].isnull(), 'E2_pFDR'] = adj_pval # oops, typo\n",
    "    \n",
    "    np.seterr(all='warn')\n",
    "    (adj_pval_index, adj_pval, _, _) = statsmodels.sandbox.stats.multicomp.multipletests(df.loc[~df['analyte2:e4_allele_p'].isnull(), 'analyte2:e4_allele_p'], alpha=0.05, method='fdr_bh')\n",
    "    df.loc[~df['analyte2:e4_allele_p'].isnull(), 'E4_pFDR'] = adj_pval\n",
    "    \n",
    "#     np.seterr(all='warn')\n",
    "#     (adj_pval_index, adj_pval, _, _) = statsmodels.sandbox.stats.multicomp.multipletests(df.loc[~df['analyte2:metab_deltaAge_p'].isnull(), 'analyte2:metab_deltaAge_p'], alpha=0.05, method='fdr_bh')\n",
    "#     df.loc[~df['analyte2:metab_deltaAge_p'].isnull(), 'delta_age_pFDR'] = adj_pval\n",
    "    \n",
    "    return df"
   ]
  },
  {
   "cell_type": "code",
   "execution_count": null,
   "id": "0389bc22-06c4-49d9-b51a-2bae924bfe77",
   "metadata": {},
   "outputs": [],
   "source": [
    "import sys\n",
    "sys.stdout = open(\"240806_log_E4_allele.txt\", \"a\")"
   ]
  },
  {
   "cell_type": "code",
   "execution_count": null,
   "id": "268cc901-5852-410a-ac7d-05de1f6bdf64",
   "metadata": {},
   "outputs": [],
   "source": [
    "temp_valid_list = list(set(valid_test+E4_allele_valid_list))"
   ]
  },
  {
   "cell_type": "code",
   "execution_count": null,
   "id": "0517961d-6faf-4fad-8c45-3bdb62057ee5",
   "metadata": {},
   "outputs": [],
   "source": [
    "interact_glm_E4_allele_compare = run_interaction_analysis_continuous(temp_valid_list, df_analysis_5SD_valid, analytes, chem_list, metab_list)"
   ]
  },
  {
   "cell_type": "code",
   "execution_count": null,
   "id": "4cc2c9d0-a07b-48cc-94b0-7d9bdcf49578",
   "metadata": {},
   "outputs": [],
   "source": [
    "# interact_glm_E4_allele_compare.to_csv('/notebooks/Final_Paper/240423_Investigate_Redo_Interactions/Validation_Folder/output/240806_TwinsUK_E4_continuous_5SD_valid_interact.csv')"
   ]
  },
  {
   "cell_type": "markdown",
   "id": "5ff831cf-166b-4b6e-af55-2e820b17e896",
   "metadata": {},
   "source": [
    "### delta age, continuous"
   ]
  },
  {
   "cell_type": "code",
   "execution_count": null,
   "id": "637c360a-f3af-48f9-b2db-ebf8494fc887",
   "metadata": {},
   "outputs": [],
   "source": [
    "def run_interaction_analysis_continuous(screened_pairs, dat, analytes, chems, metabs, max_run=None):\n",
    "\n",
    "    print('Running {} pairs'.format(len(screened_pairs)))\n",
    "         \n",
    "    count = 0 \n",
    "    done = 0\n",
    "    skipped = 0\n",
    "    completed = 0\n",
    "\n",
    "    results = []\n",
    "#     columns = list(dat.columns)\n",
    "\n",
    "    start_time = datetime.now()\n",
    "    for (col1, col2) in screened_pairs:\n",
    "        \n",
    "        if (col2 in metabs) == False:\n",
    "            print('{} not in TwinsUK metabs'.format(col2))\n",
    "            skipped += 1\n",
    "            continue\n",
    "            \n",
    "\n",
    "        # Default is gaussian\n",
    "        family_type = family.Gaussian()\n",
    "        family_type.link = links.identity()\n",
    "        family_name = 'Gaussian'\n",
    "        family_link = 'Identity'\n",
    "\n",
    "        # Covariance structure\n",
    "        cov = sm.cov_struct.Exchangeable()\n",
    "\n",
    "        sub = dat[['PublicID', col1, col2, 'Age', 'Sex', 'e2_allele', 'e4_allele', 'metab_deltaAge', 'Statin_User', 'BMI']].copy() #, 'MetBatch']].copy()\n",
    "        sub.dropna(subset = [col1,col2], inplace=True)\n",
    "        sub.drop_duplicates(subset = ['PublicID'], keep='first', inplace=True)\n",
    "        sub.rename(columns={col1:'analyte1'}, inplace=True)\n",
    "        sub.rename(columns={col2:'analyte2'}, inplace=True)\n",
    "\n",
    "        if (sub['analyte1'].skew() > 1.5) | (sub['analyte1'].skew() < -1.5):\n",
    "\n",
    "            #logger.info('Setting gamma family for skewed analyte %s'%(col))\n",
    "\n",
    "            # Set any zero values to 1/2 the smallest value\n",
    "            sub.loc[sub['analyte1']==0, 'analyte1'] = (sub.loc[sub['analyte1']>0, 'analyte1'].min() / 2.0)\n",
    "\n",
    "            family_type = family.Gamma()\n",
    "            family_type.link = links.log()\n",
    "            family_name = 'Gamma'\n",
    "            family_link = 'Log'\n",
    "            \n",
    "            # print('Used Gamma family with Log link for analytes {} {}'.format(col1, col2))\n",
    "\n",
    "        try:\n",
    "            \n",
    "            # ols_model = 'analyte1 ~ analyte2*e2_allele + Age + BMI + Statin_User'\n",
    "            # ols_model = 'analyte1 ~ analyte2*e4_allele + Age + BMI + Statin_User'\n",
    "            ols_model = 'analyte1 ~ analyte2*metab_deltaAge + Age + BMI + Statin_User'\n",
    "            \n",
    "            fitted_model = smf.glm(ols_model, data=sub, family=family_type, missing='drop').fit(maxiter=2000)\n",
    "            result_to_append = (col1, col2, len(fitted_model.fittedvalues), fitted_model.converged, *fitted_model.params, *fitted_model.pvalues)\n",
    "            if len(result_to_append) == 18:\n",
    "                # make sure that each coefficient is represented in the model, avoid an error at the end\n",
    "                fitted_model_to_use = fitted_model\n",
    "                results.append(result_to_append)\n",
    "            else:\n",
    "                print('Failed analytes {} {}: not all coefficients were represented'.format(col1, col2))\n",
    "                skipped += 1\n",
    "\n",
    "        except Exception as e:\n",
    "            print('Failed analytes {} {} with error {}'.format(col1, col2, str(e)))\n",
    "            skipped += 1\n",
    "\n",
    "        count += 1\n",
    "        if (max_run is not None) and (count >= max_run):\n",
    "            break\n",
    "        \n",
    "        if (count % 1000) == 0:\n",
    "\n",
    "            elapsed_time = datetime.now() - start_time    \n",
    "            print('Finished {} in {:.3f} seconds (skipped {})'.format(count, elapsed_time.total_seconds(), skipped))\n",
    "      \n",
    "    elapsed_time = datetime.now() - start_time    \n",
    "    print('Complete! Yay! Finished {} in {:.3f} seconds (skipped {})'.format(count, elapsed_time.total_seconds(), skipped))\n",
    "    \n",
    "    df = pd.DataFrame(results, columns=['col1', 'col2', 'n', 'converged', *fitted_model_to_use.params.index, *[str(x)+'_p' for x in fitted_model_to_use.pvalues.index]])\n",
    "    \n",
    "    # np.seterr(all='warn')\n",
    "    # (adj_pval_index, adj_pval, _, _) = statsmodels.sandbox.stats.multicomp.multipletests(df.loc[~df['analyte2:e2_allele_p'].isnull(), 'analyte2:e2_allele_p'], alpha=0.05, method='fdr_bh')\n",
    "    # df.loc[~df['analyte2:e2_allele_p'].isnull(), 'E2_pFDR'] = adj_pval # oops, typo\n",
    "    \n",
    "#     np.seterr(all='warn')\n",
    "#     (adj_pval_index, adj_pval, _, _) = statsmodels.sandbox.stats.multicomp.multipletests(df.loc[~df['analyte2:e4_allele_p'].isnull(), 'analyte2:e4_allele_p'], alpha=0.05, method='fdr_bh')\n",
    "#     df.loc[~df['analyte2:e4_allele_p'].isnull(), 'E4_pFDR'] = adj_pval\n",
    "    \n",
    "    np.seterr(all='warn')\n",
    "    (adj_pval_index, adj_pval, _, _) = statsmodels.sandbox.stats.multicomp.multipletests(df.loc[~df['analyte2:metab_deltaAge_p'].isnull(), 'analyte2:metab_deltaAge_p'], alpha=0.05, method='fdr_bh')\n",
    "    df.loc[~df['analyte2:metab_deltaAge_p'].isnull(), 'delta_age_pFDR'] = adj_pval\n",
    "    \n",
    "    return df"
   ]
  },
  {
   "cell_type": "code",
   "execution_count": null,
   "id": "5b05d4fa-72c4-4bc8-bbd1-a8e336d04aa1",
   "metadata": {},
   "outputs": [],
   "source": [
    "import sys\n",
    "sys.stdout = open(\"240806_log_contin_delta_age_allele.txt\", \"a\")"
   ]
  },
  {
   "cell_type": "code",
   "execution_count": null,
   "id": "299bc17f-45fd-4227-bd5f-19c4aaadb7a8",
   "metadata": {},
   "outputs": [],
   "source": [
    "temp_valid_list = list(set(valid_test+delta_age_continuous_valid_list))"
   ]
  },
  {
   "cell_type": "code",
   "execution_count": null,
   "id": "e4a857c5-ca0c-4983-b6cb-12c51a5792e9",
   "metadata": {},
   "outputs": [],
   "source": [
    "interact_glm_contin_delta_age_compare = run_interaction_analysis_continuous(temp_valid_list, df_analysis_5SD_valid, analytes, chem_list, metab_list)"
   ]
  },
  {
   "cell_type": "code",
   "execution_count": null,
   "id": "de970917-a0ea-4757-a9fb-786e3c6bfe6e",
   "metadata": {},
   "outputs": [],
   "source": [
    "# interact_glm_contin_delta_age_compare.to_csv('/notebooks/Final_Paper/240423_Investigate_Redo_Interactions/Validation_Folder/output/240806_TwinsUK_delta_age_continuous_5SD_valid_interact.csv')"
   ]
  }
 ],
 "metadata": {
  "kernelspec": {
   "display_name": "arivale-py3 - Python",
   "language": "python",
   "name": "conda-env-arivale-py3-py"
  },
  "language_info": {
   "codemirror_mode": {
    "name": "ipython",
    "version": 3
   },
   "file_extension": ".py",
   "mimetype": "text/x-python",
   "name": "python",
   "nbconvert_exporter": "python",
   "pygments_lexer": "ipython3",
   "version": "3.9.7"
  }
 },
 "nbformat": 4,
 "nbformat_minor": 5
}
