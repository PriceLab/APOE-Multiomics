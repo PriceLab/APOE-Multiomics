{
 "cells": [
  {
   "cell_type": "markdown",
   "id": "613ae1f7-5b28-457e-a0ca-37752f55c79c",
   "metadata": {
    "tags": []
   },
   "source": [
    "# Arivale multi-omic interaction analysis\n",
    "\n",
    "Inputs: \n",
    "* Preprocessed data: Arivale_preprocessed_interaction_analysis\n",
    "* List of analytes: Arivale_Interaction_Analysis_Analyte_List.json\n",
    "* Clinical chem annotations: Arivale_Interaction_Clinical_Annots.json\n",
    "* Protein annotations: Arivale_Interaction_Prots_Annots.json\n",
    "* Metabolite annotations: Arivale_Interaction_Metabs_Annots.json\n",
    "* Microbiome annotations:  Arivale_Interaction_Microb_Annots.json\n",
    "\n",
    "Outputs: log files and result data files to be used in Code03\n",
    "\n",
    "'Save' lines are commented out  \n",
    "'Healthy' and 'Unhealthy' are renamed as 'Bio_Young' and 'Bio_Old' in figures and data files where appropriate  \n",
    "\n",
    "Note: script ran in current form will yield results for female APOE E2; commenting in/out specified lines will produce results for male E2; male/female APOE E4; biologically younger males/females; and biologically older males/females in the first section. The second section can be commented in/out in the same manner to produce results for the e4 allele dosage and continuous delta age interactions (currently commented in for e2 allele dosage). Copies of the script can thus be run in parallel to avoid time bottleneck of running 11 lengthy analysis in series."
   ]
  },
  {
   "cell_type": "code",
   "execution_count": null,
   "id": "79b613cb-25ef-4f4d-8fe1-9125e00e35fb",
   "metadata": {},
   "outputs": [],
   "source": [
    "# Load packages\n",
    "import pandas as pd\n",
    "import seaborn as sns\n",
    "import numpy as np\n",
    "import matplotlib.pyplot as plt\n",
    "import scipy\n",
    "import sys\n",
    "import math\n",
    "from datetime import datetime\n",
    "import logging\n",
    "logging.basicConfig(level=logging.INFO)\n",
    "logger = logging.getLogger('analytics')\n",
    "logger.setLevel(logging.INFO)\n",
    "from analytics.util.analytics_logger import GetAnalyticsLogger\n",
    "import logging\n",
    "logger = GetAnalyticsLogger()\n",
    "logger.setLevel(logging.INFO)\n",
    "from importlib.metadata import version\n",
    "import json"
   ]
  },
  {
   "cell_type": "markdown",
   "id": "a9ea97eb-143a-4b1d-b1e2-ab5ebb3ed02c",
   "metadata": {},
   "source": [
    "# Load in Data, Analyte Lists/Metadata"
   ]
  },
  {
   "cell_type": "code",
   "execution_count": null,
   "id": "3ba157e3-6291-4239-acfc-38a243b0be9a",
   "metadata": {},
   "outputs": [],
   "source": [
    "df_with_apoe = pd.read_csv('/notebooks/0. APOE-Multiomics/Data_Files/Arivale_preprocessed_interaction_analysis.csv')"
   ]
  },
  {
   "cell_type": "code",
   "execution_count": null,
   "id": "f7c08a68-4abb-4292-a7cb-6ec5717745e9",
   "metadata": {},
   "outputs": [],
   "source": [
    "with open(\"/notebooks/0. APOE-Multiomics/Data_Files/Arivale_Interaction_Analysis_Analyte_List.json\", \"r\") as file:\n",
    "    analytes = json.load(file)"
   ]
  },
  {
   "cell_type": "code",
   "execution_count": null,
   "id": "d6451d6e-c5b8-44b5-91e9-4c0ffb693de3",
   "metadata": {},
   "outputs": [],
   "source": [
    "with open(\"/notebooks/0. APOE-Multiomics/Data_Files/Arivale_Interaction_Clinical_Annots.json\", \"r\") as file:\n",
    "    clinical = json.load(file)"
   ]
  },
  {
   "cell_type": "code",
   "execution_count": null,
   "id": "0a79d3cb-0405-48da-86af-18619e91aaad",
   "metadata": {},
   "outputs": [],
   "source": [
    "with open(\"/notebooks/0. APOE-Multiomics/Data_Files/Arivale_Interaction_Prots_Annots.json\", \"r\") as file:\n",
    "    proteins = json.load(file)"
   ]
  },
  {
   "cell_type": "code",
   "execution_count": null,
   "id": "87868b17-4003-4b24-890a-fa7ee7ba8fe8",
   "metadata": {},
   "outputs": [],
   "source": [
    "with open(\"/notebooks/0. APOE-Multiomics/Data_Files/Arivale_Interaction_Metabs_Annots.json\", \"r\") as file:\n",
    "    metabolites = json.load(file)"
   ]
  },
  {
   "cell_type": "code",
   "execution_count": null,
   "id": "9183978c-7c4b-4e39-9dea-89b632a8a10d",
   "metadata": {},
   "outputs": [],
   "source": [
    "with open(\"/notebooks/0. APOE-Multiomics/Data_Files/Arivale_Interaction_Microb_Annots.json\", \"r\") as file:\n",
    "    microbiome = json.load(file)"
   ]
  },
  {
   "cell_type": "markdown",
   "id": "a0070b2f-27a8-4d14-9607-68dfa7760f73",
   "metadata": {},
   "source": [
    "# Get pairs for GLM"
   ]
  },
  {
   "cell_type": "code",
   "execution_count": null,
   "id": "d30d2a23-7cca-45fc-a672-9f54e5bf988f",
   "metadata": {},
   "outputs": [],
   "source": [
    "import statsmodels"
   ]
  },
  {
   "cell_type": "code",
   "execution_count": null,
   "id": "c37e4ec0-298d-44f3-be27-cbfde03b01b7",
   "metadata": {},
   "outputs": [],
   "source": [
    "import statsmodels.api as sm\n",
    "import statsmodels.formula.api as smf\n",
    "import statsmodels.sandbox.stats.multicomp\n",
    "from statsmodels.genmod.families import family, links\n",
    "import itertools"
   ]
  },
  {
   "cell_type": "code",
   "execution_count": null,
   "id": "d9196a6c-58de-4b13-9954-f08c4d4b149f",
   "metadata": {},
   "outputs": [],
   "source": [
    "pairs = list(itertools.combinations(analytes, 2))"
   ]
  },
  {
   "cell_type": "code",
   "execution_count": null,
   "id": "0a4f9f0e-6121-4ed1-8873-5e41b8b3467d",
   "metadata": {},
   "outputs": [],
   "source": [
    "# generate all pairs to be tested\n",
    "def count_pairs_interomic(analytes, proteins, metabolites, clinical, microbiome):\n",
    "\n",
    "    # Create all possible pairs of inputs\n",
    "    pairs = list(itertools.combinations(analytes, 2))\n",
    "#     dfpairs = pd.DataFrame(pairs)\n",
    "#     dfpairs.rename(columns = {0:'col1',1:'col2'}, inplace = True)\n",
    "    logger.info('Created {} pairs'.format(len(pairs))) # repeat this for ____ inter-omic pairs, then finally print those that passed\n",
    "    \n",
    "    interomic_pairs = list()\n",
    "    \n",
    "    count_big = 0\n",
    "    count = 0\n",
    "    \n",
    "    start_time = datetime.now()\n",
    "    \n",
    "    for (col1, col2) in pairs:\n",
    "        count_big += 1\n",
    "        if (count_big % 100000) == 0:\n",
    "            elapsed_time = datetime.now() - start_time    \n",
    "            logger.info('Started number {} at {:.3f} seconds'.format(count_big, elapsed_time.total_seconds()))\n",
    "\n",
    "        if (col1 in metabolites.keys()) and (col2 in metabolites.keys()):\n",
    "            continue\n",
    "\n",
    "        if (col1 in proteins.keys()) and (col2 in proteins.keys()):\n",
    "            continue\n",
    "\n",
    "        if (col1 in clinical.keys()) and (col2 in clinical.keys()):\n",
    "            continue\n",
    "            \n",
    "        if (col1 in microbiome.keys()) and (col2 in microbiome.keys()):\n",
    "            continue\n",
    "            \n",
    "        else:\n",
    "            interomic_pairs.append((col1,col2))\n",
    "            \n",
    "        count += 1\n",
    "        \n",
    "        \n",
    "    logger.info('Identified {} interomic pairs'.format(len(interomic_pairs)))\n",
    "        \n",
    "    print('Running {} pairs'.format(count))\n",
    "    \n",
    "    return interomic_pairs"
   ]
  },
  {
   "cell_type": "code",
   "execution_count": null,
   "id": "07d18b29-7b44-4d7e-b828-9531d0f31f73",
   "metadata": {},
   "outputs": [],
   "source": [
    "interomic_pairs = count_pairs_interomic(analytes, proteins, metabolites, clinical, microbiome)"
   ]
  },
  {
   "cell_type": "markdown",
   "id": "2ee2b0ad-8451-4306-81f3-5a9b8e278e5f",
   "metadata": {},
   "source": [
    "# Function for interaction analysis - to be edited for each subset to test"
   ]
  },
  {
   "cell_type": "code",
   "execution_count": null,
   "id": "0984cf84-d5db-489c-9f0c-6e2e3eb55c31",
   "metadata": {},
   "outputs": [],
   "source": [
    "# comment in/out lines to analyze each group individually (female or male for E2, E4, bio young, bio old)\n",
    "def run_screened_glm_pairwise_E2_compare(screened_pairs, dat, analytes, proteins, metabolites, clinical, microbiome, max_run=None): # for E2\n",
    "# def run_screened_glm_pairwise_E4_compare(screened_pairs, dat, analytes, proteins, metabolites, clinical, microbiome, max_run=None): # for E4\n",
    "# def run_screened_glm_pairwise_health_compare(screened_pairs, dat, analytes, proteins, metabolites, clinical, microbiome, max_run=None): # for bio young\n",
    "# def run_screened_glm_pairwise_unhealth_compare(screened_pairs, dat, analytes, proteins, metabolites, clinical, microbiome, max_run=None): # for bio old\n",
    "\n",
    "    print('Running {} pairs'.format(len(screened_pairs)))\n",
    "         \n",
    "    count = 0 \n",
    "    done = 0\n",
    "    skipped = 0\n",
    "    completed = 0\n",
    "\n",
    "    results = []\n",
    "#     columns = list(dat.columns)\n",
    "\n",
    "    start_time = datetime.now()\n",
    "    for (col1, col2) in screened_pairs:\n",
    "            \n",
    "        if (col1 in proteins.keys()):\n",
    "            name1 = proteins[col1]['name']\n",
    "            subgroup1 = proteins[col1]['sub_group'] \n",
    "            supergroup1 = proteins[col1]['super_group']\n",
    "            type1 = 'protein'\n",
    "            mark1 = 'has_protein'\n",
    "        elif (col1 in metabolites.keys()):\n",
    "            name1 = metabolites[col1]['name']\n",
    "            subgroup1 = metabolites[col1]['sub_group'] \n",
    "            supergroup1 = metabolites[col1]['super_group']\n",
    "            type1 = 'metabolite'\n",
    "            mark1 = 'has_metab'\n",
    "        elif (col1 in clinical.keys()):\n",
    "            name1 = clinical[col1]['name']\n",
    "            subgroup1 = clinical[col1]['sub_group'] \n",
    "            supergroup1 = clinical[col1]['super_group']\n",
    "            type1 = 'clinical'\n",
    "            mark1 = 'has_clinical'\n",
    "        elif (col1 in microbiome.keys()):\n",
    "            name1 = microbiome[col1]['name']\n",
    "            subgroup1 = microbiome[col1]['sub_group'] \n",
    "            supergroup1 = microbiome[col1]['super_group']\n",
    "            mark1 = 'has_microbio'\n",
    "        else:\n",
    "            print('Col1 {} not found in any annotation'.format(col1))\n",
    "            name1 = None\n",
    "            subgroup1 = None\n",
    "            supergroup1 = None\n",
    "            type1 = None\n",
    "            mark1 = None\n",
    "            \n",
    "        if (col2 in proteins.keys()):\n",
    "            name2 = proteins[col2]['name']\n",
    "            subgroup2 = proteins[col2]['sub_group'] \n",
    "            supergroup2 = proteins[col2]['super_group']\n",
    "            type2 = 'protein'\n",
    "            mark2 = 'has_protein'\n",
    "        elif (col2 in metabolites.keys()):\n",
    "            name2 = metabolites[col2]['name']\n",
    "            subgroup2 = metabolites[col2]['sub_group'] \n",
    "            supergroup2 = metabolites[col2]['super_group']\n",
    "            type2 = 'metabolite'\n",
    "            mark2 = 'has_metab'\n",
    "        elif (col2 in clinical.keys()):\n",
    "            name2 = clinical[col2]['name']\n",
    "            subgroup2 = clinical[col2]['sub_group'] \n",
    "            supergroup2 = clinical[col2]['super_group']\n",
    "            type2 = 'clinical'\n",
    "            mark2 = 'has_clinical'\n",
    "        elif (col2 in microbiome.keys()):\n",
    "            name2 = microbiome[col2]['name']\n",
    "            subgroup2 = microbiome[col2]['sub_group'] \n",
    "            supergroup2 = microbiome[col2]['super_group']\n",
    "            type2 = 'microbiome'\n",
    "            mark2 = 'has_microbio'\n",
    "        else:\n",
    "            print('Col2 {} not found in any annotation'.format(col2))\n",
    "            name2 = None\n",
    "            subgroup2 = None\n",
    "            supergroup2 = None\n",
    "            type2 = None\n",
    "            mark2 = None\n",
    "\n",
    "        # Default is gaussian\n",
    "        family_type = family.Gaussian()\n",
    "        family_type.link = links.identity()\n",
    "        family_name = 'Gaussian'\n",
    "        family_link = 'Identity'\n",
    "\n",
    "        # Covariance structure\n",
    "        cov = sm.cov_struct.Exchangeable()\n",
    "\n",
    "        sub = dat[['public_client_id', col1, col2, 'age', 'APOE_Status', 'Model_Health', 'season', 'BMI_CALC', 'meds_cholesterol', 'PC1', 'PC2', mark1, mark2]].copy() # 'meds_blood_sugar', 'meds_blood_pressure', 'PC3', 'PC4'\n",
    "        sub.dropna(subset = [mark1,mark2], inplace=True)\n",
    "        sub.rename(columns={col1:'analyte1'}, inplace=True)\n",
    "        sub.rename(columns={col2:'analyte2'}, inplace=True)\n",
    "\n",
    "        if (sub['analyte1'].skew() > 1.5) | (sub['analyte1'].skew() < -1.5):\n",
    "\n",
    "            #logger.info('Setting gamma family for skewed analyte %s'%(col))\n",
    "\n",
    "            # Set any zero values to 1/2 the smallest value\n",
    "            sub.loc[sub['analyte1']==0, 'analyte1'] = (sub.loc[sub['analyte1']>0, 'analyte1'].min() / 2.0)\n",
    "\n",
    "            family_type = family.Gamma()\n",
    "            family_type.link = links.log()\n",
    "            family_name = 'Gamma'\n",
    "            family_link = 'Log'\n",
    "\n",
    "        try:\n",
    "\n",
    "#             ols_model = 'analyte1 ~ age*analyte2*C(sex) + C(season) + BMI_CALC + C(meds_cholesterol) + C(meds_blood_sugar) + C(meds_blood_pressure) + C(vendor) + PC1 + PC2 + PC3 + PC4'\n",
    "\n",
    "### comment the ols models below in/out to select analysis\n",
    "\n",
    "            #E2:\n",
    "            ols_model = 'analyte1 ~ analyte2*C(APOE_Status, Treatment(reference=1)) + age + C(season) + BMI_CALC + C(meds_cholesterol) + PC1 + PC2'  # C(meds_blood_sugar) + C(meds_blood_pressure) + PC3 + PC4 + C(vendor)\n",
    "        \n",
    "            #E4:\n",
    "            # ols_model = 'analyte1 ~ analyte2*C(APOE_Status) + age + C(season) + BMI_CALC + C(meds_cholesterol) + PC1 + PC2'  # C(meds_blood_sugar) + C(meds_blood_pressure) + PC3 + PC4 + C(vendor)\n",
    "            \n",
    "            #Bio_Young:\n",
    "            # ols_model = 'analyte1 ~ analyte2*C(Model_Health, Treatment(reference=1)) + age + C(season) + BMI_CALC + C(meds_cholesterol) + PC1 + PC2'  # C(meds_blood_sugar) + C(meds_blood_pressure) + PC3 + PC4 + C(vendor)\n",
    "            \n",
    "            #Bio_Old:\n",
    "            # ols_model = 'analyte1 ~ analyte2*C(Model_Health) + age + C(season) + BMI_CALC + C(meds_cholesterol) + PC1 + PC2'  # C(meds_blood_sugar) + C(meds_blood_pressure) + PC3 + PC4 + C(vendor)\n",
    "        \n",
    "            fitted_model = smf.glm(ols_model, data=sub, family=family_type, missing='drop').fit(maxiter=2000)\n",
    "            results.append((col1, name1, type1, supergroup1, subgroup1, col2, name2, type2, supergroup2, subgroup2, len(fitted_model.fittedvalues), fitted_model.converged, *fitted_model.params, *fitted_model.pvalues))\n",
    "\n",
    "        except Exception as e:\n",
    "            print('Failed analytes {} {} with error {}'.format(col1, col2, str(e)))\n",
    "            skipped += 1\n",
    "\n",
    "        count += 1\n",
    "        if (max_run is not None) and (count >= max_run):\n",
    "            break\n",
    "        \n",
    "        if (count % 1000) == 0:\n",
    "\n",
    "            elapsed_time = datetime.now() - start_time    \n",
    "            print('Finished {} in {:.3f} seconds (skipped {})'.format(count, elapsed_time.total_seconds(), skipped))\n",
    "      \n",
    "    elapsed_time = datetime.now() - start_time    \n",
    "    print('Complete! Yay! Finished {} in {:.3f} seconds (skipped {})'.format(count, elapsed_time.total_seconds(), skipped))\n",
    "\n",
    "\n",
    "### comment sections below in/out to select analysis\n",
    "    \n",
    "    #E2:\n",
    "    df = pd.DataFrame(results, columns=['col1', 'name1', 'type1', 'supergroup1', 'subgroup1', 'col2', 'name2', 'type2', 'supergroup2', 'subgroup2', 'n', 'converged', *fitted_model.params.index, *[str(x)+'_p' for x in fitted_model.pvalues.index]])\n",
    "    df.sort_values(['analyte2:C(APOE_Status, Treatment(reference=1))[T.E2]_p'], ascending=True, inplace=True)\n",
    "    \n",
    "    np.seterr(all='warn')\n",
    "    (adj_pval_index, adj_pval, _, _) = statsmodels.sandbox.stats.multicomp.multipletests(df.loc[~df['analyte2:C(APOE_Status, Treatment(reference=1))[T.E2]_p'].isnull(), 'analyte2:C(APOE_Status, Treatment(reference=1))[T.E2]_p'], alpha=0.05, method='fdr_bh')\n",
    "    df.loc[~df['analyte2:C(APOE_Status, Treatment(reference=1))[T.E2]_p'].isnull(), 'pval_adj'] = adj_pval\n",
    "    df.sort_values(['pval_adj'], ascending=True, inplace=True)\n",
    "    \n",
    "    #E4:\n",
    "#     df = pd.DataFrame(results, columns=['col1', 'name1', 'type1', 'supergroup1', 'subgroup1', 'col2', 'name2', 'type2', 'supergroup2', 'subgroup2', 'n', 'converged', *fitted_model.params.index, *[str(x)+'_p' for x in fitted_model.pvalues.index]])\n",
    "#     df.sort_values(['analyte2:C(APOE_Status)[T.E4]_p'], ascending=True, inplace=True)\n",
    "    \n",
    "#     np.seterr(all='warn')\n",
    "#     (adj_pval_index, adj_pval, _, _) = statsmodels.sandbox.stats.multicomp.multipletests(df.loc[~df['analyte2:C(APOE_Status)[T.E4]_p'].isnull(), 'analyte2:C(APOE_Status)[T.E4]_p'], alpha=0.05, method='fdr_bh')\n",
    "#     df.loc[~df['analyte2:C(APOE_Status)[T.E4]_p'].isnull(), 'pval_adj'] = adj_pval\n",
    "#     df.sort_values(['pval_adj'], ascending=True, inplace=True)\n",
    "            \n",
    "    #Bio_Young:\n",
    "#     df = pd.DataFrame(results, columns=['col1', 'name1', 'type1', 'supergroup1', 'subgroup1', 'col2', 'name2', 'type2', 'supergroup2', 'subgroup2', 'n', 'converged', *fitted_model.params.index, *[str(x)+'_p' for x in fitted_model.pvalues.index]])\n",
    "#     df.sort_values(['analyte2:C(Model_Health, Treatment(reference=1))[T.Healthy]_p'], ascending=True, inplace=True)\n",
    "    \n",
    "#     np.seterr(all='warn')\n",
    "#     (adj_pval_index, adj_pval, _, _) = statsmodels.sandbox.stats.multicomp.multipletests(df.loc[~df['analyte2:C(Model_Health, Treatment(reference=1))[T.Healthy]_p'].isnull(), 'analyte2:C(Model_Health, Treatment(reference=1))[T.Healthy]_p'], alpha=0.05, method='fdr_bh')\n",
    "#     df.loc[~df['analyte2:C(Model_Health, Treatment(reference=1))[T.Healthy]_p'].isnull(), 'pval_adj'] = adj_pval\n",
    "#     df.sort_values(['pval_adj'], ascending=True, inplace=True)\n",
    "            \n",
    "    #Bio_Old:\n",
    "#     df = pd.DataFrame(results, columns=['col1', 'name1', 'type1', 'supergroup1', 'subgroup1', 'col2', 'name2', 'type2', 'supergroup2', 'subgroup2', 'n', 'converged', *fitted_model.params.index, *[str(x)+'_p' for x in fitted_model.pvalues.index]])\n",
    "#     df.sort_values(['analyte2:C(Model_Health)[T.Unhealthy]_p'], ascending=True, inplace=True)\n",
    "    \n",
    "#     np.seterr(all='warn')\n",
    "#     (adj_pval_index, adj_pval, _, _) = statsmodels.sandbox.stats.multicomp.multipletests(df.loc[~df['analyte2:C(Model_Health)[T.Unhealthy]_p'].isnull(), 'analyte2:C(Model_Health)[T.Unhealthy]_p'], alpha=0.05, method='fdr_bh')\n",
    "#     df.loc[~df['analyte2:C(Model_Health)[T.Unhealthy]_p'].isnull(), 'pval_adj'] = adj_pval\n",
    "#     df.sort_values(['pval_adj'], ascending=True, inplace=True)\n",
    "    \n",
    "    return df"
   ]
  },
  {
   "cell_type": "code",
   "execution_count": null,
   "id": "8e47af91-3038-4728-93ce-b76ccde2103d",
   "metadata": {},
   "outputs": [],
   "source": [
    "# restrict data to subset to be tested\n",
    "df_F = df_with_apoe[(df_with_apoe.sex == 'F')]\n",
    "# df_M = df_with_apoe[(df_with_apoe.sex == 'M')]\n",
    "\n",
    "df_FE2 = df_F[(df_F.APOE_Status == 'E3')|(df_F.APOE_Status == 'E2')]\n",
    "# df_FE4 = df_F[(df_F.APOE_Status == 'E3')|(df_F.APOE_Status == 'E4')]\n",
    "# df_Fhealth = df_F[(df_F.Model_Health == 'Norm')|(df_F.Model_Health == 'Healthy')]\n",
    "# df_Funhealth = df_F[(df_F.Model_Health == 'Norm')|(df_F.Model_Health == 'Unhealthy')]\n",
    "\n",
    "# df_ME2 = df_M[(df_F.APOE_Status == 'E3')|(df_M.APOE_Status == 'E2')]\n",
    "# df_ME4 = df_M[(df_F.APOE_Status == 'E3')|(df_M.APOE_Status == 'E4')]\n",
    "# df_Mhealth = df_M[(df_F.Model_Health == 'Norm')|(df_M.Model_Health == 'Healthy')]\n",
    "# df_Munhealth = df_M[(df_F.Model_Health == 'Norm')|(df_M.Model_Health == 'Unhealthy')]"
   ]
  },
  {
   "cell_type": "markdown",
   "id": "1680a8ee-aae4-4214-b5f3-3762aa229564",
   "metadata": {},
   "source": [
    "# Test on small data set to ensure working before beginning long analysis"
   ]
  },
  {
   "cell_type": "code",
   "execution_count": null,
   "id": "2a787db8-ce4a-4bed-b97e-f94418487906",
   "metadata": {},
   "outputs": [],
   "source": [
    "import random"
   ]
  },
  {
   "cell_type": "code",
   "execution_count": null,
   "id": "9309f7c6-41ba-4cdf-8bf0-abba56e57e23",
   "metadata": {},
   "outputs": [],
   "source": [
    "test_pairs = random.sample(interomic_pairs, 16)"
   ]
  },
  {
   "cell_type": "code",
   "execution_count": null,
   "id": "931c4405-9105-416a-bee9-ddacb0ebd0e2",
   "metadata": {},
   "outputs": [],
   "source": [
    "import sys\n",
    "sys.stdout = open(\"TEST_5SD_Arivale_sep.txt\", \"a\")"
   ]
  },
  {
   "cell_type": "code",
   "execution_count": null,
   "id": "d560af84-ecf8-412d-aedc-e4fd2abb58d4",
   "metadata": {},
   "outputs": [],
   "source": [
    "print(\"testing\")"
   ]
  },
  {
   "cell_type": "code",
   "execution_count": null,
   "id": "d1f7306b-971b-4adb-a08b-e98b219a82ba",
   "metadata": {},
   "outputs": [],
   "source": [
    "temp = run_screened_glm_pairwise_E2_compare(test_pairs, df_FE2, analytes, proteins, metabolites, clinical, microbiome)\n",
    "# temp = run_screened_glm_pairwise_E4_compare(test_pairs, df_FE4, analytes, proteins, metabolites, clinical, microbiome)\n",
    "# temp = run_screened_glm_pairwise_health_compare(test_pairs, df_Fhealth, analytes, proteins, metabolites, clinical, microbiome)\n",
    "# temp = run_screened_glm_pairwise_unhealth_compare(test_pairs, df_Funhealth, analytes, proteins, metabolites, clinical, microbiome)\n",
    "\n",
    "# temp = run_screened_glm_pairwise_E2_compare(test_pairs, df_ME2, analytes, proteins, metabolites, clinical, microbiome)\n",
    "# temp = run_screened_glm_pairwise_E4_compare(test_pairs, df_ME4, analytes, proteins, metabolites, clinical, microbiome)\n",
    "# temp = run_screened_glm_pairwise_health_compare(test_pairs, df_Mhealth, analytes, proteins, metabolites, clinical, microbiome)\n",
    "# temp = run_screened_glm_pairwise_unhealth_compare(test_pairs, df_Munhealth, analytes, proteins, metabolites, clinical, microbiome)"
   ]
  },
  {
   "cell_type": "code",
   "execution_count": null,
   "id": "e93d6003-0a2c-41d4-b784-594f3318d97f",
   "metadata": {},
   "outputs": [],
   "source": [
    "temp # ensure data presence"
   ]
  },
  {
   "cell_type": "code",
   "execution_count": null,
   "id": "0db4424c-5f60-4d4e-8e5c-d50b0d1a4748",
   "metadata": {},
   "outputs": [],
   "source": [
    "temp.columns.to_list() # ensure desired columns"
   ]
  },
  {
   "cell_type": "markdown",
   "id": "17a734ec-8f28-41c7-a844-be9ec1f197af",
   "metadata": {
    "tags": []
   },
   "source": [
    "# Run Analysis"
   ]
  },
  {
   "cell_type": "code",
   "execution_count": null,
   "id": "7229711e-bbc6-435a-9ac1-f05b62b6cfe3",
   "metadata": {},
   "outputs": [],
   "source": [
    "import sys\n",
    "sys.stdout = open(\"240427_FE2_interact_log_Arivale_5SD_winsor.txt\", \"a\")\n",
    "# sys.stdout = open(\"240427_FE4_interact_log_Arivale_5SD_winsor.txt\", \"a\")\n",
    "# sys.stdout = open(\"240427_Fhealth_interact_log_Arivale_5SD_winsor.txt\", \"a\")\n",
    "# sys.stdout = open(\"240427_Funhealth_interact_log_Arivale_5SD_winsor.txt\", \"a\")\n",
    "\n",
    "# sys.stdout = open(\"240427_ME2_interact_log_Arivale_5SD_winsor.txt\", \"a\")\n",
    "# sys.stdout = open(\"240427_ME4_interact_log_Arivale_5SD_winsor.txt\", \"a\")\n",
    "# sys.stdout = open(\"240427_Mhealth_interact_log_Arivale_5SD_winsor.txt\", \"a\")\n",
    "# sys.stdout = open(\"240427_Munhealth_interact_log_Arivale_5SD_winsor.txt\", \"a\")"
   ]
  },
  {
   "cell_type": "code",
   "execution_count": null,
   "id": "be4e238b-9e5f-4b08-b2b0-ade24495c6e3",
   "metadata": {},
   "outputs": [],
   "source": [
    "interact_glm_FE2_compare = run_screened_glm_pairwise_E2_compare(interomic_pairs, df_FE2, analytes, proteins, metabolites, clinical, microbiome)\n",
    "# interact_glm_FE4_compare = run_screened_glm_pairwise_E4_compare(interomic_pairs, df_FE4, analytes, proteins, metabolites, clinical, microbiome)\n",
    "# interact_glm_Fhealth_compare = run_screened_glm_pairwise_health_compare(interomic_pairs, df_Fhealth, analytes, proteins, metabolites, clinical, microbiome)\n",
    "# interact_glm_Funhealth_compare = run_screened_glm_pairwise_unhealth_compare(interomic_pairs, df_Funhealth, analytes, proteins, metabolites, clinical, microbiome)\n",
    "\n",
    "# interact_glm_ME2_compare = run_screened_glm_pairwise_E2_compare(interomic_pairs, df_ME2, analytes, proteins, metabolites, clinical, microbiome)\n",
    "# interact_glm_ME4_compare = run_screened_glm_pairwise_E4_compare(interomic_pairs, df_ME4, analytes, proteins, metabolites, clinical, microbiome)\n",
    "# interact_glm_Mhealth_compare = run_screened_glm_pairwise_health_compare(interomic_pairs, df_Mhealth, analytes, proteins, metabolites, clinical, microbiome)\n",
    "# interact_glm_Munhealth_compare = run_screened_glm_pairwise_unhealth_compare(interomic_pairs, df_Munhealth, analytes, proteins, metabolites, clinical, microbiome)"
   ]
  },
  {
   "cell_type": "code",
   "execution_count": null,
   "id": "52567cba-4526-4145-b0c5-827d55fca7d7",
   "metadata": {},
   "outputs": [],
   "source": [
    "interact_glm_FE2_compare.to_csv('240427_FE2_interomic_interact_Arivale_5SD_winsor.txt.gz', index=False, sep='\\t', compression='gzip')\n",
    "# interact_glm_FE4_compare.to_csv('240427_FE4_interomic_interact_Arivale_5SD_winsor.txt.gz', index=False, sep='\\t', compression='gzip')\n",
    "# interact_glm_Fhealth_compare.to_csv('240427_Fhealth_interomic_interact_Arivale_5SD_winsor.txt.gz', index=False, sep='\\t', compression='gzip')\n",
    "# interact_glm_Funhealth_compare.to_csv('240427_Funhealth_interomic_interact_Arivale_5SD_winsor.txt.gz', index=False, sep='\\t', compression='gzip')\n",
    "\n",
    "# interact_glm_ME2_compare.to_csv('240427_ME2_interomic_interact_Arivale_5SD_winsor.txt.gz', index=False, sep='\\t', compression='gzip')\n",
    "# interact_glm_ME4_compare.to_csv('240427_ME4_interomic_interact_Arivale_5SD_winsor.txt.gz', index=False, sep='\\t', compression='gzip')\n",
    "# interact_glm_Mhealth_compare.to_csv('240427_Mhealth_interomic_interact_Arivale_5SD_winsor.txt.gz', index=False, sep='\\t', compression='gzip')\n",
    "# interact_glm_Munhealth_compare.to_csv('240427_Munhealth_interomic_interact_Arivale_5SD_winsor.txt.gz', index=False, sep='\\t', compression='gzip')"
   ]
  },
  {
   "cell_type": "markdown",
   "id": "df31fba0-12c3-41ff-b620-2aba838cdd64",
   "metadata": {},
   "source": [
    "---"
   ]
  },
  {
   "cell_type": "markdown",
   "id": "bd951d86-7342-4d1d-9036-3a9a882dd7bc",
   "metadata": {},
   "source": [
    "# Function for interaction analysis of e2 or e4 allele dosage or continuous delta age - to be edited for each subset to test"
   ]
  },
  {
   "cell_type": "code",
   "execution_count": null,
   "id": "69587283-e95e-48c0-a681-9e55de37742e",
   "metadata": {},
   "outputs": [],
   "source": [
    "# comment in/out lines to analyze each group individually (e2 alleles, e4 alleles, or delta age)\n",
    "def run_screened_glm_pairwise_e2_allele_compare(screened_pairs, dat, analytes, proteins, metabolites, clinical, microbiome, max_run=None): # for e2 allele\n",
    "# def run_screened_glm_pairwise_e4_allele_compare(screened_pairs, dat, analytes, proteins, metabolites, clinical, microbiome, max_run=None): # for e4 allele\n",
    "# def run_screened_glm_pairwise_delage_compare(screened_pairs, dat, analytes, proteins, metabolites, clinical, microbiome, max_run=None): # for delta age, continuous\n",
    "\n",
    "    print('Running {} pairs'.format(len(screened_pairs)))\n",
    "         \n",
    "    count = 0 \n",
    "    done = 0\n",
    "    skipped = 0\n",
    "    completed = 0\n",
    "\n",
    "    results = []\n",
    "#     columns = list(dat.columns)\n",
    "\n",
    "    start_time = datetime.now()\n",
    "    for (col1, col2) in screened_pairs:\n",
    "            \n",
    "        if (col1 in proteins.keys()):\n",
    "            name1 = proteins[col1]['name']\n",
    "            subgroup1 = proteins[col1]['sub_group'] \n",
    "            supergroup1 = proteins[col1]['super_group']\n",
    "            type1 = 'protein'\n",
    "            mark1 = 'has_protein'\n",
    "        elif (col1 in metabolites.keys()):\n",
    "            name1 = metabolites[col1]['name']\n",
    "            subgroup1 = metabolites[col1]['sub_group'] \n",
    "            supergroup1 = metabolites[col1]['super_group']\n",
    "            type1 = 'metabolite'\n",
    "            mark1 = 'has_metab'\n",
    "        elif (col1 in clinical.keys()):\n",
    "            name1 = clinical[col1]['name']\n",
    "            subgroup1 = clinical[col1]['sub_group'] \n",
    "            supergroup1 = clinical[col1]['super_group']\n",
    "            type1 = 'clinical'\n",
    "            mark1 = 'has_clinical'\n",
    "        elif (col1 in microbiome.keys()):\n",
    "            name1 = microbiome[col1]['name']\n",
    "            subgroup1 = microbiome[col1]['sub_group'] \n",
    "            supergroup1 = microbiome[col1]['super_group']\n",
    "            mark1 = 'has_microbio'\n",
    "        else:\n",
    "            print('Col1 {} not found in any annotation'.format(col1))\n",
    "            name1 = None\n",
    "            subgroup1 = None\n",
    "            supergroup1 = None\n",
    "            type1 = None\n",
    "            mark1 = None\n",
    "            \n",
    "        if (col2 in proteins.keys()):\n",
    "            name2 = proteins[col2]['name']\n",
    "            subgroup2 = proteins[col2]['sub_group'] \n",
    "            supergroup2 = proteins[col2]['super_group']\n",
    "            type2 = 'protein'\n",
    "            mark2 = 'has_protein'\n",
    "        elif (col2 in metabolites.keys()):\n",
    "            name2 = metabolites[col2]['name']\n",
    "            subgroup2 = metabolites[col2]['sub_group'] \n",
    "            supergroup2 = metabolites[col2]['super_group']\n",
    "            type2 = 'metabolite'\n",
    "            mark2 = 'has_metab'\n",
    "        elif (col2 in clinical.keys()):\n",
    "            name2 = clinical[col2]['name']\n",
    "            subgroup2 = clinical[col2]['sub_group'] \n",
    "            supergroup2 = clinical[col2]['super_group']\n",
    "            type2 = 'clinical'\n",
    "            mark2 = 'has_clinical'\n",
    "        elif (col2 in microbiome.keys()):\n",
    "            name2 = microbiome[col2]['name']\n",
    "            subgroup2 = microbiome[col2]['sub_group'] \n",
    "            supergroup2 = microbiome[col2]['super_group']\n",
    "            type2 = 'microbiome'\n",
    "            mark2 = 'has_microbio'\n",
    "        else:\n",
    "            print('Col2 {} not found in any annotation'.format(col2))\n",
    "            name2 = None\n",
    "            subgroup2 = None\n",
    "            supergroup2 = None\n",
    "            type2 = None\n",
    "            mark2 = None\n",
    "\n",
    "        # Default is gaussian\n",
    "        family_type = family.Gaussian()\n",
    "        family_type.link = links.identity()\n",
    "        family_name = 'Gaussian'\n",
    "        family_link = 'Identity'\n",
    "\n",
    "        # Covariance structure\n",
    "        cov = sm.cov_struct.Exchangeable()\n",
    "\n",
    "        sub = dat[['public_client_id', col1, col2, 'age', 'e2_allele', 'e4_allele', 'comb_del_age', 'season', 'BMI_CALC', 'meds_cholesterol', 'PC1', 'PC2', mark1, mark2]].copy() # 'meds_blood_sugar', 'meds_blood_pressure', 'PC3', 'PC4'\n",
    "        sub.dropna(subset = [mark1,mark2], inplace=True)\n",
    "        sub.rename(columns={col1:'analyte1'}, inplace=True)\n",
    "        sub.rename(columns={col2:'analyte2'}, inplace=True)\n",
    "\n",
    "        if (sub['analyte1'].skew() > 1.5) | (sub['analyte1'].skew() < -1.5):\n",
    "\n",
    "            #logger.info('Setting gamma family for skewed analyte %s'%(col))\n",
    "\n",
    "            # Set any zero values to 1/2 the smallest value\n",
    "            sub.loc[sub['analyte1']==0, 'analyte1'] = (sub.loc[sub['analyte1']>0, 'analyte1'].min() / 2.0)\n",
    "\n",
    "            family_type = family.Gamma()\n",
    "            family_type.link = links.log()\n",
    "            family_name = 'Gamma'\n",
    "            family_link = 'Log'\n",
    "\n",
    "        try:\n",
    "\n",
    "#             ols_model = 'analyte1 ~ age*analyte2*C(sex) + C(season) + BMI_CALC + C(meds_cholesterol) + C(meds_blood_sugar) + C(meds_blood_pressure) + C(vendor) + PC1 + PC2 + PC3 + PC4'\n",
    "\n",
    "### comment the ols models below in/out to select analysis\n",
    "\n",
    "            #e2 allele:\n",
    "            ols_model = 'analyte1 ~ analyte2*e2_allele + age + C(season) + BMI_CALC + C(meds_cholesterol) + PC1 + PC2'  # C(meds_blood_sugar) + C(meds_blood_pressure) + PC3 + PC4 + C(vendor)\n",
    "        \n",
    "            #e4 allele:\n",
    "            # ols_model = 'analyte1 ~ analyte2*e4_allele + age + C(season) + BMI_CALC + C(meds_cholesterol) + PC1 + PC2'  # C(meds_blood_sugar) + C(meds_blood_pressure) + PC3 + PC4 + C(vendor)\n",
    "            \n",
    "            #delta age:\n",
    "            # ols_model = 'analyte1 ~ analyte2*comb_del_age + age + C(season) + BMI_CALC + C(meds_cholesterol) + PC1 + PC2'  # C(meds_blood_sugar) + C(meds_blood_pressure) + PC3 + PC4 + C(vendor)\n",
    "            \n",
    "            fitted_model = smf.glm(ols_model, data=sub, family=family_type, missing='drop').fit(maxiter=2000)\n",
    "            results.append((col1, name1, type1, supergroup1, subgroup1, col2, name2, type2, supergroup2, subgroup2, len(fitted_model.fittedvalues), fitted_model.converged, *fitted_model.params, *fitted_model.pvalues))\n",
    "\n",
    "        except Exception as e:\n",
    "            print('Failed analytes {} {} with error {}'.format(col1, col2, str(e)))\n",
    "            skipped += 1\n",
    "\n",
    "        count += 1\n",
    "        if (max_run is not None) and (count >= max_run):\n",
    "            break\n",
    "        \n",
    "        if (count % 1000) == 0:\n",
    "\n",
    "            elapsed_time = datetime.now() - start_time    \n",
    "            print('Finished {} in {:.3f} seconds (skipped {})'.format(count, elapsed_time.total_seconds(), skipped))\n",
    "      \n",
    "    elapsed_time = datetime.now() - start_time    \n",
    "    print('Complete! Yay! Finished {} in {:.3f} seconds (skipped {})'.format(count, elapsed_time.total_seconds(), skipped))\n",
    "    \n",
    "    \n",
    "### comment the sections below in/out to select analysis\n",
    "    \n",
    "    #e2_allele:\n",
    "    df = pd.DataFrame(results, columns=['col1', 'name1', 'type1', 'supergroup1', 'subgroup1', 'col2', 'name2', 'type2', 'supergroup2', 'subgroup2', 'n', 'converged', *fitted_model.params.index, *[str(x)+'_p' for x in fitted_model.pvalues.index]])\n",
    "    df.sort_values(['analyte2:e2_allele_p'], ascending=True, inplace=True)\n",
    "    \n",
    "    np.seterr(all='warn')\n",
    "    (adj_pval_index, adj_pval, _, _) = statsmodels.sandbox.stats.multicomp.multipletests(df.loc[~df['analyte2:e2_allele_p'].isnull(), 'analyte2:e2_allele_p'], alpha=0.05, method='fdr_bh')\n",
    "    df.loc[~df['analyte2:e2_allele_p'].isnull(), 'pval_adj'] = adj_pval\n",
    "    df.sort_values(['pval_adj'], ascending=True, inplace=True)\n",
    "\n",
    "    #e4_allele:\n",
    "#     df = pd.DataFrame(results, columns=['col1', 'name1', 'type1', 'supergroup1', 'subgroup1', 'col2', 'name2', 'type2', 'supergroup2', 'subgroup2', 'n', 'converged', *fitted_model.params.index, *[str(x)+'_p' for x in fitted_model.pvalues.index]])\n",
    "#     df.sort_values(['analyte2:e4_allele_p'], ascending=True, inplace=True)\n",
    "    \n",
    "#     np.seterr(all='warn')\n",
    "#     (adj_pval_index, adj_pval, _, _) = statsmodels.sandbox.stats.multicomp.multipletests(df.loc[~df['analyte2:e4_allele_p'].isnull(), 'analyte2:e4_allele_p'], alpha=0.05, method='fdr_bh')\n",
    "#     df.loc[~df['analyte2:e4_allele_p'].isnull(), 'pval_adj'] = adj_pval\n",
    "#     df.sort_values(['pval_adj'], ascending=True, inplace=True)\n",
    "            \n",
    "    #delta age:\n",
    "#     df = pd.DataFrame(results, columns=['col1', 'name1', 'type1', 'supergroup1', 'subgroup1', 'col2', 'name2', 'type2', 'supergroup2', 'subgroup2', 'n', 'converged', *fitted_model.params.index, *[str(x)+'_p' for x in fitted_model.pvalues.index]])\n",
    "#     df.sort_values(['analyte2:comb_del_age_p'], ascending=True, inplace=True)\n",
    "    \n",
    "#     np.seterr(all='warn')\n",
    "#     (adj_pval_index, adj_pval, _, _) = statsmodels.sandbox.stats.multicomp.multipletests(df.loc[~df['analyte2:comb_del_age_p'].isnull(), 'analyte2:comb_del_age_p'], alpha=0.05, method='fdr_bh')\n",
    "#     df.loc[~df['analyte2:comb_del_age_p'].isnull(), 'pval_adj'] = adj_pval\n",
    "#     df.sort_values(['pval_adj'], ascending=True, inplace=True)\n",
    "            \n",
    "\n",
    "    \n",
    "    return df\n",
    "\n"
   ]
  },
  {
   "cell_type": "code",
   "execution_count": null,
   "id": "28f1b4ce-391d-4370-8420-08542319a47a",
   "metadata": {},
   "outputs": [],
   "source": [
    "df_with_apoe['e2_allele'] = 999\n",
    "df_with_apoe['e4_allele'] = 999\n",
    "for i in df_with_apoe.index:\n",
    "    if df_with_apoe.APOE_Genotype[i] == 'E2/E2':\n",
    "        df_with_apoe.e2_allele[i] = 2\n",
    "        df_with_apoe.e4_allele[i] = 0\n",
    "    if df_with_apoe.APOE_Genotype[i] == 'E2/E3':\n",
    "        df_with_apoe.e2_allele[i] = 1\n",
    "        df_with_apoe.e4_allele[i] = 0\n",
    "    if df_with_apoe.APOE_Genotype[i] == 'E2/E4':\n",
    "        df_with_apoe.e2_allele[i] = 1\n",
    "        df_with_apoe.e4_allele[i] = 1\n",
    "    if df_with_apoe.APOE_Genotype[i] == 'E3/E3':\n",
    "        df_with_apoe.e2_allele[i] = 0\n",
    "        df_with_apoe.e4_allele[i] = 0\n",
    "    if df_with_apoe.APOE_Genotype[i] == 'E3/E4':\n",
    "        df_with_apoe.e2_allele[i] = 0\n",
    "        df_with_apoe.e4_allele[i] = 1\n",
    "    if df_with_apoe.APOE_Genotype[i] == 'E4/E4':\n",
    "        df_with_apoe.e2_allele[i] = 0\n",
    "        df_with_apoe.e4_allele[i] = 2"
   ]
  },
  {
   "cell_type": "code",
   "execution_count": null,
   "id": "bf8ee569-53a5-4f60-8a60-c6235805bda3",
   "metadata": {},
   "outputs": [],
   "source": [
    "# restrict data to subset to be tested\n",
    "df_alleles = df_with_apoe[(df_with_apoe['e2_allele'] < 3) | (df_with_apoe['e4_allele'] < 3)]\n",
    "df_delage = df_with_apoe"
   ]
  },
  {
   "cell_type": "markdown",
   "id": "80930882-01d0-482e-933f-2df7f420071f",
   "metadata": {},
   "source": [
    "# Test on small data set to ensure working before beginning long analysis"
   ]
  },
  {
   "cell_type": "code",
   "execution_count": null,
   "id": "96797ef7-689a-42cb-a1d4-1b7c19192cc0",
   "metadata": {},
   "outputs": [],
   "source": [
    "import random"
   ]
  },
  {
   "cell_type": "code",
   "execution_count": null,
   "id": "575b6777-a7fd-43c1-b360-8416ec6f6fbc",
   "metadata": {},
   "outputs": [],
   "source": [
    "test_pairs = random.sample(interomic_pairs, 16)"
   ]
  },
  {
   "cell_type": "code",
   "execution_count": null,
   "id": "365c8211-cd01-48ea-bff7-84c4967e74ed",
   "metadata": {},
   "outputs": [],
   "source": [
    "import sys\n",
    "sys.stdout = open(\"TEST_5SD_Arivale_sep.txt\", \"a\")"
   ]
  },
  {
   "cell_type": "code",
   "execution_count": null,
   "id": "7c8ee0a1-506b-4feb-bd2b-14a40a54aea5",
   "metadata": {},
   "outputs": [],
   "source": [
    "print(\"testing\")"
   ]
  },
  {
   "cell_type": "code",
   "execution_count": null,
   "id": "9c068343-d22f-4c38-97ef-f13a4e453c26",
   "metadata": {},
   "outputs": [],
   "source": [
    "temp = run_screened_glm_pairwise_e2_allele_compare(test_pairs, df_alleles, analytes, proteins, metabolites, clinical, microbiome)\n",
    "# temp = run_screened_glm_pairwise_e4_allele_compare(test_pairs, df_alleles, analytes, proteins, metabolites, clinical, microbiome)\n",
    "# temp = run_screened_glm_pairwise_delage_compare(test_pairs, df_delage, analytes, proteins, metabolites, clinical, microbiome)"
   ]
  },
  {
   "cell_type": "code",
   "execution_count": null,
   "id": "4a1a73e2-5867-4436-bd93-1741a9202053",
   "metadata": {},
   "outputs": [],
   "source": [
    "temp # ensure data presence"
   ]
  },
  {
   "cell_type": "code",
   "execution_count": null,
   "id": "50d6b39b-ba07-45fc-977a-41c6f6fc0d64",
   "metadata": {},
   "outputs": [],
   "source": [
    "temp.columns.to_list() # ensure desired columns"
   ]
  },
  {
   "cell_type": "markdown",
   "id": "71ecfb0a-0c20-411a-974b-03d4b7e95aee",
   "metadata": {
    "tags": []
   },
   "source": [
    "# Run Analysis"
   ]
  },
  {
   "cell_type": "code",
   "execution_count": null,
   "id": "3cbe5dd0-2520-4b8e-b14c-8cbcaf573534",
   "metadata": {},
   "outputs": [],
   "source": [
    "import sys\n",
    "sys.stdout = open(\"240504_E2_allele_dose_interact_log_5SD_winsor.txt\", \"a\")\n",
    "# sys.stdout = open(\"240504_E4_allele_dose_interact_log_5SD_winsor.txt\", \"a\")\n",
    "# sys.stdout = open(\"240504_cont_del_age_interact_log_5SD_winsor.txt\", \"a\")"
   ]
  },
  {
   "cell_type": "code",
   "execution_count": null,
   "id": "95d0161d-229c-472e-9d5a-e1e3ff2e5368",
   "metadata": {},
   "outputs": [],
   "source": [
    "interact_glm_e2_allele_dose_compare = run_screened_glm_pairwise_e2_allele_compare(interomic_pairs, df_alleles, analytes, proteins, metabolites, clinical, microbiome)\n",
    "# interact_glm_e4_allele_dose_compare = run_screened_glm_pairwise_e4_allele_compare(interomic_pairs, df_alleles, analytes, proteins, metabolites, clinical, microbiome)\n",
    "# interact_glm_delage_compare = run_screened_glm_pairwise_delage_compare(interomic_pairs, df_delage, analytes, proteins, metabolites, clinical, microbiome)"
   ]
  },
  {
   "cell_type": "code",
   "execution_count": null,
   "id": "2651ba6b-9e5b-4035-b1b5-409a5b2ed5e4",
   "metadata": {},
   "outputs": [],
   "source": [
    "interact_glm_e2_allele_dose_compare.to_csv('240504_E2_allele_dose_interomic_interaction_5SD_winsor.txt.gz', index=False, sep='\\t', compression='gzip')\n",
    "# interact_glm_e4_allele_dose_compare.to_csv('240504_E4_allele_dose_interomic_interaction_5SD_winsor.txt.gz', index=False, sep='\\t', compression='gzip')\n",
    "# interact_glm_delage_compare.to_csv('240504_contin_del_age_interomic_interaction_5SD_winsor.txt.gz', index=False, sep='\\t', compression='gzip')"
   ]
  }
 ],
 "metadata": {
  "kernelspec": {
   "display_name": "arivale-py3 - Python",
   "language": "python",
   "name": "conda-env-arivale-py3-py"
  },
  "language_info": {
   "codemirror_mode": {
    "name": "ipython",
    "version": 3
   },
   "file_extension": ".py",
   "mimetype": "text/x-python",
   "name": "python",
   "nbconvert_exporter": "python",
   "pygments_lexer": "ipython3",
   "version": "3.9.7"
  }
 },
 "nbformat": 4,
 "nbformat_minor": 5
}
