{
 "cells": [
  {
   "cell_type": "markdown",
   "metadata": {
    "tags": []
   },
   "source": [
    "# Analyze and tidy-up Arivale inter-omic interaction analysis results\n",
    "\n",
    "Inputs:\n",
    "* 240427_FE2_interomic_interact_Arivale_5SD_winsor.txt.gz  \n",
    "* 240427_FE4_interomic_interact_Arivale_5SD_winsor.txt.gz  \n",
    "* 240427_Fhealth_interomic_interact_Arivale_5SD_winsor.txt.gz  \n",
    "* 240427_Funhealth_interomic_interact_Arivale_5SD_winsor.txt.gz  \n",
    "* 240427_ME2_interomic_interact_Arivale_5SD_winsor.txt.gz  \n",
    "* 240427_ME4_interomic_interact_Arivale_5SD_winsor.txt.gz  \n",
    "* 240427_Mhealth_interomic_interact_Arivale_5SD_winsor.txt.gz  \n",
    "* 240427_Munhealth_interomic_interact_Arivale_5SD_winsor.txt.gz  \n",
    "* 240504_E2_allele_dose_interomic_interaction_5SD_winsor.txt.gz  \n",
    "* 240504_E4_allele_dose_interomic_interaction_5SD_winsor.txt.gz  \n",
    "* 240504_contin_del_age_interomic_interaction_5SD_winsor.txt.gz  \n",
    "\n",
    "Outputs: data for Supplementary File 3; data for Table 2 and Supplementary Table 4\n",
    "\n",
    "'Save' lines are commented out  \n",
    "'Healthy' and 'Unhealthy' are renamed as 'Bio_Young' and 'Bio_Old' in figures and data files"
   ]
  },
  {
   "cell_type": "code",
   "execution_count": 1,
   "metadata": {},
   "outputs": [],
   "source": [
    "import pandas as pd\n",
    "import matplotlib.pyplot as plt\n",
    "import numpy as np\n",
    "import scipy.stats as sp\n",
    "import seaborn as sns\n",
    "from matplotlib import pyplot as plt\n",
    "import statsmodels.api as sm\n",
    "import statsmodels.formula.api as smf\n",
    "import sys\n",
    "import math\n",
    "import statsmodels"
   ]
  },
  {
   "cell_type": "code",
   "execution_count": 2,
   "metadata": {},
   "outputs": [],
   "source": [
    "rename_chems_dict_temp = {'Urate' : 'URIC ACID',\n",
    " 'Insulin' : 'INSULIN',\n",
    " 'HbA1c' : 'GLYCOHEMOGLOBIN A1C',\n",
    " 'Creatinine' : 'CREATININE ENZ, SER',\n",
    " 'Triglycerides' : 'TRIGLYCERIDES',\n",
    " 'Urea' : 'UREA NITROGEN',\n",
    " 'hs_CRP' : 'CRP HIGH SENSITIVITY',\n",
    " 'Glucose' : 'GLUCOSE',\n",
    " 'Haemoglobin' : 'HEMOGLOBIN',\n",
    " 'eGFR' : 'GFR, MDRD',\n",
    " 'Tot-cholesterol' : 'CHOLESTEROL, TOTAL',\n",
    " 'HDL' : 'HDL CHOL DIRECT',\n",
    " 'LDL' : 'LDL-CHOL CALCULATION'}\n",
    "\n",
    "rename_chems_dict = {value: key for key, value in rename_chems_dict_temp.items()}"
   ]
  },
  {
   "cell_type": "code",
   "execution_count": 3,
   "metadata": {},
   "outputs": [],
   "source": [
    "def get_pairs_to_validate(df):\n",
    "    \n",
    "    validation_list = []\n",
    "    \n",
    "    for i in df.index:\n",
    "        if df.type1[i] == 'clinical' and df.type2[i] == 'metabolite':\n",
    "            addition1_temp, addition2 = df.col1[i], df.name2[i]\n",
    "            \n",
    "            if addition1_temp in rename_chems_dict:\n",
    "                addition1 = rename_chems_dict[addition1_temp]\n",
    "            \n",
    "                validation_list.append((addition1, addition2))   \n",
    "    \n",
    "    \n",
    "    return validation_list"
   ]
  },
  {
   "cell_type": "markdown",
   "metadata": {},
   "source": [
    "# load in result files from Code02"
   ]
  },
  {
   "cell_type": "code",
   "execution_count": 4,
   "metadata": {},
   "outputs": [],
   "source": [
    "FE2_compare_inter = pd.read_table('/notebooks/0. APOE-Multiomics/Data_Files/240427_FE2_interomic_interact_Arivale_5SD_winsor.txt.gz', sep='\\t', compression='gzip')\n",
    "FE4_compare_inter = pd.read_table('/notebooks/0. APOE-Multiomics/Data_Files/240427_FE4_interomic_interact_Arivale_5SD_winsor.txt.gz', sep='\\t', compression='gzip')\n",
    "ME2_compare_inter = pd.read_table('/notebooks/0. APOE-Multiomics/Data_Files/240427_ME2_interomic_interact_Arivale_5SD_winsor.txt.gz', sep='\\t', compression='gzip')\n",
    "ME4_compare_inter = pd.read_table('/notebooks/0. APOE-Multiomics/Data_Files/240427_ME4_interomic_interact_Arivale_5SD_winsor.txt.gz', sep='\\t', compression='gzip')"
   ]
  },
  {
   "cell_type": "code",
   "execution_count": 5,
   "metadata": {},
   "outputs": [],
   "source": [
    "# perform missing pFDR calculation, typo\n",
    "np.seterr(all='warn')\n",
    "(adj_pval_index, adj_pval, _, _) = statsmodels.sandbox.stats.multicomp.multipletests(ME4_compare_inter.loc[~ME4_compare_inter['analyte2:C(APOE_Status)[T.E4]_p'].isnull(), 'analyte2:C(APOE_Status)[T.E4]_p'], alpha=0.05, method='fdr_bh')\n",
    "ME4_compare_inter.loc[~ME4_compare_inter['analyte2:C(APOE_Status)[T.E4]_p'].isnull(), 'pval_adj'] = adj_pval\n",
    "ME4_compare_inter.sort_values(['pval_adj'], ascending=True, inplace=True)"
   ]
  },
  {
   "cell_type": "code",
   "execution_count": 6,
   "metadata": {},
   "outputs": [],
   "source": [
    "F_health_compare_inter = pd.read_table('/notebooks/0. APOE-Multiomics/Data_Files/240427_Fhealth_interomic_interact_Arivale_5SD_winsor.txt.gz', sep='\\t', compression='gzip')\n",
    "F_unhealth_compare_inter = pd.read_table('/notebooks/0. APOE-Multiomics/Data_Files/240427_Funhealth_interomic_interact_Arivale_5SD_winsor.txt.gz', sep='\\t', compression='gzip')\n",
    "M_health_compare_inter = pd.read_table('/notebooks/0. APOE-Multiomics/Data_Files/240427_Mhealth_interomic_interact_Arivale_5SD_winsor.txt.gz', sep='\\t', compression='gzip')\n",
    "M_unhealth_compare_inter = pd.read_table('/notebooks/0. APOE-Multiomics/Data_Files/240427_Munhealth_interomic_interact_Arivale_5SD_winsor.txt.gz', sep='\\t', compression='gzip')"
   ]
  },
  {
   "cell_type": "markdown",
   "metadata": {},
   "source": [
    "# save csv of each for pairs with interaction beta pre-adjusted pval < 0.05\n",
    "# generate a list of pairs with interaction pFDR < 0.1 to specifically test/validate in TwinsUK"
   ]
  },
  {
   "cell_type": "code",
   "execution_count": 7,
   "metadata": {},
   "outputs": [],
   "source": [
    "FE2_output = FE2_compare_inter[(FE2_compare_inter.pval_adj < 0.1)|(FE2_compare_inter['analyte2:C(APOE_Status, Treatment(reference=1))[T.E2]_p'] < 0.05)]\n",
    "# FE2_output.to_csv('/notebooks/Final_Paper/240423_Investigate_Redo_Interactions/paper_output_table/240625_FE2_Arivale_5SD_interact.csv')"
   ]
  },
  {
   "cell_type": "code",
   "execution_count": 8,
   "metadata": {},
   "outputs": [],
   "source": [
    "FE2_output2 = FE2_output[(FE2_output.pval_adj < 0.1)]\n",
    "FE2_validation_list = get_pairs_to_validate(FE2_output2)"
   ]
  },
  {
   "cell_type": "code",
   "execution_count": 9,
   "metadata": {},
   "outputs": [
    {
     "data": {
      "text/plain": [
       "[]"
      ]
     },
     "execution_count": 9,
     "metadata": {},
     "output_type": "execute_result"
    }
   ],
   "source": [
    "FE2_validation_list"
   ]
  },
  {
   "cell_type": "code",
   "execution_count": 10,
   "metadata": {},
   "outputs": [],
   "source": [
    "ME2_output = ME2_compare_inter[(ME2_compare_inter.pval_adj < 0.1)|(ME2_compare_inter['analyte2:C(APOE_Status, Treatment(reference=1))[T.E2]_p'] < 0.05)]\n",
    "# ME2_output.to_csv('/notebooks/Final_Paper/240423_Investigate_Redo_Interactions/paper_output_table/240625_ME2_Arivale_5SD_interact.csv')"
   ]
  },
  {
   "cell_type": "code",
   "execution_count": 11,
   "metadata": {},
   "outputs": [],
   "source": [
    "ME2_output2 = ME2_output[(ME2_output.pval_adj < 0.1)]\n",
    "ME2_validation_list = get_pairs_to_validate(ME2_output2)"
   ]
  },
  {
   "cell_type": "code",
   "execution_count": 12,
   "metadata": {},
   "outputs": [
    {
     "data": {
      "text/plain": [
       "[('Triglycerides', 'ribitol'),\n",
       " ('HbA1c', 'phenol sulfate'),\n",
       " ('Triglycerides', 'ceramide (d18:1/20:0, d16:1/22:0, d20:1/18:0)*'),\n",
       " ('Glucose', 'phenol sulfate')]"
      ]
     },
     "execution_count": 12,
     "metadata": {},
     "output_type": "execute_result"
    }
   ],
   "source": [
    "ME2_validation_list"
   ]
  },
  {
   "cell_type": "code",
   "execution_count": 13,
   "metadata": {},
   "outputs": [],
   "source": [
    "FE4_output = FE4_compare_inter[(FE4_compare_inter.pval_adj < 0.1)|(FE4_compare_inter['analyte2:C(APOE_Status)[T.E4]_p'] < 0.05)]\n",
    "# FE4_output.to_csv('/notebooks/Final_Paper/240423_Investigate_Redo_Interactions/paper_output_table/240625_FE4_Arivale_5SD_interact.csv')"
   ]
  },
  {
   "cell_type": "code",
   "execution_count": 14,
   "metadata": {},
   "outputs": [],
   "source": [
    "FE4_output2 = FE4_output[(FE4_output.pval_adj < 0.1)]\n",
    "FE4_validation_list = get_pairs_to_validate(FE4_output2)"
   ]
  },
  {
   "cell_type": "code",
   "execution_count": 15,
   "metadata": {},
   "outputs": [
    {
     "data": {
      "text/plain": [
       "[]"
      ]
     },
     "execution_count": 15,
     "metadata": {},
     "output_type": "execute_result"
    }
   ],
   "source": [
    "FE4_validation_list"
   ]
  },
  {
   "cell_type": "code",
   "execution_count": 16,
   "metadata": {},
   "outputs": [],
   "source": [
    "ME4_output = ME4_compare_inter[(ME4_compare_inter.pval_adj < 0.1)|(ME4_compare_inter['analyte2:C(APOE_Status)[T.E4]_p'] < 0.05)]\n",
    "# ME4_output.to_csv('/notebooks/Final_Paper/240423_Investigate_Redo_Interactions/paper_output_table/240625_ME4_Arivale_5SD_interact.csv')"
   ]
  },
  {
   "cell_type": "code",
   "execution_count": 17,
   "metadata": {},
   "outputs": [],
   "source": [
    "ME4_output2 = ME4_output[(ME4_output.pval_adj < 0.1)]\n",
    "ME4_validation_list = get_pairs_to_validate(ME4_output2)"
   ]
  },
  {
   "cell_type": "code",
   "execution_count": 18,
   "metadata": {},
   "outputs": [
    {
     "data": {
      "text/plain": [
       "[]"
      ]
     },
     "execution_count": 18,
     "metadata": {},
     "output_type": "execute_result"
    }
   ],
   "source": [
    "ME4_validation_list"
   ]
  },
  {
   "cell_type": "code",
   "execution_count": 19,
   "metadata": {},
   "outputs": [],
   "source": [
    "Fhealth_output = F_health_compare_inter[(F_health_compare_inter.pval_adj < 0.1)|(F_health_compare_inter['analyte2:C(Model_Health, Treatment(reference=1))[T.Healthy]_p'] < 0.05)]\n",
    "# Fhealth_output.to_csv('/notebooks/Final_Paper/240423_Investigate_Redo_Interactions/paper_output_table/240625_Fhealth_Arivale_5SD_interact.csv')"
   ]
  },
  {
   "cell_type": "code",
   "execution_count": 20,
   "metadata": {},
   "outputs": [],
   "source": [
    "Fhealth_output2 = Fhealth_output[(Fhealth_output.pval_adj < 0.1)]\n",
    "Fhealth_validation_list = get_pairs_to_validate(Fhealth_output2)"
   ]
  },
  {
   "cell_type": "code",
   "execution_count": 21,
   "metadata": {},
   "outputs": [
    {
     "data": {
      "text/plain": [
       "[]"
      ]
     },
     "execution_count": 21,
     "metadata": {},
     "output_type": "execute_result"
    }
   ],
   "source": [
    "Fhealth_validation_list"
   ]
  },
  {
   "cell_type": "code",
   "execution_count": 22,
   "metadata": {},
   "outputs": [],
   "source": [
    "Mhealth_output = M_health_compare_inter[(M_health_compare_inter.pval_adj < 0.1)|(M_health_compare_inter['analyte2:C(Model_Health, Treatment(reference=1))[T.Healthy]_p'] < 0.05)]\n",
    "# Mhealth_output.to_csv('/notebooks/Final_Paper/240423_Investigate_Redo_Interactions/paper_output_table/240625_Mhealth_Arivale_5SD_interact.csv')"
   ]
  },
  {
   "cell_type": "code",
   "execution_count": 23,
   "metadata": {},
   "outputs": [],
   "source": [
    "Mhealth_output2 = Mhealth_output[(Mhealth_output.pval_adj < 0.1)]\n",
    "Mhealth_validation_list = get_pairs_to_validate(Mhealth_output2)"
   ]
  },
  {
   "cell_type": "code",
   "execution_count": 24,
   "metadata": {},
   "outputs": [
    {
     "data": {
      "text/plain": [
       "[]"
      ]
     },
     "execution_count": 24,
     "metadata": {},
     "output_type": "execute_result"
    }
   ],
   "source": [
    "Mhealth_validation_list"
   ]
  },
  {
   "cell_type": "code",
   "execution_count": 25,
   "metadata": {},
   "outputs": [],
   "source": [
    "Funhealth_output = F_unhealth_compare_inter[(F_unhealth_compare_inter.pval_adj < 0.1)|(F_unhealth_compare_inter['analyte2:C(Model_Health)[T.Unhealthy]_p'] < 0.05)]\n",
    "# Funhealth_output.to_csv('/notebooks/Final_Paper/240423_Investigate_Redo_Interactions/paper_output_table/240625_Funhealth_Arivale_5SD_interact.csv')"
   ]
  },
  {
   "cell_type": "code",
   "execution_count": 26,
   "metadata": {},
   "outputs": [],
   "source": [
    "Funhealth_output2 = Funhealth_output[(Funhealth_output.pval_adj < 0.1)]\n",
    "Funhealth_validation_list = get_pairs_to_validate(Funhealth_output2)"
   ]
  },
  {
   "cell_type": "code",
   "execution_count": 27,
   "metadata": {},
   "outputs": [
    {
     "data": {
      "text/plain": [
       "[('HbA1c', 'alpha-ketobutyrate'),\n",
       " ('HbA1c', 'gluconate'),\n",
       " ('HbA1c', '1-(1-enyl-palmitoyl)-2-myristoyl-GPC (P-16:0/14:0)*'),\n",
       " ('HbA1c', 'X - 19438'),\n",
       " ('HbA1c', 'taurine'),\n",
       " ('HbA1c', '2-hydroxybutyrate/2-hydroxyisobutyrate'),\n",
       " ('HbA1c', 'X - 24295'),\n",
       " ('HbA1c', 'alpha-ketoglutarate'),\n",
       " ('HbA1c', '4-methyl-2-oxopentanoate'),\n",
       " ('HbA1c', 'fructose'),\n",
       " ('Glucose', 'gluconate'),\n",
       " ('Glucose', '1-(1-enyl-palmitoyl)-2-myristoyl-GPC (P-16:0/14:0)*'),\n",
       " ('HbA1c', 'N-acetylleucine'),\n",
       " ('HbA1c', '3-methyl-2-oxovalerate'),\n",
       " ('HbA1c', 'pyruvate'),\n",
       " ('HbA1c', 'margarate (17:0)'),\n",
       " ('Glucose', 'alpha-ketobutyrate'),\n",
       " ('HbA1c', '3-hydroxy-2-ethylpropionate'),\n",
       " ('HbA1c', 'mannose'),\n",
       " ('Urea', 'linolenoylcarnitine (C18:3)*'),\n",
       " ('Glucose', 'X - 16087')]"
      ]
     },
     "execution_count": 27,
     "metadata": {},
     "output_type": "execute_result"
    }
   ],
   "source": [
    "Funhealth_validation_list"
   ]
  },
  {
   "cell_type": "code",
   "execution_count": 28,
   "metadata": {},
   "outputs": [],
   "source": [
    "Munhealth_output = M_unhealth_compare_inter[(M_unhealth_compare_inter.pval_adj < 0.1)|(M_unhealth_compare_inter['analyte2:C(Model_Health)[T.Unhealthy]_p'] < 0.05)]\n",
    "# Munhealth_output.to_csv('/notebooks/Final_Paper/240423_Investigate_Redo_Interactions/paper_output_table/240625_Munhealth_Arivale_5SD_interact.csv')"
   ]
  },
  {
   "cell_type": "code",
   "execution_count": 29,
   "metadata": {},
   "outputs": [],
   "source": [
    "Munhealth_output2 = Munhealth_output[(Munhealth_output.pval_adj < 0.1)]\n",
    "Munhealth_validation_list = get_pairs_to_validate(Munhealth_output2)"
   ]
  },
  {
   "cell_type": "code",
   "execution_count": 30,
   "metadata": {},
   "outputs": [
    {
     "data": {
      "text/plain": [
       "[('Glucose', 'N-acetylvaline'),\n",
       " ('Glucose', 'linoleoyl-linoleoyl-glycerol (18:2/18:2) [1]*'),\n",
       " ('Glucose', 'mannose'),\n",
       " ('HbA1c', 'N-acetylvaline'),\n",
       " ('Glucose', 'glutamate'),\n",
       " ('HbA1c', 'linoleoyl-linoleoyl-glycerol (18:2/18:2) [1]*'),\n",
       " ('HbA1c', 'aspartate'),\n",
       " ('Glucose', 'palmitoleoyl-linoleoyl-glycerol (16:1/18:2) [1]*'),\n",
       " ('HbA1c', 'pyruvate'),\n",
       " ('Glucose', 'pyruvate'),\n",
       " ('Glucose', 'leucine'),\n",
       " ('Glucose', 'aspartate'),\n",
       " ('Glucose', 'palmitoyl-linoleoyl-glycerol (16:0/18:2) [2]*'),\n",
       " ('Haemoglobin', 'N-acetylthreonine'),\n",
       " ('HbA1c', 'glutamate'),\n",
       " ('Haemoglobin', 'gamma-glutamylglycine'),\n",
       " ('HbA1c', '1-carboxyethylvaline'),\n",
       " ('HbA1c', 'linoleoyl-arachidonoyl-glycerol (18:2/20:4) [1]*'),\n",
       " ('Glucose', 'oleoyl-linoleoyl-glycerol (18:1/18:2) [1]'),\n",
       " ('HbA1c', 'isoleucine'),\n",
       " ('Glucose', 'cortolone glucuronide (1)'),\n",
       " ('HbA1c', 'leucine'),\n",
       " ('Glucose', 'butyrylcarnitine (C4)'),\n",
       " ('Glucose', 'phenol sulfate'),\n",
       " ('Glucose', 'linoleoyl-arachidonoyl-glycerol (18:2/20:4) [1]*'),\n",
       " ('HbA1c', '1-carboxyethylleucine'),\n",
       " ('HbA1c', 'phenol sulfate'),\n",
       " ('HbA1c', 'X - 24337'),\n",
       " ('HbA1c', 'X - 16087'),\n",
       " ('HbA1c', 'gamma-glutamylisoleucine*'),\n",
       " ('Glucose', 'creatine'),\n",
       " ('Glucose', '1-(1-enyl-palmitoyl)-2-oleoyl-GPC (P-16:0/18:1)*'),\n",
       " ('HbA1c', 'palmitoyl-linoleoyl-glycerol (16:0/18:2) [2]*'),\n",
       " ('Glucose', 'X - 23641'),\n",
       " ('HbA1c', 'lactate'),\n",
       " ('Glucose', '1-stearoyl-2-dihomo-linolenoyl-GPE (18:0/20:3n3 or 6)*'),\n",
       " ('Glucose', 'hydroxyasparagine**'),\n",
       " ('HbA1c', 'palmitoyl-linoleoyl-glycerol (16:0/18:2) [1]*'),\n",
       " ('Glucose', 'X - 16087'),\n",
       " ('Glucose', 'gamma-glutamylleucine'),\n",
       " ('Glucose', 'oleoyl-oleoyl-glycerol (18:1/18:1)  [1]*'),\n",
       " ('Glucose', 'oleoyl-linoleoyl-glycerol (18:1/18:2) [2]'),\n",
       " ('Glucose', 'valine'),\n",
       " ('HbA1c', 'mannose'),\n",
       " ('HbA1c', 'glutamine conjugate of C6H10O2 (1)*'),\n",
       " ('Glucose', 'sphingomyelin (d18:1/22:1, d18:2/22:0, d16:1/24:1)*'),\n",
       " ('Glucose', '1-oleoylglycerol (18:1)'),\n",
       " ('HbA1c', 'N-acetylisoleucine'),\n",
       " ('Haemoglobin', 'X - 12026'),\n",
       " ('HbA1c', 'oleoyl-linoleoyl-glycerol (18:1/18:2) [1]'),\n",
       " ('Glucose', 'linoleoyl-linolenoyl-glycerol (18:2/18:3) [2]*'),\n",
       " ('Glucose', 'hydroquinone sulfate'),\n",
       " ('HbA1c', 'N-acetylaspartate (NAA)'),\n",
       " ('Glucose', 'palmitoyl-oleoyl-glycerol (16:0/18:1) [1]*'),\n",
       " ('Glucose', 'choline'),\n",
       " ('Glucose', 'linoleoyl ethanolamide'),\n",
       " ('Glucose', '1-carboxyethylvaline'),\n",
       " ('Glucose', '1-linoleoyl-GPC (18:2)'),\n",
       " ('HbA1c', 'X - 12101'),\n",
       " ('HbA1c', 'palmitoleoyl-linoleoyl-glycerol (16:1/18:2) [1]*'),\n",
       " ('HbA1c', 'N2,N2-dimethylguanosine'),\n",
       " ('Glucose', 'palmitoyl-linoleoyl-glycerol (16:0/18:2) [1]*')]"
      ]
     },
     "execution_count": 30,
     "metadata": {},
     "output_type": "execute_result"
    }
   ],
   "source": [
    "Munhealth_validation_list"
   ]
  },
  {
   "cell_type": "markdown",
   "metadata": {},
   "source": [
    "---"
   ]
  },
  {
   "cell_type": "markdown",
   "metadata": {},
   "source": [
    "# analyze allele dose & continuous delta age interactions"
   ]
  },
  {
   "cell_type": "code",
   "execution_count": 31,
   "metadata": {},
   "outputs": [
    {
     "name": "stderr",
     "output_type": "stream",
     "text": [
      "/opt/conda/envs/arivale-py3/lib/python3.9/site-packages/IPython/core/interactiveshell.py:3444: DtypeWarning: Columns (0,3,4,8,9) have mixed types.Specify dtype option on import or set low_memory=False.\n",
      "  exec(code_obj, self.user_global_ns, self.user_ns)\n"
     ]
    }
   ],
   "source": [
    "E2_df = pd.read_table('/notebooks/Final_Paper/240423_Investigate_Redo_Interactions/240504_E2_allele_dose_interomic_interaction_5SD_winsor.txt.gz', sep='\\t', compression='gzip')\n",
    "E4_df = pd.read_table('/notebooks/Final_Paper/240423_Investigate_Redo_Interactions/240504_E4_allele_dose_interomic_interaction_5SD_winsor.txt.gz', sep='\\t', compression='gzip')\n",
    "del_age_continous_df = pd.read_table('/notebooks/Final_Paper/240423_Investigate_Redo_Interactions/240504_contin_del_age_interomic_interaction_5SD_winsor.txt.gz', sep='\\t', compression='gzip')"
   ]
  },
  {
   "cell_type": "code",
   "execution_count": 32,
   "metadata": {},
   "outputs": [],
   "source": [
    "E2_df_output = E2_df[(E2_df.E2_pFDR < 0.1)]"
   ]
  },
  {
   "cell_type": "code",
   "execution_count": 33,
   "metadata": {},
   "outputs": [],
   "source": [
    "E2_allele_validation_list = get_pairs_to_validate(E2_df_output)"
   ]
  },
  {
   "cell_type": "code",
   "execution_count": 34,
   "metadata": {},
   "outputs": [
    {
     "data": {
      "text/plain": [
       "[('HbA1c', 'malate'),\n",
       " ('HbA1c', 'fumarate'),\n",
       " ('Glucose', 'aconitate [cis or trans]'),\n",
       " ('Glucose', '3-hydroxy-2-ethylpropionate'),\n",
       " ('Tot-cholesterol', 'arabonate/xylonate')]"
      ]
     },
     "execution_count": 34,
     "metadata": {},
     "output_type": "execute_result"
    }
   ],
   "source": [
    "E2_allele_validation_list"
   ]
  },
  {
   "cell_type": "code",
   "execution_count": 35,
   "metadata": {},
   "outputs": [],
   "source": [
    "# E2_df_output.to_csv('/notebooks/Final_Paper/240423_Investigate_Redo_Interactions/paper_output_table/240625_E2_Arivale_5SD_allele_dose_interact_only_pFDR.csv')"
   ]
  },
  {
   "cell_type": "code",
   "execution_count": 36,
   "metadata": {},
   "outputs": [],
   "source": [
    "E4_df_output = E4_df[(E4_df.E4_pFDR < 0.1)]"
   ]
  },
  {
   "cell_type": "code",
   "execution_count": 37,
   "metadata": {},
   "outputs": [],
   "source": [
    "E4_allele_validation_list = get_pairs_to_validate(E4_df_output)"
   ]
  },
  {
   "cell_type": "code",
   "execution_count": 38,
   "metadata": {},
   "outputs": [],
   "source": [
    "# E4_df_output.to_csv('/notebooks/Final_Paper/240423_Investigate_Redo_Interactions/paper_output_table/240625_E4_Arivale_5SD_allele_dose_interact_pFDR_only.csv')"
   ]
  },
  {
   "cell_type": "code",
   "execution_count": 39,
   "metadata": {},
   "outputs": [
    {
     "data": {
      "text/plain": [
       "[]"
      ]
     },
     "execution_count": 39,
     "metadata": {},
     "output_type": "execute_result"
    }
   ],
   "source": [
    "E4_allele_validation_list"
   ]
  },
  {
   "cell_type": "code",
   "execution_count": 40,
   "metadata": {},
   "outputs": [],
   "source": [
    "delta_age_df_output = del_age_continous_df[(del_age_continous_df.delta_age_pFDR < 0.1)]"
   ]
  },
  {
   "cell_type": "code",
   "execution_count": 41,
   "metadata": {},
   "outputs": [],
   "source": [
    "delta_age_validation_list = get_pairs_to_validate(delta_age_df_output)"
   ]
  },
  {
   "cell_type": "code",
   "execution_count": 42,
   "metadata": {},
   "outputs": [],
   "source": [
    "# delta_age_df_output.to_csv('/notebooks/Final_Paper/240423_Investigate_Redo_Interactions/paper_output_table/240625_delta_age_Arivale_5SD_continuous_interact_pFDR_only.csv')"
   ]
  },
  {
   "cell_type": "code",
   "execution_count": 43,
   "metadata": {},
   "outputs": [
    {
     "data": {
      "text/plain": [
       "[('Insulin', 'eicosenoate (20:1)'),\n",
       " ('Tot-cholesterol', 'alpha-hydroxyisocaproate'),\n",
       " ('Tot-cholesterol', 'sphingomyelin (d18:2/23:1)*'),\n",
       " ('Tot-cholesterol', 'leucine'),\n",
       " ('Tot-cholesterol', '1-palmitoyl-GPE (16:0)'),\n",
       " ('Glucose', 'palmitate (16:0)'),\n",
       " ('Glucose', 'oleoyl-arachidonoyl-glycerol (18:1/20:4) [2]*'),\n",
       " ('Glucose', '1-carboxyethylleucine'),\n",
       " ('Glucose', '3,5-dichloro-2,6-dihydroxybenzoic acid'),\n",
       " ('Glucose', 'X - 23639'),\n",
       " ('Glucose', 'palmitoyl-oleoyl-glycerol (16:0/18:1) [2]*'),\n",
       " ('Glucose', 'beta-cryptoxanthin'),\n",
       " ('Glucose', '1-stearoyl-2-docosapentaenoyl-GPC (18:0/22:5n6)*'),\n",
       " ('Glucose', '1-eicosenoyl-GPC (20:1)*'),\n",
       " ('Glucose', 'valine'),\n",
       " ('Glucose', 'arginine'),\n",
       " ('Glucose', '1-oleoyl-GPC (18:1)'),\n",
       " ('Glucose', 'X - 24337'),\n",
       " ('Glucose', 'dihomo-linoleate (20:2n6)'),\n",
       " ('Glucose', 'glutamine conjugate of C6H10O2 (1)*'),\n",
       " ('Glucose', '1-(1-enyl-palmitoyl)-GPC (P-16:0)*'),\n",
       " ('Glucose', 'glutamine'),\n",
       " ('Glucose', 'behenoyl dihydrosphingomyelin (d18:0/22:0)*'),\n",
       " ('Glucose', 'aspartate'),\n",
       " ('Glucose', '1-linoleoyl-2-docosahexaenoyl-GPC (18:2/22:6)*'),\n",
       " ('Glucose', 'S-methylcysteine sulfoxide'),\n",
       " ('Glucose', '1,5-anhydroglucitol (1,5-AG)'),\n",
       " ('Glucose', 'S-methylcysteine'),\n",
       " ('Glucose', 'oxalate (ethanedioate)'),\n",
       " ('Glucose', 'hexanoylglutamine'),\n",
       " ('Glucose', '(S)-3-hydroxybutyrylcarnitine'),\n",
       " ('Glucose', 'tyrosine'),\n",
       " ('Glucose', 'alpha-ketoglutarate'),\n",
       " ('Glucose', '1-stearoyl-2-docosapentaenoyl-GPE (18:0/22:5n6)*'),\n",
       " ('Glucose', 'palmitoyl-linoleoyl-glycerol (16:0/18:2) [2]*'),\n",
       " ('Glucose', '1-margaroyl-GPC (17:0)'),\n",
       " ('Glucose', 'adrenate (22:4n6)'),\n",
       " ('Glucose', '3-hydroxyisobutyrate'),\n",
       " ('Glucose', '2-hydroxybutyrate/2-hydroxyisobutyrate'),\n",
       " ('Glucose', 'gamma-glutamylisoleucine*'),\n",
       " ('Glucose', 'palmitoyl-linoleoyl-glycerol (16:0/18:2) [1]*'),\n",
       " ('Glucose', '3-methyl-2-oxovalerate'),\n",
       " ('Glucose', 'linoleoyl-arachidonoyl-glycerol (18:2/20:4) [1]*'),\n",
       " ('Glucose', '1-palmityl-2-oleoyl-GPC (O-16:0/18:1)*'),\n",
       " ('Glucose', 'aconitate [cis or trans]'),\n",
       " ('Glucose', 'glycodeoxycholate'),\n",
       " ('Glucose', 'gamma-glutamylmethionine'),\n",
       " ('Glucose', 'linoleoyl-linoleoyl-glycerol (18:2/18:2) [1]*'),\n",
       " ('Glucose', 'leucine'),\n",
       " ('Glucose', 'X - 19438'),\n",
       " ('Glucose', 'lactate'),\n",
       " ('Glucose', 'gluconate'),\n",
       " ('Glucose', 'fructose'),\n",
       " ('Glucose', 'pyruvate'),\n",
       " ('Glucose', '1-carboxyethylphenylalanine'),\n",
       " ('Glucose', 'tartronate (hydroxymalonate)'),\n",
       " ('Glucose', 'stearate (18:0)'),\n",
       " ('Glucose', 'oleate/vaccenate (18:1)'),\n",
       " ('Glucose', '1,2-dilinoleoyl-GPC (18:2/18:2)'),\n",
       " ('Glucose', '1-(1-enyl-palmitoyl)-2-oleoyl-GPC (P-16:0/18:1)*'),\n",
       " ('Glucose', 'ribonate'),\n",
       " ('Glucose', 'gamma-glutamylcitrulline*'),\n",
       " ('Glucose', 'X - 24295'),\n",
       " ('Glucose', 'X - 16087'),\n",
       " ('Glucose', 'eicosenoate (20:1)'),\n",
       " ('Glucose', 'hydroxypalmitoyl sphingomyelin (d18:1/16:0(OH))**'),\n",
       " ('Glucose', 'metabolonic lactone sulfate'),\n",
       " ('Glucose', 'ribitol'),\n",
       " ('Glucose', 'X - 14056'),\n",
       " ('Glucose', 'alpha-ketobutyrate'),\n",
       " ('Glucose', 'N-acetylleucine'),\n",
       " ('Glucose', 'taurine'),\n",
       " ('Glucose', 'N-stearoyl-sphinganine (d18:0/18:0)*'),\n",
       " ('Glucose', 'docosapentaenoate (n6 DPA; 22:5n6)'),\n",
       " ('Glucose', '1-dihomo-linoleoyl-GPC (20:2)*'),\n",
       " ('Glucose', '5-hydroxylysine'),\n",
       " ('Glucose', 'hydantoin-5-propionate'),\n",
       " ('Glucose', 'X - 21829'),\n",
       " ('Glucose', '2-hydroxydecanoate'),\n",
       " ('Glucose', '3-methyl-2-oxobutyrate'),\n",
       " ('Glucose', 'asparagine'),\n",
       " ('Glucose', '4-methyl-2-oxopentanoate'),\n",
       " ('Glucose', 'glutamate'),\n",
       " ('Glucose', 'palmitoyl-oleoyl-glycerol (16:0/18:1) [1]*'),\n",
       " ('Glucose', 'N-acetylaspartate (NAA)'),\n",
       " ('Glucose', 'mannose'),\n",
       " ('Glucose', '3-hydroxy-2-ethylpropionate'),\n",
       " ('Glucose', '1-linoleoyl-GPC (18:2)'),\n",
       " ('Glucose', 'margarate (17:0)'),\n",
       " ('Glucose', '1-carboxyethylvaline'),\n",
       " ('Glucose', 'palmitoyl-arachidonoyl-glycerol (16:0/20:4) [2]*'),\n",
       " ('Glucose', 'gamma-glutamylglutamine'),\n",
       " ('Glucose', 'isoleucine'),\n",
       " ('Glucose', 'oleoyl-arachidonoyl-glycerol (18:1/20:4) [1]*'),\n",
       " ('Glucose', 'docosadienoate (22:2n6)'),\n",
       " ('Triglycerides', 'indolepropionate'),\n",
       " ('Triglycerides', '(16 or 17)-methylstearate (a19:0 or i19:0)'),\n",
       " ('HbA1c', 'deoxycholic acid 12-sulfate*'),\n",
       " ('HbA1c', 'palmitate (16:0)'),\n",
       " ('HbA1c', '1-carboxyethylleucine'),\n",
       " ('HbA1c', '1-arachidonoyl-GPC (20:4n6)*'),\n",
       " ('HbA1c', 'X - 23639'),\n",
       " ('HbA1c', 'glucose'),\n",
       " ('HbA1c', 'beta-cryptoxanthin'),\n",
       " ('HbA1c', 'sphingomyelin (d18:1/22:1, d18:2/22:0, d16:1/24:1)*'),\n",
       " ('HbA1c', 'glycodeoxycholate 3-sulfate'),\n",
       " ('HbA1c', '1-eicosenoyl-GPC (20:1)*'),\n",
       " ('HbA1c', 'valine'),\n",
       " ('HbA1c', '1-docosapentaenoyl-GPC (22:5n3)*'),\n",
       " ('HbA1c', '1-oleoyl-GPC (18:1)'),\n",
       " ('HbA1c', 'arachidonoylcholine'),\n",
       " ('HbA1c', 'X - 24337'),\n",
       " ('HbA1c', 'dihomo-linoleate (20:2n6)'),\n",
       " ('HbA1c', 'linoleoylcholine*'),\n",
       " ('HbA1c', 'glutamine conjugate of C6H10O2 (1)*'),\n",
       " ('HbA1c', 'sphingomyelin (d18:1/24:1, d18:2/24:0)*'),\n",
       " ('HbA1c', '1-(1-enyl-palmitoyl)-GPC (P-16:0)*'),\n",
       " ('HbA1c', 'glutamine'),\n",
       " ('HbA1c', '(R)-3-hydroxybutyrylcarnitine'),\n",
       " ('HbA1c', 'glycerate'),\n",
       " ('HbA1c', 'aspartate'),\n",
       " ('HbA1c', '1-linoleoyl-2-docosahexaenoyl-GPC (18:2/22:6)*'),\n",
       " ('HbA1c', '1,5-anhydroglucitol (1,5-AG)'),\n",
       " ('HbA1c', 'oxalate (ethanedioate)'),\n",
       " ('HbA1c', 'hexanoylglutamine'),\n",
       " ('HbA1c', '(S)-3-hydroxybutyrylcarnitine'),\n",
       " ('HbA1c', 'alpha-ketoglutarate'),\n",
       " ('HbA1c', 'palmitoyl-linoleoyl-glycerol (16:0/18:2) [2]*'),\n",
       " ('HbA1c', '10-nonadecenoate (19:1n9)'),\n",
       " ('HbA1c', 'adrenate (22:4n6)'),\n",
       " ('HbA1c', '3-hydroxyisobutyrate'),\n",
       " ('HbA1c', '2-hydroxybutyrate/2-hydroxyisobutyrate'),\n",
       " ('HbA1c', 'glutamine conjugate of C7H12O2*'),\n",
       " ('HbA1c', 'X - 11315'),\n",
       " ('HbA1c', 'gamma-glutamylisoleucine*'),\n",
       " ('HbA1c', 'palmitoyl-linoleoyl-glycerol (16:0/18:2) [1]*'),\n",
       " ('HbA1c', '4-allylphenol sulfate'),\n",
       " ('HbA1c', '3-methyl-2-oxovalerate'),\n",
       " ('HbA1c', 'linoleoyl-arachidonoyl-glycerol (18:2/20:4) [1]*'),\n",
       " ('HbA1c', 'aconitate [cis or trans]'),\n",
       " ('HbA1c', 'glycodeoxycholate'),\n",
       " ('HbA1c', 'gamma-glutamylleucine'),\n",
       " ('HbA1c', 'linoleate (18:2n6)'),\n",
       " ('HbA1c', 'linoleoyl-linoleoyl-glycerol (18:2/18:2) [1]*'),\n",
       " ('HbA1c', 'leucine'),\n",
       " ('HbA1c', 'X - 19438'),\n",
       " ('HbA1c', 'lactate'),\n",
       " ('HbA1c', 'gluconate'),\n",
       " ('HbA1c', 'fructose'),\n",
       " ('HbA1c', 'pyruvate'),\n",
       " ('HbA1c', '1-carboxyethylphenylalanine'),\n",
       " ('HbA1c', 'tartronate (hydroxymalonate)'),\n",
       " ('HbA1c', 'stearate (18:0)'),\n",
       " ('HbA1c', 'oleate/vaccenate (18:1)'),\n",
       " ('HbA1c', '1-(1-enyl-palmitoyl)-2-linoleoyl-GPC (P-16:0/18:2)*'),\n",
       " ('HbA1c', '1-(1-enyl-palmitoyl)-2-oleoyl-GPC (P-16:0/18:1)*'),\n",
       " ('HbA1c', 'palmitoylcholine'),\n",
       " ('HbA1c', 'maleate'),\n",
       " ('HbA1c', '3-hydroxyoctanoate'),\n",
       " ('HbA1c', 'X - 24295'),\n",
       " ('HbA1c', 'eicosenoate (20:1)'),\n",
       " ('HbA1c', 'metabolonic lactone sulfate'),\n",
       " ('HbA1c', 'X - 14056'),\n",
       " ('HbA1c', 'alpha-ketobutyrate'),\n",
       " ('HbA1c', '3-indoleglyoxylic acid'),\n",
       " ('HbA1c', 'N-acetylleucine'),\n",
       " ('HbA1c', '6-oxopiperidine-2-carboxylate'),\n",
       " ('HbA1c', 'taurine'),\n",
       " ('HbA1c', 'gamma-CEHC'),\n",
       " ('HbA1c', 'docosapentaenoate (n6 DPA; 22:5n6)'),\n",
       " ('HbA1c', 'X - 21339'),\n",
       " ('HbA1c', 'beta-hydroxyisovalerate'),\n",
       " ('HbA1c', 'gamma-glutamylvaline'),\n",
       " ('HbA1c', '1-dihomo-linoleoyl-GPC (20:2)*'),\n",
       " ('HbA1c', 'N-acetylglutamate'),\n",
       " ('HbA1c', 'N-acetylvaline'),\n",
       " ('HbA1c', 'X - 21829'),\n",
       " ('HbA1c', 'N-delta-acetylornithine'),\n",
       " ('HbA1c', '3-methyl-2-oxobutyrate'),\n",
       " ('HbA1c', 'glutamate'),\n",
       " ('HbA1c', 'N-acetylaspartate (NAA)'),\n",
       " ('HbA1c', 'mannose'),\n",
       " ('HbA1c', '3-hydroxy-2-ethylpropionate'),\n",
       " ('HbA1c', 'sphingomyelin (d18:2/24:1, d18:1/24:2)*'),\n",
       " ('HbA1c', '1-linoleoyl-GPC (18:2)'),\n",
       " ('HbA1c', 'X - 16935'),\n",
       " ('HbA1c', 'margarate (17:0)'),\n",
       " ('HbA1c', '1-carboxyethylvaline'),\n",
       " ('HbA1c', '3beta-hydroxy-5-cholestenoate'),\n",
       " ('HbA1c', 'palmitoyl-arachidonoyl-glycerol (16:0/20:4) [2]*'),\n",
       " ('HbA1c', 'gamma-glutamylglutamine'),\n",
       " ('HbA1c', 'isoleucine'),\n",
       " ('HbA1c', 'docosadienoate (22:2n6)'),\n",
       " ('HbA1c', 'proline'),\n",
       " ('Haemoglobin', '2,3-dihydroxy-5-methylthio-4-pentenoate (DMTPA)*'),\n",
       " ('Haemoglobin', 'X - 12007'),\n",
       " ('Haemoglobin', 'pregnenetriol disulfate*'),\n",
       " ('Haemoglobin', '1-methyl-5-imidazoleacetate'),\n",
       " ('Haemoglobin', 'creatine'),\n",
       " ('Haemoglobin', 'pyroglutamine*'),\n",
       " ('LDL', 'valine'),\n",
       " ('eGFR', '1-ribosyl-imidazoleacetate*'),\n",
       " ('HDL', '1-(1-enyl-palmitoyl)-2-palmitoleoyl-GPC (P-16:0/16:1)*'),\n",
       " ('HDL', '1-palmityl-2-linoleoyl-GPC (O-16:0/18:2)*'),\n",
       " ('HDL', 'palmitoyl-linoleoyl-glycerol (16:0/18:2) [2]*'),\n",
       " ('HDL', '1-palmityl-2-oleoyl-GPC (O-16:0/18:1)*'),\n",
       " ('HDL', '1-(1-enyl-palmitoyl)-2-myristoyl-GPC (P-16:0/14:0)*'),\n",
       " ('HDL', '1-(1-enyl-palmitoyl)-2-oleoyl-GPC (P-16:0/18:1)*'),\n",
       " ('Urate', 'valine'),\n",
       " ('Urate', '1-stearoyl-2-linoleoyl-GPI (18:0/18:2)'),\n",
       " ('Urate', '1-palmitoyl-2-oleoyl-GPI (16:0/18:1)*'),\n",
       " ('Creatinine', '1-methyl-4-imidazoleacetate'),\n",
       " ('Creatinine', '1-ribosyl-imidazoleacetate*'),\n",
       " ('Creatinine', 'X - 17351'),\n",
       " ('Creatinine', 'X - 21821')]"
      ]
     },
     "execution_count": 43,
     "metadata": {},
     "output_type": "execute_result"
    }
   ],
   "source": [
    "delta_age_validation_list"
   ]
  },
  {
   "cell_type": "markdown",
   "metadata": {},
   "source": [
    "---"
   ]
  },
  {
   "cell_type": "markdown",
   "metadata": {},
   "source": [
    "# find concordant/discordant interaction pairs between groups"
   ]
  },
  {
   "cell_type": "code",
   "execution_count": 44,
   "metadata": {},
   "outputs": [],
   "source": [
    "FE2_sum_comp = FE2_compare_inter[(FE2_compare_inter.pval_adj < 0.1)][['col1', 'name1', 'col2', 'name2',\n",
    "       'C(APOE_Status, Treatment(reference=1))[T.E2]', 'analyte2',\n",
    "       'analyte2:C(APOE_Status, Treatment(reference=1))[T.E2]', 'pval_adj']]\n",
    "\n",
    "FE2_sum_comp.rename(columns = {'C(APOE_Status, Treatment(reference=1))[T.E2]':'FE2_C(APOE_Status, Treatment(reference=1))[T.E2]',\n",
    "                               'analyte2':'FE2_analyte2',\n",
    "                               'analyte2:C(APOE_Status, Treatment(reference=1))[T.E2]':'FE2_interaction',\n",
    "                              'pval_adj':'FE2_pval_adj'}\n",
    "                    , inplace = True)"
   ]
  },
  {
   "cell_type": "code",
   "execution_count": 45,
   "metadata": {},
   "outputs": [],
   "source": [
    "FE4_sum_comp = FE4_compare_inter[(FE4_compare_inter.pval_adj < 0.1)][['col1', 'name1', 'col2', 'name2',\n",
    "       'C(APOE_Status)[T.E4]', 'analyte2',\n",
    "       'analyte2:C(APOE_Status)[T.E4]', 'pval_adj']]\n",
    "\n",
    "FE4_sum_comp.rename(columns = {'C(APOE_Status)[T.E4]':'FE4_C(APOE_Status)[T.E4]',\n",
    "                               'analyte2':'FE4_analyte2',\n",
    "                               'analyte2:C(APOE_Status)[T.E4]':'FE4_interaction',\n",
    "                              'pval_adj':'FE4_pval_adj'}\n",
    "                    , inplace = True)"
   ]
  },
  {
   "cell_type": "code",
   "execution_count": 46,
   "metadata": {},
   "outputs": [],
   "source": [
    "ME4_sum_comp = ME4_compare_inter[(ME4_compare_inter.pval_adj < 0.1)][['col1', 'name1', 'col2', 'name2',\n",
    "       'C(APOE_Status)[T.E4]', 'analyte2',\n",
    "       'analyte2:C(APOE_Status)[T.E4]', 'pval_adj']]\n",
    "\n",
    "ME4_sum_comp.rename(columns = {'C(APOE_Status)[T.E4]':'ME4_C(APOE_Status)[T.E4]',\n",
    "                               'analyte2':'ME4_analyte2',\n",
    "                               'analyte2:C(APOE_Status)[T.E4]':'ME4_interaction',\n",
    "                              'pval_adj':'ME4_pval_adj'}\n",
    "                    , inplace = True)"
   ]
  },
  {
   "cell_type": "code",
   "execution_count": 47,
   "metadata": {},
   "outputs": [],
   "source": [
    "ME2_sum_comp = ME2_compare_inter[(ME2_compare_inter.pval_adj < 0.1)][['col1', 'name1', 'col2', 'name2',\n",
    "       'C(APOE_Status, Treatment(reference=1))[T.E2]', 'analyte2', 'C(APOE_Status, Treatment(reference=1))[T.E2]_p', 'analyte2_p',\n",
    "       'analyte2:C(APOE_Status, Treatment(reference=1))[T.E2]', 'analyte2:C(APOE_Status, Treatment(reference=1))[T.E2]_p', 'pval_adj']]\n",
    "\n",
    "ME2_sum_comp.rename(columns = {'C(APOE_Status, Treatment(reference=1))[T.E2]':'ME2_C(APOE_Status, Treatment(reference=1))[T.E2]',\n",
    "                               'analyte2':'ME2_analyte2',\n",
    "                               'analyte2:C(APOE_Status, Treatment(reference=1))[T.E2]':'ME2_interaction',\n",
    "                              'pval_adj':'ME2_pval_adj'}\n",
    "                    , inplace = True)"
   ]
  },
  {
   "cell_type": "code",
   "execution_count": 48,
   "metadata": {},
   "outputs": [],
   "source": [
    "Mhealth_sum_comp = M_health_compare_inter[(M_health_compare_inter.pval_adj < 0.1)][['col1', 'name1', 'col2', 'name2',\n",
    "       'C(Model_Health, Treatment(reference=1))[T.Healthy]', 'analyte2',\n",
    "       'analyte2:C(Model_Health, Treatment(reference=1))[T.Healthy]', 'pval_adj']]\n",
    "\n",
    "Mhealth_sum_comp.rename(columns = {'C(Model_Health, Treatment(reference=1))[T.Healthy]':'Mhealth_C(Model_Health, Treatment(reference=1))[T.Healthy]',\n",
    "                               'analyte2':'Mhealth_analyte2',\n",
    "                               'analyte2:C(Model_Health, Treatment(reference=1))[T.Healthy]':'Mhealth_interaction',\n",
    "                              'pval_adj':'Mhealth_pval_adj'}\n",
    "                    , inplace = True)"
   ]
  },
  {
   "cell_type": "code",
   "execution_count": 49,
   "metadata": {},
   "outputs": [],
   "source": [
    "Fhealth_sum_comp = F_health_compare_inter[(F_health_compare_inter.pval_adj < 0.1)][['col1', 'name1', 'col2', 'name2',\n",
    "       'C(Model_Health, Treatment(reference=1))[T.Healthy]', 'analyte2',\n",
    "       'analyte2:C(Model_Health, Treatment(reference=1))[T.Healthy]', 'pval_adj']]\n",
    "\n",
    "Fhealth_sum_comp.rename(columns = {'C(Model_Health, Treatment(reference=1))[T.Healthy]':'Fhealth_C(Model_Health, Treatment(reference=1))[T.Healthy]',\n",
    "                               'analyte2':'Fhealth_analyte2',\n",
    "                               'analyte2:C(Model_Health, Treatment(reference=1))[T.Healthy]':'Fhealth_interaction',\n",
    "                              'pval_adj':'Fhealth_pval_adj'}\n",
    "                    , inplace = True)"
   ]
  },
  {
   "cell_type": "code",
   "execution_count": 50,
   "metadata": {},
   "outputs": [],
   "source": [
    "Funhealth_sum_comp = F_unhealth_compare_inter[(F_unhealth_compare_inter.pval_adj < 0.1)][['col1', 'name1', 'col2', 'name2',\n",
    "       'C(Model_Health)[T.Unhealthy]', 'analyte2',\n",
    "       'analyte2:C(Model_Health)[T.Unhealthy]', 'pval_adj']]\n",
    "\n",
    "Funhealth_sum_comp.rename(columns = {'C(Model_Health)[T.Unhealthy]':'Funhealth_C(Model_Health)[T.Unhealthy]',\n",
    "                               'analyte2':'Funhealth_analyte2',\n",
    "                               'analyte2:C(Model_Health)[T.Unhealthy]':'Funhealth_interaction',\n",
    "                              'pval_adj':'Funhealth_pval_adj'}\n",
    "                    , inplace = True)"
   ]
  },
  {
   "cell_type": "code",
   "execution_count": 51,
   "metadata": {},
   "outputs": [],
   "source": [
    "Munhealth_sum_comp = M_unhealth_compare_inter[(M_unhealth_compare_inter.pval_adj < 0.1)][['col1', 'name1', 'col2', 'name2',\n",
    "       'C(Model_Health)[T.Unhealthy]', 'analyte2',\n",
    "       'analyte2:C(Model_Health)[T.Unhealthy]', 'pval_adj']]\n",
    "\n",
    "Munhealth_sum_comp.rename(columns = {'C(Model_Health)[T.Unhealthy]':'Munhealth_C(Model_Health)[T.Unhealthy]',\n",
    "                               'analyte2':'Munhealth_analyte2',\n",
    "                               'analyte2:C(Model_Health)[T.Unhealthy]':'Munhealth_interaction',\n",
    "                              'pval_adj':'Munhealth_pval_adj'}\n",
    "                    , inplace = True)"
   ]
  },
  {
   "cell_type": "code",
   "execution_count": 52,
   "metadata": {},
   "outputs": [
    {
     "data": {
      "text/html": [
       "<div>\n",
       "<style scoped>\n",
       "    .dataframe tbody tr th:only-of-type {\n",
       "        vertical-align: middle;\n",
       "    }\n",
       "\n",
       "    .dataframe tbody tr th {\n",
       "        vertical-align: top;\n",
       "    }\n",
       "\n",
       "    .dataframe thead th {\n",
       "        text-align: right;\n",
       "    }\n",
       "</style>\n",
       "<table border=\"1\" class=\"dataframe\">\n",
       "  <thead>\n",
       "    <tr style=\"text-align: right;\">\n",
       "      <th></th>\n",
       "      <th>col1</th>\n",
       "      <th>name1</th>\n",
       "      <th>col2</th>\n",
       "      <th>name2</th>\n",
       "      <th>ME2_C(APOE_Status, Treatment(reference=1))[T.E2]</th>\n",
       "      <th>ME2_analyte2</th>\n",
       "      <th>C(APOE_Status, Treatment(reference=1))[T.E2]_p</th>\n",
       "      <th>analyte2_p</th>\n",
       "      <th>ME2_interaction</th>\n",
       "      <th>analyte2:C(APOE_Status, Treatment(reference=1))[T.E2]_p</th>\n",
       "      <th>ME2_pval_adj</th>\n",
       "      <th>ME4_C(APOE_Status)[T.E4]</th>\n",
       "      <th>ME4_analyte2</th>\n",
       "      <th>ME4_interaction</th>\n",
       "      <th>ME4_pval_adj</th>\n",
       "      <th>interact_dif_sign</th>\n",
       "    </tr>\n",
       "  </thead>\n",
       "  <tbody>\n",
       "  </tbody>\n",
       "</table>\n",
       "</div>"
      ],
      "text/plain": [
       "Empty DataFrame\n",
       "Columns: [col1, name1, col2, name2, ME2_C(APOE_Status, Treatment(reference=1))[T.E2], ME2_analyte2, C(APOE_Status, Treatment(reference=1))[T.E2]_p, analyte2_p, ME2_interaction, analyte2:C(APOE_Status, Treatment(reference=1))[T.E2]_p, ME2_pval_adj, ME4_C(APOE_Status)[T.E4], ME4_analyte2, ME4_interaction, ME4_pval_adj, interact_dif_sign]\n",
       "Index: []"
      ]
     },
     "execution_count": 52,
     "metadata": {},
     "output_type": "execute_result"
    }
   ],
   "source": [
    "pd.merge(ME2_sum_comp, ME4_sum_comp, how='inner', on=['col1', 'col2', 'name1','name2']).assign(interact_dif_sign=lambda x: np.sign(x.ME2_interaction * x.ME4_interaction))"
   ]
  },
  {
   "cell_type": "code",
   "execution_count": 53,
   "metadata": {},
   "outputs": [
    {
     "data": {
      "text/html": [
       "<div>\n",
       "<style scoped>\n",
       "    .dataframe tbody tr th:only-of-type {\n",
       "        vertical-align: middle;\n",
       "    }\n",
       "\n",
       "    .dataframe tbody tr th {\n",
       "        vertical-align: top;\n",
       "    }\n",
       "\n",
       "    .dataframe thead th {\n",
       "        text-align: right;\n",
       "    }\n",
       "</style>\n",
       "<table border=\"1\" class=\"dataframe\">\n",
       "  <thead>\n",
       "    <tr style=\"text-align: right;\">\n",
       "      <th></th>\n",
       "      <th>col1</th>\n",
       "      <th>name1</th>\n",
       "      <th>col2</th>\n",
       "      <th>name2</th>\n",
       "      <th>ME2_C(APOE_Status, Treatment(reference=1))[T.E2]</th>\n",
       "      <th>ME2_analyte2</th>\n",
       "      <th>C(APOE_Status, Treatment(reference=1))[T.E2]_p</th>\n",
       "      <th>analyte2_p</th>\n",
       "      <th>ME2_interaction</th>\n",
       "      <th>analyte2:C(APOE_Status, Treatment(reference=1))[T.E2]_p</th>\n",
       "      <th>ME2_pval_adj</th>\n",
       "      <th>FE2_C(APOE_Status, Treatment(reference=1))[T.E2]</th>\n",
       "      <th>FE2_analyte2</th>\n",
       "      <th>FE2_interaction</th>\n",
       "      <th>FE2_pval_adj</th>\n",
       "      <th>interact_dif_sign</th>\n",
       "    </tr>\n",
       "  </thead>\n",
       "  <tbody>\n",
       "  </tbody>\n",
       "</table>\n",
       "</div>"
      ],
      "text/plain": [
       "Empty DataFrame\n",
       "Columns: [col1, name1, col2, name2, ME2_C(APOE_Status, Treatment(reference=1))[T.E2], ME2_analyte2, C(APOE_Status, Treatment(reference=1))[T.E2]_p, analyte2_p, ME2_interaction, analyte2:C(APOE_Status, Treatment(reference=1))[T.E2]_p, ME2_pval_adj, FE2_C(APOE_Status, Treatment(reference=1))[T.E2], FE2_analyte2, FE2_interaction, FE2_pval_adj, interact_dif_sign]\n",
       "Index: []"
      ]
     },
     "execution_count": 53,
     "metadata": {},
     "output_type": "execute_result"
    }
   ],
   "source": [
    "pd.merge(ME2_sum_comp, FE2_sum_comp, how='inner', on=['col1', 'col2', 'name1','name2']).assign(interact_dif_sign=lambda x: np.sign(x.ME2_interaction * x.FE2_interaction))"
   ]
  },
  {
   "cell_type": "code",
   "execution_count": 54,
   "metadata": {},
   "outputs": [
    {
     "data": {
      "text/html": [
       "<div>\n",
       "<style scoped>\n",
       "    .dataframe tbody tr th:only-of-type {\n",
       "        vertical-align: middle;\n",
       "    }\n",
       "\n",
       "    .dataframe tbody tr th {\n",
       "        vertical-align: top;\n",
       "    }\n",
       "\n",
       "    .dataframe thead th {\n",
       "        text-align: right;\n",
       "    }\n",
       "</style>\n",
       "<table border=\"1\" class=\"dataframe\">\n",
       "  <thead>\n",
       "    <tr style=\"text-align: right;\">\n",
       "      <th></th>\n",
       "      <th>col1</th>\n",
       "      <th>name1</th>\n",
       "      <th>col2</th>\n",
       "      <th>name2</th>\n",
       "      <th>ME2_C(APOE_Status, Treatment(reference=1))[T.E2]</th>\n",
       "      <th>ME2_analyte2</th>\n",
       "      <th>C(APOE_Status, Treatment(reference=1))[T.E2]_p</th>\n",
       "      <th>analyte2_p</th>\n",
       "      <th>ME2_interaction</th>\n",
       "      <th>analyte2:C(APOE_Status, Treatment(reference=1))[T.E2]_p</th>\n",
       "      <th>ME2_pval_adj</th>\n",
       "      <th>FE4_C(APOE_Status)[T.E4]</th>\n",
       "      <th>FE4_analyte2</th>\n",
       "      <th>FE4_interaction</th>\n",
       "      <th>FE4_pval_adj</th>\n",
       "      <th>interact_dif_sign</th>\n",
       "    </tr>\n",
       "  </thead>\n",
       "  <tbody>\n",
       "  </tbody>\n",
       "</table>\n",
       "</div>"
      ],
      "text/plain": [
       "Empty DataFrame\n",
       "Columns: [col1, name1, col2, name2, ME2_C(APOE_Status, Treatment(reference=1))[T.E2], ME2_analyte2, C(APOE_Status, Treatment(reference=1))[T.E2]_p, analyte2_p, ME2_interaction, analyte2:C(APOE_Status, Treatment(reference=1))[T.E2]_p, ME2_pval_adj, FE4_C(APOE_Status)[T.E4], FE4_analyte2, FE4_interaction, FE4_pval_adj, interact_dif_sign]\n",
       "Index: []"
      ]
     },
     "execution_count": 54,
     "metadata": {},
     "output_type": "execute_result"
    }
   ],
   "source": [
    "pd.merge(ME2_sum_comp, FE4_sum_comp, how='inner', on=['col1', 'col2', 'name1','name2']).assign(interact_dif_sign=lambda x: np.sign(x.ME2_interaction * x.FE4_interaction))"
   ]
  },
  {
   "cell_type": "code",
   "execution_count": 55,
   "metadata": {},
   "outputs": [
    {
     "data": {
      "text/html": [
       "<div>\n",
       "<style scoped>\n",
       "    .dataframe tbody tr th:only-of-type {\n",
       "        vertical-align: middle;\n",
       "    }\n",
       "\n",
       "    .dataframe tbody tr th {\n",
       "        vertical-align: top;\n",
       "    }\n",
       "\n",
       "    .dataframe thead th {\n",
       "        text-align: right;\n",
       "    }\n",
       "</style>\n",
       "<table border=\"1\" class=\"dataframe\">\n",
       "  <thead>\n",
       "    <tr style=\"text-align: right;\">\n",
       "      <th></th>\n",
       "      <th>col1</th>\n",
       "      <th>name1</th>\n",
       "      <th>col2</th>\n",
       "      <th>name2</th>\n",
       "      <th>ME2_C(APOE_Status, Treatment(reference=1))[T.E2]</th>\n",
       "      <th>ME2_analyte2</th>\n",
       "      <th>C(APOE_Status, Treatment(reference=1))[T.E2]_p</th>\n",
       "      <th>analyte2_p</th>\n",
       "      <th>ME2_interaction</th>\n",
       "      <th>analyte2:C(APOE_Status, Treatment(reference=1))[T.E2]_p</th>\n",
       "      <th>ME2_pval_adj</th>\n",
       "      <th>Mhealth_C(Model_Health, Treatment(reference=1))[T.Healthy]</th>\n",
       "      <th>Mhealth_analyte2</th>\n",
       "      <th>Mhealth_interaction</th>\n",
       "      <th>Mhealth_pval_adj</th>\n",
       "      <th>interact_dif_sign</th>\n",
       "    </tr>\n",
       "  </thead>\n",
       "  <tbody>\n",
       "  </tbody>\n",
       "</table>\n",
       "</div>"
      ],
      "text/plain": [
       "Empty DataFrame\n",
       "Columns: [col1, name1, col2, name2, ME2_C(APOE_Status, Treatment(reference=1))[T.E2], ME2_analyte2, C(APOE_Status, Treatment(reference=1))[T.E2]_p, analyte2_p, ME2_interaction, analyte2:C(APOE_Status, Treatment(reference=1))[T.E2]_p, ME2_pval_adj, Mhealth_C(Model_Health, Treatment(reference=1))[T.Healthy], Mhealth_analyte2, Mhealth_interaction, Mhealth_pval_adj, interact_dif_sign]\n",
       "Index: []"
      ]
     },
     "execution_count": 55,
     "metadata": {},
     "output_type": "execute_result"
    }
   ],
   "source": [
    "pd.merge(ME2_sum_comp, Mhealth_sum_comp, how='inner', on=['col1', 'col2', 'name1','name2']).assign(interact_dif_sign=lambda x: np.sign(x.ME2_interaction * x.Mhealth_interaction))"
   ]
  },
  {
   "cell_type": "code",
   "execution_count": 56,
   "metadata": {},
   "outputs": [
    {
     "data": {
      "text/html": [
       "<div>\n",
       "<style scoped>\n",
       "    .dataframe tbody tr th:only-of-type {\n",
       "        vertical-align: middle;\n",
       "    }\n",
       "\n",
       "    .dataframe tbody tr th {\n",
       "        vertical-align: top;\n",
       "    }\n",
       "\n",
       "    .dataframe thead th {\n",
       "        text-align: right;\n",
       "    }\n",
       "</style>\n",
       "<table border=\"1\" class=\"dataframe\">\n",
       "  <thead>\n",
       "    <tr style=\"text-align: right;\">\n",
       "      <th></th>\n",
       "      <th>col1</th>\n",
       "      <th>name1</th>\n",
       "      <th>col2</th>\n",
       "      <th>name2</th>\n",
       "      <th>ME2_C(APOE_Status, Treatment(reference=1))[T.E2]</th>\n",
       "      <th>ME2_analyte2</th>\n",
       "      <th>C(APOE_Status, Treatment(reference=1))[T.E2]_p</th>\n",
       "      <th>analyte2_p</th>\n",
       "      <th>ME2_interaction</th>\n",
       "      <th>analyte2:C(APOE_Status, Treatment(reference=1))[T.E2]_p</th>\n",
       "      <th>ME2_pval_adj</th>\n",
       "      <th>Munhealth_C(Model_Health)[T.Unhealthy]</th>\n",
       "      <th>Munhealth_analyte2</th>\n",
       "      <th>Munhealth_interaction</th>\n",
       "      <th>Munhealth_pval_adj</th>\n",
       "      <th>interact_dif_sign</th>\n",
       "    </tr>\n",
       "  </thead>\n",
       "  <tbody>\n",
       "    <tr>\n",
       "      <th>0</th>\n",
       "      <td>100020205</td>\n",
       "      <td>hydroxyasparagine**</td>\n",
       "      <td>Megasphaera</td>\n",
       "      <td>Megasphaera</td>\n",
       "      <td>0.340723</td>\n",
       "      <td>0.004499</td>\n",
       "      <td>1.795260e-07</td>\n",
       "      <td>0.432573</td>\n",
       "      <td>0.116053</td>\n",
       "      <td>1.447671e-07</td>\n",
       "      <td>0.007268</td>\n",
       "      <td>0.185362</td>\n",
       "      <td>0.000957</td>\n",
       "      <td>0.058168</td>\n",
       "      <td>0.041052</td>\n",
       "      <td>1.0</td>\n",
       "    </tr>\n",
       "    <tr>\n",
       "      <th>1</th>\n",
       "      <td>CVD2_P19883</td>\n",
       "      <td>FST</td>\n",
       "      <td>181</td>\n",
       "      <td>laurate (12:0)</td>\n",
       "      <td>-0.410828</td>\n",
       "      <td>-0.063484</td>\n",
       "      <td>2.015443e-03</td>\n",
       "      <td>0.107451</td>\n",
       "      <td>0.596664</td>\n",
       "      <td>2.550041e-07</td>\n",
       "      <td>0.009991</td>\n",
       "      <td>-0.240699</td>\n",
       "      <td>0.026790</td>\n",
       "      <td>0.450103</td>\n",
       "      <td>0.014488</td>\n",
       "      <td>1.0</td>\n",
       "    </tr>\n",
       "    <tr>\n",
       "      <th>2</th>\n",
       "      <td>GLYCOHEMOGLOBIN A1C</td>\n",
       "      <td>Hemoglobin A1C</td>\n",
       "      <td>100001510</td>\n",
       "      <td>phenol sulfate</td>\n",
       "      <td>-0.064988</td>\n",
       "      <td>-0.006159</td>\n",
       "      <td>3.165302e-04</td>\n",
       "      <td>0.123647</td>\n",
       "      <td>0.040708</td>\n",
       "      <td>9.506196e-07</td>\n",
       "      <td>0.024210</td>\n",
       "      <td>-0.004354</td>\n",
       "      <td>-0.008611</td>\n",
       "      <td>0.028598</td>\n",
       "      <td>0.040497</td>\n",
       "      <td>1.0</td>\n",
       "    </tr>\n",
       "    <tr>\n",
       "      <th>3</th>\n",
       "      <td>GLUCOSE</td>\n",
       "      <td>Glucose</td>\n",
       "      <td>100001510</td>\n",
       "      <td>phenol sulfate</td>\n",
       "      <td>-0.109940</td>\n",
       "      <td>-0.010390</td>\n",
       "      <td>4.155501e-04</td>\n",
       "      <td>0.132385</td>\n",
       "      <td>0.064965</td>\n",
       "      <td>5.832351e-06</td>\n",
       "      <td>0.074896</td>\n",
       "      <td>-0.017895</td>\n",
       "      <td>-0.017410</td>\n",
       "      <td>0.051070</td>\n",
       "      <td>0.036834</td>\n",
       "      <td>1.0</td>\n",
       "    </tr>\n",
       "  </tbody>\n",
       "</table>\n",
       "</div>"
      ],
      "text/plain": [
       "                  col1                name1         col2           name2  \\\n",
       "0            100020205  hydroxyasparagine**  Megasphaera     Megasphaera   \n",
       "1          CVD2_P19883                  FST          181  laurate (12:0)   \n",
       "2  GLYCOHEMOGLOBIN A1C       Hemoglobin A1C    100001510  phenol sulfate   \n",
       "3              GLUCOSE              Glucose    100001510  phenol sulfate   \n",
       "\n",
       "   ME2_C(APOE_Status, Treatment(reference=1))[T.E2]  ME2_analyte2  \\\n",
       "0                                          0.340723      0.004499   \n",
       "1                                         -0.410828     -0.063484   \n",
       "2                                         -0.064988     -0.006159   \n",
       "3                                         -0.109940     -0.010390   \n",
       "\n",
       "   C(APOE_Status, Treatment(reference=1))[T.E2]_p  analyte2_p  \\\n",
       "0                                    1.795260e-07    0.432573   \n",
       "1                                    2.015443e-03    0.107451   \n",
       "2                                    3.165302e-04    0.123647   \n",
       "3                                    4.155501e-04    0.132385   \n",
       "\n",
       "   ME2_interaction  analyte2:C(APOE_Status, Treatment(reference=1))[T.E2]_p  \\\n",
       "0         0.116053                                       1.447671e-07         \n",
       "1         0.596664                                       2.550041e-07         \n",
       "2         0.040708                                       9.506196e-07         \n",
       "3         0.064965                                       5.832351e-06         \n",
       "\n",
       "   ME2_pval_adj  Munhealth_C(Model_Health)[T.Unhealthy]  Munhealth_analyte2  \\\n",
       "0      0.007268                                0.185362            0.000957   \n",
       "1      0.009991                               -0.240699            0.026790   \n",
       "2      0.024210                               -0.004354           -0.008611   \n",
       "3      0.074896                               -0.017895           -0.017410   \n",
       "\n",
       "   Munhealth_interaction  Munhealth_pval_adj  interact_dif_sign  \n",
       "0               0.058168            0.041052                1.0  \n",
       "1               0.450103            0.014488                1.0  \n",
       "2               0.028598            0.040497                1.0  \n",
       "3               0.051070            0.036834                1.0  "
      ]
     },
     "execution_count": 56,
     "metadata": {},
     "output_type": "execute_result"
    }
   ],
   "source": [
    "pd.merge(ME2_sum_comp, Munhealth_sum_comp, how='inner', on=['col1', 'col2', 'name1','name2']).assign(interact_dif_sign=lambda x: np.sign(x.ME2_interaction * x.Munhealth_interaction))"
   ]
  },
  {
   "cell_type": "code",
   "execution_count": 57,
   "metadata": {},
   "outputs": [
    {
     "data": {
      "text/html": [
       "<div>\n",
       "<style scoped>\n",
       "    .dataframe tbody tr th:only-of-type {\n",
       "        vertical-align: middle;\n",
       "    }\n",
       "\n",
       "    .dataframe tbody tr th {\n",
       "        vertical-align: top;\n",
       "    }\n",
       "\n",
       "    .dataframe thead th {\n",
       "        text-align: right;\n",
       "    }\n",
       "</style>\n",
       "<table border=\"1\" class=\"dataframe\">\n",
       "  <thead>\n",
       "    <tr style=\"text-align: right;\">\n",
       "      <th></th>\n",
       "      <th>col1</th>\n",
       "      <th>name1</th>\n",
       "      <th>col2</th>\n",
       "      <th>name2</th>\n",
       "      <th>ME2_C(APOE_Status, Treatment(reference=1))[T.E2]</th>\n",
       "      <th>ME2_analyte2</th>\n",
       "      <th>C(APOE_Status, Treatment(reference=1))[T.E2]_p</th>\n",
       "      <th>analyte2_p</th>\n",
       "      <th>ME2_interaction</th>\n",
       "      <th>analyte2:C(APOE_Status, Treatment(reference=1))[T.E2]_p</th>\n",
       "      <th>ME2_pval_adj</th>\n",
       "      <th>Fhealth_C(Model_Health, Treatment(reference=1))[T.Healthy]</th>\n",
       "      <th>Fhealth_analyte2</th>\n",
       "      <th>Fhealth_interaction</th>\n",
       "      <th>Fhealth_pval_adj</th>\n",
       "      <th>interact_dif_sign</th>\n",
       "    </tr>\n",
       "  </thead>\n",
       "  <tbody>\n",
       "  </tbody>\n",
       "</table>\n",
       "</div>"
      ],
      "text/plain": [
       "Empty DataFrame\n",
       "Columns: [col1, name1, col2, name2, ME2_C(APOE_Status, Treatment(reference=1))[T.E2], ME2_analyte2, C(APOE_Status, Treatment(reference=1))[T.E2]_p, analyte2_p, ME2_interaction, analyte2:C(APOE_Status, Treatment(reference=1))[T.E2]_p, ME2_pval_adj, Fhealth_C(Model_Health, Treatment(reference=1))[T.Healthy], Fhealth_analyte2, Fhealth_interaction, Fhealth_pval_adj, interact_dif_sign]\n",
       "Index: []"
      ]
     },
     "execution_count": 57,
     "metadata": {},
     "output_type": "execute_result"
    }
   ],
   "source": [
    "pd.merge(ME2_sum_comp, Fhealth_sum_comp, how='inner', on=['col1', 'col2', 'name1','name2']).assign(interact_dif_sign=lambda x: np.sign(x.ME2_interaction * x.Fhealth_interaction))"
   ]
  },
  {
   "cell_type": "code",
   "execution_count": 58,
   "metadata": {},
   "outputs": [
    {
     "data": {
      "text/html": [
       "<div>\n",
       "<style scoped>\n",
       "    .dataframe tbody tr th:only-of-type {\n",
       "        vertical-align: middle;\n",
       "    }\n",
       "\n",
       "    .dataframe tbody tr th {\n",
       "        vertical-align: top;\n",
       "    }\n",
       "\n",
       "    .dataframe thead th {\n",
       "        text-align: right;\n",
       "    }\n",
       "</style>\n",
       "<table border=\"1\" class=\"dataframe\">\n",
       "  <thead>\n",
       "    <tr style=\"text-align: right;\">\n",
       "      <th></th>\n",
       "      <th>col1</th>\n",
       "      <th>name1</th>\n",
       "      <th>col2</th>\n",
       "      <th>name2</th>\n",
       "      <th>ME2_C(APOE_Status, Treatment(reference=1))[T.E2]</th>\n",
       "      <th>ME2_analyte2</th>\n",
       "      <th>C(APOE_Status, Treatment(reference=1))[T.E2]_p</th>\n",
       "      <th>analyte2_p</th>\n",
       "      <th>ME2_interaction</th>\n",
       "      <th>analyte2:C(APOE_Status, Treatment(reference=1))[T.E2]_p</th>\n",
       "      <th>ME2_pval_adj</th>\n",
       "      <th>Funhealth_C(Model_Health)[T.Unhealthy]</th>\n",
       "      <th>Funhealth_analyte2</th>\n",
       "      <th>Funhealth_interaction</th>\n",
       "      <th>Funhealth_pval_adj</th>\n",
       "      <th>interact_dif_sign</th>\n",
       "    </tr>\n",
       "  </thead>\n",
       "  <tbody>\n",
       "  </tbody>\n",
       "</table>\n",
       "</div>"
      ],
      "text/plain": [
       "Empty DataFrame\n",
       "Columns: [col1, name1, col2, name2, ME2_C(APOE_Status, Treatment(reference=1))[T.E2], ME2_analyte2, C(APOE_Status, Treatment(reference=1))[T.E2]_p, analyte2_p, ME2_interaction, analyte2:C(APOE_Status, Treatment(reference=1))[T.E2]_p, ME2_pval_adj, Funhealth_C(Model_Health)[T.Unhealthy], Funhealth_analyte2, Funhealth_interaction, Funhealth_pval_adj, interact_dif_sign]\n",
       "Index: []"
      ]
     },
     "execution_count": 58,
     "metadata": {},
     "output_type": "execute_result"
    }
   ],
   "source": [
    "pd.merge(ME2_sum_comp, Funhealth_sum_comp, how='inner', on=['col1', 'col2', 'name1','name2']).assign(interact_dif_sign=lambda x: np.sign(x.ME2_interaction * x.Funhealth_interaction))"
   ]
  },
  {
   "cell_type": "code",
   "execution_count": null,
   "metadata": {},
   "outputs": [],
   "source": []
  },
  {
   "cell_type": "code",
   "execution_count": 59,
   "metadata": {},
   "outputs": [
    {
     "data": {
      "text/html": [
       "<div>\n",
       "<style scoped>\n",
       "    .dataframe tbody tr th:only-of-type {\n",
       "        vertical-align: middle;\n",
       "    }\n",
       "\n",
       "    .dataframe tbody tr th {\n",
       "        vertical-align: top;\n",
       "    }\n",
       "\n",
       "    .dataframe thead th {\n",
       "        text-align: right;\n",
       "    }\n",
       "</style>\n",
       "<table border=\"1\" class=\"dataframe\">\n",
       "  <thead>\n",
       "    <tr style=\"text-align: right;\">\n",
       "      <th></th>\n",
       "      <th>col1</th>\n",
       "      <th>name1</th>\n",
       "      <th>col2</th>\n",
       "      <th>name2</th>\n",
       "      <th>ME4_C(APOE_Status)[T.E4]</th>\n",
       "      <th>ME4_analyte2</th>\n",
       "      <th>ME4_interaction</th>\n",
       "      <th>ME4_pval_adj</th>\n",
       "      <th>FE2_C(APOE_Status, Treatment(reference=1))[T.E2]</th>\n",
       "      <th>FE2_analyte2</th>\n",
       "      <th>FE2_interaction</th>\n",
       "      <th>FE2_pval_adj</th>\n",
       "      <th>interact_dif_sign</th>\n",
       "    </tr>\n",
       "  </thead>\n",
       "  <tbody>\n",
       "  </tbody>\n",
       "</table>\n",
       "</div>"
      ],
      "text/plain": [
       "Empty DataFrame\n",
       "Columns: [col1, name1, col2, name2, ME4_C(APOE_Status)[T.E4], ME4_analyte2, ME4_interaction, ME4_pval_adj, FE2_C(APOE_Status, Treatment(reference=1))[T.E2], FE2_analyte2, FE2_interaction, FE2_pval_adj, interact_dif_sign]\n",
       "Index: []"
      ]
     },
     "execution_count": 59,
     "metadata": {},
     "output_type": "execute_result"
    }
   ],
   "source": [
    "pd.merge(ME4_sum_comp, FE2_sum_comp, how='inner', on=['col1', 'col2', 'name1','name2']).assign(interact_dif_sign=lambda x: np.sign(x.ME4_interaction * x.FE2_interaction))"
   ]
  },
  {
   "cell_type": "code",
   "execution_count": 60,
   "metadata": {},
   "outputs": [
    {
     "data": {
      "text/html": [
       "<div>\n",
       "<style scoped>\n",
       "    .dataframe tbody tr th:only-of-type {\n",
       "        vertical-align: middle;\n",
       "    }\n",
       "\n",
       "    .dataframe tbody tr th {\n",
       "        vertical-align: top;\n",
       "    }\n",
       "\n",
       "    .dataframe thead th {\n",
       "        text-align: right;\n",
       "    }\n",
       "</style>\n",
       "<table border=\"1\" class=\"dataframe\">\n",
       "  <thead>\n",
       "    <tr style=\"text-align: right;\">\n",
       "      <th></th>\n",
       "      <th>col1</th>\n",
       "      <th>name1</th>\n",
       "      <th>col2</th>\n",
       "      <th>name2</th>\n",
       "      <th>ME4_C(APOE_Status)[T.E4]</th>\n",
       "      <th>ME4_analyte2</th>\n",
       "      <th>ME4_interaction</th>\n",
       "      <th>ME4_pval_adj</th>\n",
       "      <th>FE4_C(APOE_Status)[T.E4]</th>\n",
       "      <th>FE4_analyte2</th>\n",
       "      <th>FE4_interaction</th>\n",
       "      <th>FE4_pval_adj</th>\n",
       "      <th>interact_dif_sign</th>\n",
       "    </tr>\n",
       "  </thead>\n",
       "  <tbody>\n",
       "  </tbody>\n",
       "</table>\n",
       "</div>"
      ],
      "text/plain": [
       "Empty DataFrame\n",
       "Columns: [col1, name1, col2, name2, ME4_C(APOE_Status)[T.E4], ME4_analyte2, ME4_interaction, ME4_pval_adj, FE4_C(APOE_Status)[T.E4], FE4_analyte2, FE4_interaction, FE4_pval_adj, interact_dif_sign]\n",
       "Index: []"
      ]
     },
     "execution_count": 60,
     "metadata": {},
     "output_type": "execute_result"
    }
   ],
   "source": [
    "pd.merge(ME4_sum_comp, FE4_sum_comp, how='inner', on=['col1', 'col2', 'name1','name2']).assign(interact_dif_sign=lambda x: np.sign(x.ME4_interaction * x.FE4_interaction))"
   ]
  },
  {
   "cell_type": "code",
   "execution_count": 61,
   "metadata": {},
   "outputs": [
    {
     "data": {
      "text/html": [
       "<div>\n",
       "<style scoped>\n",
       "    .dataframe tbody tr th:only-of-type {\n",
       "        vertical-align: middle;\n",
       "    }\n",
       "\n",
       "    .dataframe tbody tr th {\n",
       "        vertical-align: top;\n",
       "    }\n",
       "\n",
       "    .dataframe thead th {\n",
       "        text-align: right;\n",
       "    }\n",
       "</style>\n",
       "<table border=\"1\" class=\"dataframe\">\n",
       "  <thead>\n",
       "    <tr style=\"text-align: right;\">\n",
       "      <th></th>\n",
       "      <th>col1</th>\n",
       "      <th>name1</th>\n",
       "      <th>col2</th>\n",
       "      <th>name2</th>\n",
       "      <th>ME4_C(APOE_Status)[T.E4]</th>\n",
       "      <th>ME4_analyte2</th>\n",
       "      <th>ME4_interaction</th>\n",
       "      <th>ME4_pval_adj</th>\n",
       "      <th>Mhealth_C(Model_Health, Treatment(reference=1))[T.Healthy]</th>\n",
       "      <th>Mhealth_analyte2</th>\n",
       "      <th>Mhealth_interaction</th>\n",
       "      <th>Mhealth_pval_adj</th>\n",
       "      <th>interact_dif_sign</th>\n",
       "    </tr>\n",
       "  </thead>\n",
       "  <tbody>\n",
       "  </tbody>\n",
       "</table>\n",
       "</div>"
      ],
      "text/plain": [
       "Empty DataFrame\n",
       "Columns: [col1, name1, col2, name2, ME4_C(APOE_Status)[T.E4], ME4_analyte2, ME4_interaction, ME4_pval_adj, Mhealth_C(Model_Health, Treatment(reference=1))[T.Healthy], Mhealth_analyte2, Mhealth_interaction, Mhealth_pval_adj, interact_dif_sign]\n",
       "Index: []"
      ]
     },
     "execution_count": 61,
     "metadata": {},
     "output_type": "execute_result"
    }
   ],
   "source": [
    "pd.merge(ME4_sum_comp, Mhealth_sum_comp, how='inner', on=['col1', 'col2', 'name1','name2']).assign(interact_dif_sign=lambda x: np.sign(x.ME4_interaction * x.Mhealth_interaction))"
   ]
  },
  {
   "cell_type": "code",
   "execution_count": 62,
   "metadata": {},
   "outputs": [
    {
     "data": {
      "text/html": [
       "<div>\n",
       "<style scoped>\n",
       "    .dataframe tbody tr th:only-of-type {\n",
       "        vertical-align: middle;\n",
       "    }\n",
       "\n",
       "    .dataframe tbody tr th {\n",
       "        vertical-align: top;\n",
       "    }\n",
       "\n",
       "    .dataframe thead th {\n",
       "        text-align: right;\n",
       "    }\n",
       "</style>\n",
       "<table border=\"1\" class=\"dataframe\">\n",
       "  <thead>\n",
       "    <tr style=\"text-align: right;\">\n",
       "      <th></th>\n",
       "      <th>col1</th>\n",
       "      <th>name1</th>\n",
       "      <th>col2</th>\n",
       "      <th>name2</th>\n",
       "      <th>ME4_C(APOE_Status)[T.E4]</th>\n",
       "      <th>ME4_analyte2</th>\n",
       "      <th>ME4_interaction</th>\n",
       "      <th>ME4_pval_adj</th>\n",
       "      <th>Munhealth_C(Model_Health)[T.Unhealthy]</th>\n",
       "      <th>Munhealth_analyte2</th>\n",
       "      <th>Munhealth_interaction</th>\n",
       "      <th>Munhealth_pval_adj</th>\n",
       "      <th>interact_dif_sign</th>\n",
       "    </tr>\n",
       "  </thead>\n",
       "  <tbody>\n",
       "  </tbody>\n",
       "</table>\n",
       "</div>"
      ],
      "text/plain": [
       "Empty DataFrame\n",
       "Columns: [col1, name1, col2, name2, ME4_C(APOE_Status)[T.E4], ME4_analyte2, ME4_interaction, ME4_pval_adj, Munhealth_C(Model_Health)[T.Unhealthy], Munhealth_analyte2, Munhealth_interaction, Munhealth_pval_adj, interact_dif_sign]\n",
       "Index: []"
      ]
     },
     "execution_count": 62,
     "metadata": {},
     "output_type": "execute_result"
    }
   ],
   "source": [
    "pd.merge(ME4_sum_comp, Munhealth_sum_comp, how='inner', on=['col1', 'col2', 'name1','name2']).assign(interact_dif_sign=lambda x: np.sign(x.ME4_interaction * x.Munhealth_interaction))"
   ]
  },
  {
   "cell_type": "code",
   "execution_count": 63,
   "metadata": {},
   "outputs": [
    {
     "data": {
      "text/html": [
       "<div>\n",
       "<style scoped>\n",
       "    .dataframe tbody tr th:only-of-type {\n",
       "        vertical-align: middle;\n",
       "    }\n",
       "\n",
       "    .dataframe tbody tr th {\n",
       "        vertical-align: top;\n",
       "    }\n",
       "\n",
       "    .dataframe thead th {\n",
       "        text-align: right;\n",
       "    }\n",
       "</style>\n",
       "<table border=\"1\" class=\"dataframe\">\n",
       "  <thead>\n",
       "    <tr style=\"text-align: right;\">\n",
       "      <th></th>\n",
       "      <th>col1</th>\n",
       "      <th>name1</th>\n",
       "      <th>col2</th>\n",
       "      <th>name2</th>\n",
       "      <th>ME4_C(APOE_Status)[T.E4]</th>\n",
       "      <th>ME4_analyte2</th>\n",
       "      <th>ME4_interaction</th>\n",
       "      <th>ME4_pval_adj</th>\n",
       "      <th>Fhealth_C(Model_Health, Treatment(reference=1))[T.Healthy]</th>\n",
       "      <th>Fhealth_analyte2</th>\n",
       "      <th>Fhealth_interaction</th>\n",
       "      <th>Fhealth_pval_adj</th>\n",
       "      <th>interact_dif_sign</th>\n",
       "    </tr>\n",
       "  </thead>\n",
       "  <tbody>\n",
       "  </tbody>\n",
       "</table>\n",
       "</div>"
      ],
      "text/plain": [
       "Empty DataFrame\n",
       "Columns: [col1, name1, col2, name2, ME4_C(APOE_Status)[T.E4], ME4_analyte2, ME4_interaction, ME4_pval_adj, Fhealth_C(Model_Health, Treatment(reference=1))[T.Healthy], Fhealth_analyte2, Fhealth_interaction, Fhealth_pval_adj, interact_dif_sign]\n",
       "Index: []"
      ]
     },
     "execution_count": 63,
     "metadata": {},
     "output_type": "execute_result"
    }
   ],
   "source": [
    "pd.merge(ME4_sum_comp, Fhealth_sum_comp, how='inner', on=['col1', 'col2', 'name1','name2']).assign(interact_dif_sign=lambda x: np.sign(x.ME4_interaction * x.Fhealth_interaction))"
   ]
  },
  {
   "cell_type": "code",
   "execution_count": 64,
   "metadata": {},
   "outputs": [
    {
     "data": {
      "text/html": [
       "<div>\n",
       "<style scoped>\n",
       "    .dataframe tbody tr th:only-of-type {\n",
       "        vertical-align: middle;\n",
       "    }\n",
       "\n",
       "    .dataframe tbody tr th {\n",
       "        vertical-align: top;\n",
       "    }\n",
       "\n",
       "    .dataframe thead th {\n",
       "        text-align: right;\n",
       "    }\n",
       "</style>\n",
       "<table border=\"1\" class=\"dataframe\">\n",
       "  <thead>\n",
       "    <tr style=\"text-align: right;\">\n",
       "      <th></th>\n",
       "      <th>col1</th>\n",
       "      <th>name1</th>\n",
       "      <th>col2</th>\n",
       "      <th>name2</th>\n",
       "      <th>ME4_C(APOE_Status)[T.E4]</th>\n",
       "      <th>ME4_analyte2</th>\n",
       "      <th>ME4_interaction</th>\n",
       "      <th>ME4_pval_adj</th>\n",
       "      <th>Funhealth_C(Model_Health)[T.Unhealthy]</th>\n",
       "      <th>Funhealth_analyte2</th>\n",
       "      <th>Funhealth_interaction</th>\n",
       "      <th>Funhealth_pval_adj</th>\n",
       "      <th>interact_dif_sign</th>\n",
       "    </tr>\n",
       "  </thead>\n",
       "  <tbody>\n",
       "  </tbody>\n",
       "</table>\n",
       "</div>"
      ],
      "text/plain": [
       "Empty DataFrame\n",
       "Columns: [col1, name1, col2, name2, ME4_C(APOE_Status)[T.E4], ME4_analyte2, ME4_interaction, ME4_pval_adj, Funhealth_C(Model_Health)[T.Unhealthy], Funhealth_analyte2, Funhealth_interaction, Funhealth_pval_adj, interact_dif_sign]\n",
       "Index: []"
      ]
     },
     "execution_count": 64,
     "metadata": {},
     "output_type": "execute_result"
    }
   ],
   "source": [
    "pd.merge(ME4_sum_comp, Funhealth_sum_comp, how='inner', on=['col1', 'col2', 'name1','name2']).assign(interact_dif_sign=lambda x: np.sign(x.ME4_interaction * x.Funhealth_interaction))"
   ]
  },
  {
   "cell_type": "code",
   "execution_count": null,
   "metadata": {},
   "outputs": [],
   "source": []
  },
  {
   "cell_type": "code",
   "execution_count": 65,
   "metadata": {},
   "outputs": [
    {
     "data": {
      "text/html": [
       "<div>\n",
       "<style scoped>\n",
       "    .dataframe tbody tr th:only-of-type {\n",
       "        vertical-align: middle;\n",
       "    }\n",
       "\n",
       "    .dataframe tbody tr th {\n",
       "        vertical-align: top;\n",
       "    }\n",
       "\n",
       "    .dataframe thead th {\n",
       "        text-align: right;\n",
       "    }\n",
       "</style>\n",
       "<table border=\"1\" class=\"dataframe\">\n",
       "  <thead>\n",
       "    <tr style=\"text-align: right;\">\n",
       "      <th></th>\n",
       "      <th>col1</th>\n",
       "      <th>name1</th>\n",
       "      <th>col2</th>\n",
       "      <th>name2</th>\n",
       "      <th>FE2_C(APOE_Status, Treatment(reference=1))[T.E2]</th>\n",
       "      <th>FE2_analyte2</th>\n",
       "      <th>FE2_interaction</th>\n",
       "      <th>FE2_pval_adj</th>\n",
       "      <th>FE4_C(APOE_Status)[T.E4]</th>\n",
       "      <th>FE4_analyte2</th>\n",
       "      <th>FE4_interaction</th>\n",
       "      <th>FE4_pval_adj</th>\n",
       "      <th>interact_dif_sign</th>\n",
       "    </tr>\n",
       "  </thead>\n",
       "  <tbody>\n",
       "  </tbody>\n",
       "</table>\n",
       "</div>"
      ],
      "text/plain": [
       "Empty DataFrame\n",
       "Columns: [col1, name1, col2, name2, FE2_C(APOE_Status, Treatment(reference=1))[T.E2], FE2_analyte2, FE2_interaction, FE2_pval_adj, FE4_C(APOE_Status)[T.E4], FE4_analyte2, FE4_interaction, FE4_pval_adj, interact_dif_sign]\n",
       "Index: []"
      ]
     },
     "execution_count": 65,
     "metadata": {},
     "output_type": "execute_result"
    }
   ],
   "source": [
    "pd.merge(FE2_sum_comp, FE4_sum_comp, how='inner', on=['col1', 'col2', 'name1','name2']).assign(interact_dif_sign=lambda x: np.sign(x.FE2_interaction * x.FE4_interaction))"
   ]
  },
  {
   "cell_type": "code",
   "execution_count": 66,
   "metadata": {},
   "outputs": [
    {
     "data": {
      "text/html": [
       "<div>\n",
       "<style scoped>\n",
       "    .dataframe tbody tr th:only-of-type {\n",
       "        vertical-align: middle;\n",
       "    }\n",
       "\n",
       "    .dataframe tbody tr th {\n",
       "        vertical-align: top;\n",
       "    }\n",
       "\n",
       "    .dataframe thead th {\n",
       "        text-align: right;\n",
       "    }\n",
       "</style>\n",
       "<table border=\"1\" class=\"dataframe\">\n",
       "  <thead>\n",
       "    <tr style=\"text-align: right;\">\n",
       "      <th></th>\n",
       "      <th>col1</th>\n",
       "      <th>name1</th>\n",
       "      <th>col2</th>\n",
       "      <th>name2</th>\n",
       "      <th>FE2_C(APOE_Status, Treatment(reference=1))[T.E2]</th>\n",
       "      <th>FE2_analyte2</th>\n",
       "      <th>FE2_interaction</th>\n",
       "      <th>FE2_pval_adj</th>\n",
       "      <th>Mhealth_C(Model_Health, Treatment(reference=1))[T.Healthy]</th>\n",
       "      <th>Mhealth_analyte2</th>\n",
       "      <th>Mhealth_interaction</th>\n",
       "      <th>Mhealth_pval_adj</th>\n",
       "      <th>interact_dif_sign</th>\n",
       "    </tr>\n",
       "  </thead>\n",
       "  <tbody>\n",
       "  </tbody>\n",
       "</table>\n",
       "</div>"
      ],
      "text/plain": [
       "Empty DataFrame\n",
       "Columns: [col1, name1, col2, name2, FE2_C(APOE_Status, Treatment(reference=1))[T.E2], FE2_analyte2, FE2_interaction, FE2_pval_adj, Mhealth_C(Model_Health, Treatment(reference=1))[T.Healthy], Mhealth_analyte2, Mhealth_interaction, Mhealth_pval_adj, interact_dif_sign]\n",
       "Index: []"
      ]
     },
     "execution_count": 66,
     "metadata": {},
     "output_type": "execute_result"
    }
   ],
   "source": [
    "pd.merge(FE2_sum_comp, Mhealth_sum_comp, how='inner', on=['col1', 'col2', 'name1','name2']).assign(interact_dif_sign=lambda x: np.sign(x.FE2_interaction * x.Mhealth_interaction))"
   ]
  },
  {
   "cell_type": "code",
   "execution_count": 67,
   "metadata": {},
   "outputs": [
    {
     "data": {
      "text/html": [
       "<div>\n",
       "<style scoped>\n",
       "    .dataframe tbody tr th:only-of-type {\n",
       "        vertical-align: middle;\n",
       "    }\n",
       "\n",
       "    .dataframe tbody tr th {\n",
       "        vertical-align: top;\n",
       "    }\n",
       "\n",
       "    .dataframe thead th {\n",
       "        text-align: right;\n",
       "    }\n",
       "</style>\n",
       "<table border=\"1\" class=\"dataframe\">\n",
       "  <thead>\n",
       "    <tr style=\"text-align: right;\">\n",
       "      <th></th>\n",
       "      <th>col1</th>\n",
       "      <th>name1</th>\n",
       "      <th>col2</th>\n",
       "      <th>name2</th>\n",
       "      <th>FE2_C(APOE_Status, Treatment(reference=1))[T.E2]</th>\n",
       "      <th>FE2_analyte2</th>\n",
       "      <th>FE2_interaction</th>\n",
       "      <th>FE2_pval_adj</th>\n",
       "      <th>Munhealth_C(Model_Health)[T.Unhealthy]</th>\n",
       "      <th>Munhealth_analyte2</th>\n",
       "      <th>Munhealth_interaction</th>\n",
       "      <th>Munhealth_pval_adj</th>\n",
       "      <th>interact_dif_sign</th>\n",
       "    </tr>\n",
       "  </thead>\n",
       "  <tbody>\n",
       "  </tbody>\n",
       "</table>\n",
       "</div>"
      ],
      "text/plain": [
       "Empty DataFrame\n",
       "Columns: [col1, name1, col2, name2, FE2_C(APOE_Status, Treatment(reference=1))[T.E2], FE2_analyte2, FE2_interaction, FE2_pval_adj, Munhealth_C(Model_Health)[T.Unhealthy], Munhealth_analyte2, Munhealth_interaction, Munhealth_pval_adj, interact_dif_sign]\n",
       "Index: []"
      ]
     },
     "execution_count": 67,
     "metadata": {},
     "output_type": "execute_result"
    }
   ],
   "source": [
    "pd.merge(FE2_sum_comp, Munhealth_sum_comp, how='inner', on=['col1', 'col2', 'name1','name2']).assign(interact_dif_sign=lambda x: np.sign(x.FE2_interaction * x.Munhealth_interaction))"
   ]
  },
  {
   "cell_type": "code",
   "execution_count": 68,
   "metadata": {},
   "outputs": [
    {
     "data": {
      "text/html": [
       "<div>\n",
       "<style scoped>\n",
       "    .dataframe tbody tr th:only-of-type {\n",
       "        vertical-align: middle;\n",
       "    }\n",
       "\n",
       "    .dataframe tbody tr th {\n",
       "        vertical-align: top;\n",
       "    }\n",
       "\n",
       "    .dataframe thead th {\n",
       "        text-align: right;\n",
       "    }\n",
       "</style>\n",
       "<table border=\"1\" class=\"dataframe\">\n",
       "  <thead>\n",
       "    <tr style=\"text-align: right;\">\n",
       "      <th></th>\n",
       "      <th>col1</th>\n",
       "      <th>name1</th>\n",
       "      <th>col2</th>\n",
       "      <th>name2</th>\n",
       "      <th>FE2_C(APOE_Status, Treatment(reference=1))[T.E2]</th>\n",
       "      <th>FE2_analyte2</th>\n",
       "      <th>FE2_interaction</th>\n",
       "      <th>FE2_pval_adj</th>\n",
       "      <th>Fhealth_C(Model_Health, Treatment(reference=1))[T.Healthy]</th>\n",
       "      <th>Fhealth_analyte2</th>\n",
       "      <th>Fhealth_interaction</th>\n",
       "      <th>Fhealth_pval_adj</th>\n",
       "      <th>interact_dif_sign</th>\n",
       "    </tr>\n",
       "  </thead>\n",
       "  <tbody>\n",
       "  </tbody>\n",
       "</table>\n",
       "</div>"
      ],
      "text/plain": [
       "Empty DataFrame\n",
       "Columns: [col1, name1, col2, name2, FE2_C(APOE_Status, Treatment(reference=1))[T.E2], FE2_analyte2, FE2_interaction, FE2_pval_adj, Fhealth_C(Model_Health, Treatment(reference=1))[T.Healthy], Fhealth_analyte2, Fhealth_interaction, Fhealth_pval_adj, interact_dif_sign]\n",
       "Index: []"
      ]
     },
     "execution_count": 68,
     "metadata": {},
     "output_type": "execute_result"
    }
   ],
   "source": [
    "pd.merge(FE2_sum_comp, Fhealth_sum_comp, how='inner', on=['col1', 'col2', 'name1','name2']).assign(interact_dif_sign=lambda x: np.sign(x.FE2_interaction * x.Fhealth_interaction))"
   ]
  },
  {
   "cell_type": "code",
   "execution_count": 69,
   "metadata": {},
   "outputs": [
    {
     "data": {
      "text/html": [
       "<div>\n",
       "<style scoped>\n",
       "    .dataframe tbody tr th:only-of-type {\n",
       "        vertical-align: middle;\n",
       "    }\n",
       "\n",
       "    .dataframe tbody tr th {\n",
       "        vertical-align: top;\n",
       "    }\n",
       "\n",
       "    .dataframe thead th {\n",
       "        text-align: right;\n",
       "    }\n",
       "</style>\n",
       "<table border=\"1\" class=\"dataframe\">\n",
       "  <thead>\n",
       "    <tr style=\"text-align: right;\">\n",
       "      <th></th>\n",
       "      <th>col1</th>\n",
       "      <th>name1</th>\n",
       "      <th>col2</th>\n",
       "      <th>name2</th>\n",
       "      <th>FE2_C(APOE_Status, Treatment(reference=1))[T.E2]</th>\n",
       "      <th>FE2_analyte2</th>\n",
       "      <th>FE2_interaction</th>\n",
       "      <th>FE2_pval_adj</th>\n",
       "      <th>Funhealth_C(Model_Health)[T.Unhealthy]</th>\n",
       "      <th>Funhealth_analyte2</th>\n",
       "      <th>Funhealth_interaction</th>\n",
       "      <th>Funhealth_pval_adj</th>\n",
       "      <th>interact_dif_sign</th>\n",
       "    </tr>\n",
       "  </thead>\n",
       "  <tbody>\n",
       "  </tbody>\n",
       "</table>\n",
       "</div>"
      ],
      "text/plain": [
       "Empty DataFrame\n",
       "Columns: [col1, name1, col2, name2, FE2_C(APOE_Status, Treatment(reference=1))[T.E2], FE2_analyte2, FE2_interaction, FE2_pval_adj, Funhealth_C(Model_Health)[T.Unhealthy], Funhealth_analyte2, Funhealth_interaction, Funhealth_pval_adj, interact_dif_sign]\n",
       "Index: []"
      ]
     },
     "execution_count": 69,
     "metadata": {},
     "output_type": "execute_result"
    }
   ],
   "source": [
    "pd.merge(FE2_sum_comp, Funhealth_sum_comp, how='inner', on=['col1', 'col2', 'name1','name2']).assign(interact_dif_sign=lambda x: np.sign(x.FE2_interaction * x.Funhealth_interaction))"
   ]
  },
  {
   "cell_type": "code",
   "execution_count": null,
   "metadata": {},
   "outputs": [],
   "source": []
  },
  {
   "cell_type": "code",
   "execution_count": 70,
   "metadata": {},
   "outputs": [
    {
     "data": {
      "text/html": [
       "<div>\n",
       "<style scoped>\n",
       "    .dataframe tbody tr th:only-of-type {\n",
       "        vertical-align: middle;\n",
       "    }\n",
       "\n",
       "    .dataframe tbody tr th {\n",
       "        vertical-align: top;\n",
       "    }\n",
       "\n",
       "    .dataframe thead th {\n",
       "        text-align: right;\n",
       "    }\n",
       "</style>\n",
       "<table border=\"1\" class=\"dataframe\">\n",
       "  <thead>\n",
       "    <tr style=\"text-align: right;\">\n",
       "      <th></th>\n",
       "      <th>col1</th>\n",
       "      <th>name1</th>\n",
       "      <th>col2</th>\n",
       "      <th>name2</th>\n",
       "      <th>FE4_C(APOE_Status)[T.E4]</th>\n",
       "      <th>FE4_analyte2</th>\n",
       "      <th>FE4_interaction</th>\n",
       "      <th>FE4_pval_adj</th>\n",
       "      <th>Mhealth_C(Model_Health, Treatment(reference=1))[T.Healthy]</th>\n",
       "      <th>Mhealth_analyte2</th>\n",
       "      <th>Mhealth_interaction</th>\n",
       "      <th>Mhealth_pval_adj</th>\n",
       "      <th>interact_dif_sign</th>\n",
       "    </tr>\n",
       "  </thead>\n",
       "  <tbody>\n",
       "  </tbody>\n",
       "</table>\n",
       "</div>"
      ],
      "text/plain": [
       "Empty DataFrame\n",
       "Columns: [col1, name1, col2, name2, FE4_C(APOE_Status)[T.E4], FE4_analyte2, FE4_interaction, FE4_pval_adj, Mhealth_C(Model_Health, Treatment(reference=1))[T.Healthy], Mhealth_analyte2, Mhealth_interaction, Mhealth_pval_adj, interact_dif_sign]\n",
       "Index: []"
      ]
     },
     "execution_count": 70,
     "metadata": {},
     "output_type": "execute_result"
    }
   ],
   "source": [
    "pd.merge(FE4_sum_comp, Mhealth_sum_comp, how='inner', on=['col1', 'col2', 'name1','name2']).assign(interact_dif_sign=lambda x: np.sign(x.FE4_interaction * x.Mhealth_interaction))"
   ]
  },
  {
   "cell_type": "code",
   "execution_count": 71,
   "metadata": {},
   "outputs": [
    {
     "data": {
      "text/html": [
       "<div>\n",
       "<style scoped>\n",
       "    .dataframe tbody tr th:only-of-type {\n",
       "        vertical-align: middle;\n",
       "    }\n",
       "\n",
       "    .dataframe tbody tr th {\n",
       "        vertical-align: top;\n",
       "    }\n",
       "\n",
       "    .dataframe thead th {\n",
       "        text-align: right;\n",
       "    }\n",
       "</style>\n",
       "<table border=\"1\" class=\"dataframe\">\n",
       "  <thead>\n",
       "    <tr style=\"text-align: right;\">\n",
       "      <th></th>\n",
       "      <th>col1</th>\n",
       "      <th>name1</th>\n",
       "      <th>col2</th>\n",
       "      <th>name2</th>\n",
       "      <th>FE4_C(APOE_Status)[T.E4]</th>\n",
       "      <th>FE4_analyte2</th>\n",
       "      <th>FE4_interaction</th>\n",
       "      <th>FE4_pval_adj</th>\n",
       "      <th>Munhealth_C(Model_Health)[T.Unhealthy]</th>\n",
       "      <th>Munhealth_analyte2</th>\n",
       "      <th>Munhealth_interaction</th>\n",
       "      <th>Munhealth_pval_adj</th>\n",
       "      <th>interact_dif_sign</th>\n",
       "    </tr>\n",
       "  </thead>\n",
       "  <tbody>\n",
       "  </tbody>\n",
       "</table>\n",
       "</div>"
      ],
      "text/plain": [
       "Empty DataFrame\n",
       "Columns: [col1, name1, col2, name2, FE4_C(APOE_Status)[T.E4], FE4_analyte2, FE4_interaction, FE4_pval_adj, Munhealth_C(Model_Health)[T.Unhealthy], Munhealth_analyte2, Munhealth_interaction, Munhealth_pval_adj, interact_dif_sign]\n",
       "Index: []"
      ]
     },
     "execution_count": 71,
     "metadata": {},
     "output_type": "execute_result"
    }
   ],
   "source": [
    "pd.merge(FE4_sum_comp, Munhealth_sum_comp, how='inner', on=['col1', 'col2', 'name1','name2']).assign(interact_dif_sign=lambda x: np.sign(x.FE4_interaction * x.Munhealth_interaction))"
   ]
  },
  {
   "cell_type": "code",
   "execution_count": 72,
   "metadata": {},
   "outputs": [
    {
     "data": {
      "text/html": [
       "<div>\n",
       "<style scoped>\n",
       "    .dataframe tbody tr th:only-of-type {\n",
       "        vertical-align: middle;\n",
       "    }\n",
       "\n",
       "    .dataframe tbody tr th {\n",
       "        vertical-align: top;\n",
       "    }\n",
       "\n",
       "    .dataframe thead th {\n",
       "        text-align: right;\n",
       "    }\n",
       "</style>\n",
       "<table border=\"1\" class=\"dataframe\">\n",
       "  <thead>\n",
       "    <tr style=\"text-align: right;\">\n",
       "      <th></th>\n",
       "      <th>col1</th>\n",
       "      <th>name1</th>\n",
       "      <th>col2</th>\n",
       "      <th>name2</th>\n",
       "      <th>FE4_C(APOE_Status)[T.E4]</th>\n",
       "      <th>FE4_analyte2</th>\n",
       "      <th>FE4_interaction</th>\n",
       "      <th>FE4_pval_adj</th>\n",
       "      <th>Fhealth_C(Model_Health, Treatment(reference=1))[T.Healthy]</th>\n",
       "      <th>Fhealth_analyte2</th>\n",
       "      <th>Fhealth_interaction</th>\n",
       "      <th>Fhealth_pval_adj</th>\n",
       "      <th>interact_dif_sign</th>\n",
       "    </tr>\n",
       "  </thead>\n",
       "  <tbody>\n",
       "    <tr>\n",
       "      <th>0</th>\n",
       "      <td>100002488</td>\n",
       "      <td>isoursodeoxycholate</td>\n",
       "      <td>Prevotella_2</td>\n",
       "      <td>Prevotella_2</td>\n",
       "      <td>-0.65642</td>\n",
       "      <td>0.270759</td>\n",
       "      <td>-0.307116</td>\n",
       "      <td>0.081189</td>\n",
       "      <td>1.335885</td>\n",
       "      <td>0.087764</td>\n",
       "      <td>0.572191</td>\n",
       "      <td>0.036384</td>\n",
       "      <td>-1.0</td>\n",
       "    </tr>\n",
       "  </tbody>\n",
       "</table>\n",
       "</div>"
      ],
      "text/plain": [
       "        col1                name1          col2         name2  \\\n",
       "0  100002488  isoursodeoxycholate  Prevotella_2  Prevotella_2   \n",
       "\n",
       "   FE4_C(APOE_Status)[T.E4]  FE4_analyte2  FE4_interaction  FE4_pval_adj  \\\n",
       "0                  -0.65642      0.270759        -0.307116      0.081189   \n",
       "\n",
       "   Fhealth_C(Model_Health, Treatment(reference=1))[T.Healthy]  \\\n",
       "0                                           1.335885            \n",
       "\n",
       "   Fhealth_analyte2  Fhealth_interaction  Fhealth_pval_adj  interact_dif_sign  \n",
       "0          0.087764             0.572191          0.036384               -1.0  "
      ]
     },
     "execution_count": 72,
     "metadata": {},
     "output_type": "execute_result"
    }
   ],
   "source": [
    "pd.merge(FE4_sum_comp, Fhealth_sum_comp, how='inner', on=['col1', 'col2', 'name1','name2']).assign(interact_dif_sign=lambda x: np.sign(x.FE4_interaction * x.Fhealth_interaction))"
   ]
  },
  {
   "cell_type": "code",
   "execution_count": 73,
   "metadata": {},
   "outputs": [
    {
     "data": {
      "text/html": [
       "<div>\n",
       "<style scoped>\n",
       "    .dataframe tbody tr th:only-of-type {\n",
       "        vertical-align: middle;\n",
       "    }\n",
       "\n",
       "    .dataframe tbody tr th {\n",
       "        vertical-align: top;\n",
       "    }\n",
       "\n",
       "    .dataframe thead th {\n",
       "        text-align: right;\n",
       "    }\n",
       "</style>\n",
       "<table border=\"1\" class=\"dataframe\">\n",
       "  <thead>\n",
       "    <tr style=\"text-align: right;\">\n",
       "      <th></th>\n",
       "      <th>col1</th>\n",
       "      <th>name1</th>\n",
       "      <th>col2</th>\n",
       "      <th>name2</th>\n",
       "      <th>FE4_C(APOE_Status)[T.E4]</th>\n",
       "      <th>FE4_analyte2</th>\n",
       "      <th>FE4_interaction</th>\n",
       "      <th>FE4_pval_adj</th>\n",
       "      <th>Funhealth_C(Model_Health)[T.Unhealthy]</th>\n",
       "      <th>Funhealth_analyte2</th>\n",
       "      <th>Funhealth_interaction</th>\n",
       "      <th>Funhealth_pval_adj</th>\n",
       "      <th>interact_dif_sign</th>\n",
       "    </tr>\n",
       "  </thead>\n",
       "  <tbody>\n",
       "  </tbody>\n",
       "</table>\n",
       "</div>"
      ],
      "text/plain": [
       "Empty DataFrame\n",
       "Columns: [col1, name1, col2, name2, FE4_C(APOE_Status)[T.E4], FE4_analyte2, FE4_interaction, FE4_pval_adj, Funhealth_C(Model_Health)[T.Unhealthy], Funhealth_analyte2, Funhealth_interaction, Funhealth_pval_adj, interact_dif_sign]\n",
       "Index: []"
      ]
     },
     "execution_count": 73,
     "metadata": {},
     "output_type": "execute_result"
    }
   ],
   "source": [
    "pd.merge(FE4_sum_comp, Funhealth_sum_comp, how='inner', on=['col1', 'col2', 'name1','name2']).assign(interact_dif_sign=lambda x: np.sign(x.FE4_interaction * x.Funhealth_interaction))"
   ]
  },
  {
   "cell_type": "code",
   "execution_count": null,
   "metadata": {},
   "outputs": [],
   "source": []
  },
  {
   "cell_type": "code",
   "execution_count": 74,
   "metadata": {},
   "outputs": [
    {
     "data": {
      "text/html": [
       "<div>\n",
       "<style scoped>\n",
       "    .dataframe tbody tr th:only-of-type {\n",
       "        vertical-align: middle;\n",
       "    }\n",
       "\n",
       "    .dataframe tbody tr th {\n",
       "        vertical-align: top;\n",
       "    }\n",
       "\n",
       "    .dataframe thead th {\n",
       "        text-align: right;\n",
       "    }\n",
       "</style>\n",
       "<table border=\"1\" class=\"dataframe\">\n",
       "  <thead>\n",
       "    <tr style=\"text-align: right;\">\n",
       "      <th></th>\n",
       "      <th>col1</th>\n",
       "      <th>name1</th>\n",
       "      <th>col2</th>\n",
       "      <th>name2</th>\n",
       "      <th>Mhealth_C(Model_Health, Treatment(reference=1))[T.Healthy]</th>\n",
       "      <th>Mhealth_analyte2</th>\n",
       "      <th>Mhealth_interaction</th>\n",
       "      <th>Mhealth_pval_adj</th>\n",
       "      <th>Munhealth_C(Model_Health)[T.Unhealthy]</th>\n",
       "      <th>Munhealth_analyte2</th>\n",
       "      <th>Munhealth_interaction</th>\n",
       "      <th>Munhealth_pval_adj</th>\n",
       "      <th>interact_dif_sign</th>\n",
       "    </tr>\n",
       "  </thead>\n",
       "  <tbody>\n",
       "  </tbody>\n",
       "</table>\n",
       "</div>"
      ],
      "text/plain": [
       "Empty DataFrame\n",
       "Columns: [col1, name1, col2, name2, Mhealth_C(Model_Health, Treatment(reference=1))[T.Healthy], Mhealth_analyte2, Mhealth_interaction, Mhealth_pval_adj, Munhealth_C(Model_Health)[T.Unhealthy], Munhealth_analyte2, Munhealth_interaction, Munhealth_pval_adj, interact_dif_sign]\n",
       "Index: []"
      ]
     },
     "execution_count": 74,
     "metadata": {},
     "output_type": "execute_result"
    }
   ],
   "source": [
    "pd.merge(Mhealth_sum_comp, Munhealth_sum_comp, how='inner', on=['col1', 'col2', 'name1','name2']).assign(interact_dif_sign=lambda x: np.sign(x.Mhealth_interaction * x.Munhealth_interaction))"
   ]
  },
  {
   "cell_type": "code",
   "execution_count": 75,
   "metadata": {},
   "outputs": [
    {
     "data": {
      "text/html": [
       "<div>\n",
       "<style scoped>\n",
       "    .dataframe tbody tr th:only-of-type {\n",
       "        vertical-align: middle;\n",
       "    }\n",
       "\n",
       "    .dataframe tbody tr th {\n",
       "        vertical-align: top;\n",
       "    }\n",
       "\n",
       "    .dataframe thead th {\n",
       "        text-align: right;\n",
       "    }\n",
       "</style>\n",
       "<table border=\"1\" class=\"dataframe\">\n",
       "  <thead>\n",
       "    <tr style=\"text-align: right;\">\n",
       "      <th></th>\n",
       "      <th>col1</th>\n",
       "      <th>name1</th>\n",
       "      <th>col2</th>\n",
       "      <th>name2</th>\n",
       "      <th>Mhealth_C(Model_Health, Treatment(reference=1))[T.Healthy]</th>\n",
       "      <th>Mhealth_analyte2</th>\n",
       "      <th>Mhealth_interaction</th>\n",
       "      <th>Mhealth_pval_adj</th>\n",
       "      <th>Fhealth_C(Model_Health, Treatment(reference=1))[T.Healthy]</th>\n",
       "      <th>Fhealth_analyte2</th>\n",
       "      <th>Fhealth_interaction</th>\n",
       "      <th>Fhealth_pval_adj</th>\n",
       "      <th>interact_dif_sign</th>\n",
       "    </tr>\n",
       "  </thead>\n",
       "  <tbody>\n",
       "  </tbody>\n",
       "</table>\n",
       "</div>"
      ],
      "text/plain": [
       "Empty DataFrame\n",
       "Columns: [col1, name1, col2, name2, Mhealth_C(Model_Health, Treatment(reference=1))[T.Healthy], Mhealth_analyte2, Mhealth_interaction, Mhealth_pval_adj, Fhealth_C(Model_Health, Treatment(reference=1))[T.Healthy], Fhealth_analyte2, Fhealth_interaction, Fhealth_pval_adj, interact_dif_sign]\n",
       "Index: []"
      ]
     },
     "execution_count": 75,
     "metadata": {},
     "output_type": "execute_result"
    }
   ],
   "source": [
    "pd.merge(Mhealth_sum_comp, Fhealth_sum_comp, how='inner', on=['col1', 'col2', 'name1','name2']).assign(interact_dif_sign=lambda x: np.sign(x.Mhealth_interaction * x.Fhealth_interaction))"
   ]
  },
  {
   "cell_type": "code",
   "execution_count": 76,
   "metadata": {},
   "outputs": [
    {
     "data": {
      "text/html": [
       "<div>\n",
       "<style scoped>\n",
       "    .dataframe tbody tr th:only-of-type {\n",
       "        vertical-align: middle;\n",
       "    }\n",
       "\n",
       "    .dataframe tbody tr th {\n",
       "        vertical-align: top;\n",
       "    }\n",
       "\n",
       "    .dataframe thead th {\n",
       "        text-align: right;\n",
       "    }\n",
       "</style>\n",
       "<table border=\"1\" class=\"dataframe\">\n",
       "  <thead>\n",
       "    <tr style=\"text-align: right;\">\n",
       "      <th></th>\n",
       "      <th>col1</th>\n",
       "      <th>name1</th>\n",
       "      <th>col2</th>\n",
       "      <th>name2</th>\n",
       "      <th>Mhealth_C(Model_Health, Treatment(reference=1))[T.Healthy]</th>\n",
       "      <th>Mhealth_analyte2</th>\n",
       "      <th>Mhealth_interaction</th>\n",
       "      <th>Mhealth_pval_adj</th>\n",
       "      <th>Funhealth_C(Model_Health)[T.Unhealthy]</th>\n",
       "      <th>Funhealth_analyte2</th>\n",
       "      <th>Funhealth_interaction</th>\n",
       "      <th>Funhealth_pval_adj</th>\n",
       "      <th>interact_dif_sign</th>\n",
       "    </tr>\n",
       "  </thead>\n",
       "  <tbody>\n",
       "  </tbody>\n",
       "</table>\n",
       "</div>"
      ],
      "text/plain": [
       "Empty DataFrame\n",
       "Columns: [col1, name1, col2, name2, Mhealth_C(Model_Health, Treatment(reference=1))[T.Healthy], Mhealth_analyte2, Mhealth_interaction, Mhealth_pval_adj, Funhealth_C(Model_Health)[T.Unhealthy], Funhealth_analyte2, Funhealth_interaction, Funhealth_pval_adj, interact_dif_sign]\n",
       "Index: []"
      ]
     },
     "execution_count": 76,
     "metadata": {},
     "output_type": "execute_result"
    }
   ],
   "source": [
    "pd.merge(Mhealth_sum_comp, Funhealth_sum_comp, how='inner', on=['col1', 'col2', 'name1','name2']).assign(interact_dif_sign=lambda x: np.sign(x.Mhealth_interaction * x.Funhealth_interaction))"
   ]
  },
  {
   "cell_type": "code",
   "execution_count": null,
   "metadata": {},
   "outputs": [],
   "source": []
  },
  {
   "cell_type": "code",
   "execution_count": 77,
   "metadata": {},
   "outputs": [
    {
     "data": {
      "text/html": [
       "<div>\n",
       "<style scoped>\n",
       "    .dataframe tbody tr th:only-of-type {\n",
       "        vertical-align: middle;\n",
       "    }\n",
       "\n",
       "    .dataframe tbody tr th {\n",
       "        vertical-align: top;\n",
       "    }\n",
       "\n",
       "    .dataframe thead th {\n",
       "        text-align: right;\n",
       "    }\n",
       "</style>\n",
       "<table border=\"1\" class=\"dataframe\">\n",
       "  <thead>\n",
       "    <tr style=\"text-align: right;\">\n",
       "      <th></th>\n",
       "      <th>col1</th>\n",
       "      <th>name1</th>\n",
       "      <th>col2</th>\n",
       "      <th>name2</th>\n",
       "      <th>Munhealth_C(Model_Health)[T.Unhealthy]</th>\n",
       "      <th>Munhealth_analyte2</th>\n",
       "      <th>Munhealth_interaction</th>\n",
       "      <th>Munhealth_pval_adj</th>\n",
       "      <th>Fhealth_C(Model_Health, Treatment(reference=1))[T.Healthy]</th>\n",
       "      <th>Fhealth_analyte2</th>\n",
       "      <th>Fhealth_interaction</th>\n",
       "      <th>Fhealth_pval_adj</th>\n",
       "      <th>interact_dif_sign</th>\n",
       "    </tr>\n",
       "  </thead>\n",
       "  <tbody>\n",
       "  </tbody>\n",
       "</table>\n",
       "</div>"
      ],
      "text/plain": [
       "Empty DataFrame\n",
       "Columns: [col1, name1, col2, name2, Munhealth_C(Model_Health)[T.Unhealthy], Munhealth_analyte2, Munhealth_interaction, Munhealth_pval_adj, Fhealth_C(Model_Health, Treatment(reference=1))[T.Healthy], Fhealth_analyte2, Fhealth_interaction, Fhealth_pval_adj, interact_dif_sign]\n",
       "Index: []"
      ]
     },
     "execution_count": 77,
     "metadata": {},
     "output_type": "execute_result"
    }
   ],
   "source": [
    "pd.merge(Munhealth_sum_comp, Fhealth_sum_comp, how='inner', on=['col1', 'col2', 'name1','name2']).assign(interact_dif_sign=lambda x: np.sign(x.Munhealth_interaction * x.Fhealth_interaction))"
   ]
  },
  {
   "cell_type": "code",
   "execution_count": 78,
   "metadata": {},
   "outputs": [
    {
     "data": {
      "text/html": [
       "<div>\n",
       "<style scoped>\n",
       "    .dataframe tbody tr th:only-of-type {\n",
       "        vertical-align: middle;\n",
       "    }\n",
       "\n",
       "    .dataframe tbody tr th {\n",
       "        vertical-align: top;\n",
       "    }\n",
       "\n",
       "    .dataframe thead th {\n",
       "        text-align: right;\n",
       "    }\n",
       "</style>\n",
       "<table border=\"1\" class=\"dataframe\">\n",
       "  <thead>\n",
       "    <tr style=\"text-align: right;\">\n",
       "      <th></th>\n",
       "      <th>col1</th>\n",
       "      <th>name1</th>\n",
       "      <th>col2</th>\n",
       "      <th>name2</th>\n",
       "      <th>Munhealth_C(Model_Health)[T.Unhealthy]</th>\n",
       "      <th>Munhealth_analyte2</th>\n",
       "      <th>Munhealth_interaction</th>\n",
       "      <th>Munhealth_pval_adj</th>\n",
       "      <th>Funhealth_C(Model_Health)[T.Unhealthy]</th>\n",
       "      <th>Funhealth_analyte2</th>\n",
       "      <th>Funhealth_interaction</th>\n",
       "      <th>Funhealth_pval_adj</th>\n",
       "      <th>interact_dif_sign</th>\n",
       "    </tr>\n",
       "  </thead>\n",
       "  <tbody>\n",
       "    <tr>\n",
       "      <th>0</th>\n",
       "      <td>GLYCOHEMOGLOBIN A1C</td>\n",
       "      <td>Hemoglobin A1C</td>\n",
       "      <td>823</td>\n",
       "      <td>pyruvate</td>\n",
       "      <td>-0.119017</td>\n",
       "      <td>0.064594</td>\n",
       "      <td>0.140201</td>\n",
       "      <td>0.011761</td>\n",
       "      <td>-0.074477</td>\n",
       "      <td>0.086591</td>\n",
       "      <td>0.091230</td>\n",
       "      <td>0.066523</td>\n",
       "      <td>1.0</td>\n",
       "    </tr>\n",
       "    <tr>\n",
       "      <th>1</th>\n",
       "      <td>GLUCOSE</td>\n",
       "      <td>Glucose</td>\n",
       "      <td>INF_P14210</td>\n",
       "      <td>HGF</td>\n",
       "      <td>-1.079395</td>\n",
       "      <td>0.031724</td>\n",
       "      <td>0.128591</td>\n",
       "      <td>0.025697</td>\n",
       "      <td>-0.828725</td>\n",
       "      <td>0.020464</td>\n",
       "      <td>0.098898</td>\n",
       "      <td>0.091675</td>\n",
       "      <td>1.0</td>\n",
       "    </tr>\n",
       "    <tr>\n",
       "      <th>2</th>\n",
       "      <td>GLUCOSE</td>\n",
       "      <td>Glucose</td>\n",
       "      <td>999947988</td>\n",
       "      <td>X - 16087</td>\n",
       "      <td>-0.035197</td>\n",
       "      <td>0.011669</td>\n",
       "      <td>0.076780</td>\n",
       "      <td>0.060493</td>\n",
       "      <td>-0.023455</td>\n",
       "      <td>0.010904</td>\n",
       "      <td>0.076830</td>\n",
       "      <td>0.094191</td>\n",
       "      <td>1.0</td>\n",
       "    </tr>\n",
       "    <tr>\n",
       "      <th>3</th>\n",
       "      <td>GLYCOHEMOGLOBIN A1C</td>\n",
       "      <td>Hemoglobin A1C</td>\n",
       "      <td>803</td>\n",
       "      <td>mannose</td>\n",
       "      <td>-0.098301</td>\n",
       "      <td>0.086271</td>\n",
       "      <td>0.104592</td>\n",
       "      <td>0.069383</td>\n",
       "      <td>-0.069330</td>\n",
       "      <td>0.109138</td>\n",
       "      <td>0.073402</td>\n",
       "      <td>0.091675</td>\n",
       "      <td>1.0</td>\n",
       "    </tr>\n",
       "    <tr>\n",
       "      <th>4</th>\n",
       "      <td>GLUCOSE</td>\n",
       "      <td>Glucose</td>\n",
       "      <td>CVD3_Q86VB7</td>\n",
       "      <td>CD163</td>\n",
       "      <td>-0.645722</td>\n",
       "      <td>0.013946</td>\n",
       "      <td>0.088995</td>\n",
       "      <td>0.079372</td>\n",
       "      <td>-0.567551</td>\n",
       "      <td>0.015204</td>\n",
       "      <td>0.077090</td>\n",
       "      <td>0.062030</td>\n",
       "      <td>1.0</td>\n",
       "    </tr>\n",
       "  </tbody>\n",
       "</table>\n",
       "</div>"
      ],
      "text/plain": [
       "                  col1           name1         col2      name2  \\\n",
       "0  GLYCOHEMOGLOBIN A1C  Hemoglobin A1C          823   pyruvate   \n",
       "1              GLUCOSE         Glucose   INF_P14210        HGF   \n",
       "2              GLUCOSE         Glucose    999947988  X - 16087   \n",
       "3  GLYCOHEMOGLOBIN A1C  Hemoglobin A1C          803    mannose   \n",
       "4              GLUCOSE         Glucose  CVD3_Q86VB7      CD163   \n",
       "\n",
       "   Munhealth_C(Model_Health)[T.Unhealthy]  Munhealth_analyte2  \\\n",
       "0                               -0.119017            0.064594   \n",
       "1                               -1.079395            0.031724   \n",
       "2                               -0.035197            0.011669   \n",
       "3                               -0.098301            0.086271   \n",
       "4                               -0.645722            0.013946   \n",
       "\n",
       "   Munhealth_interaction  Munhealth_pval_adj  \\\n",
       "0               0.140201            0.011761   \n",
       "1               0.128591            0.025697   \n",
       "2               0.076780            0.060493   \n",
       "3               0.104592            0.069383   \n",
       "4               0.088995            0.079372   \n",
       "\n",
       "   Funhealth_C(Model_Health)[T.Unhealthy]  Funhealth_analyte2  \\\n",
       "0                               -0.074477            0.086591   \n",
       "1                               -0.828725            0.020464   \n",
       "2                               -0.023455            0.010904   \n",
       "3                               -0.069330            0.109138   \n",
       "4                               -0.567551            0.015204   \n",
       "\n",
       "   Funhealth_interaction  Funhealth_pval_adj  interact_dif_sign  \n",
       "0               0.091230            0.066523                1.0  \n",
       "1               0.098898            0.091675                1.0  \n",
       "2               0.076830            0.094191                1.0  \n",
       "3               0.073402            0.091675                1.0  \n",
       "4               0.077090            0.062030                1.0  "
      ]
     },
     "execution_count": 78,
     "metadata": {},
     "output_type": "execute_result"
    }
   ],
   "source": [
    "pd.merge(Munhealth_sum_comp, Funhealth_sum_comp, how='inner', on=['col1', 'col2', 'name1','name2']).assign(interact_dif_sign=lambda x: np.sign(x.Munhealth_interaction * x.Funhealth_interaction))"
   ]
  },
  {
   "cell_type": "code",
   "execution_count": null,
   "metadata": {},
   "outputs": [],
   "source": []
  },
  {
   "cell_type": "code",
   "execution_count": 79,
   "metadata": {},
   "outputs": [
    {
     "data": {
      "text/html": [
       "<div>\n",
       "<style scoped>\n",
       "    .dataframe tbody tr th:only-of-type {\n",
       "        vertical-align: middle;\n",
       "    }\n",
       "\n",
       "    .dataframe tbody tr th {\n",
       "        vertical-align: top;\n",
       "    }\n",
       "\n",
       "    .dataframe thead th {\n",
       "        text-align: right;\n",
       "    }\n",
       "</style>\n",
       "<table border=\"1\" class=\"dataframe\">\n",
       "  <thead>\n",
       "    <tr style=\"text-align: right;\">\n",
       "      <th></th>\n",
       "      <th>col1</th>\n",
       "      <th>name1</th>\n",
       "      <th>col2</th>\n",
       "      <th>name2</th>\n",
       "      <th>Fhealth_C(Model_Health, Treatment(reference=1))[T.Healthy]</th>\n",
       "      <th>Fhealth_analyte2</th>\n",
       "      <th>Fhealth_interaction</th>\n",
       "      <th>Fhealth_pval_adj</th>\n",
       "      <th>Funhealth_C(Model_Health)[T.Unhealthy]</th>\n",
       "      <th>Funhealth_analyte2</th>\n",
       "      <th>Funhealth_interaction</th>\n",
       "      <th>Funhealth_pval_adj</th>\n",
       "      <th>interact_dif_sign</th>\n",
       "    </tr>\n",
       "  </thead>\n",
       "  <tbody>\n",
       "  </tbody>\n",
       "</table>\n",
       "</div>"
      ],
      "text/plain": [
       "Empty DataFrame\n",
       "Columns: [col1, name1, col2, name2, Fhealth_C(Model_Health, Treatment(reference=1))[T.Healthy], Fhealth_analyte2, Fhealth_interaction, Fhealth_pval_adj, Funhealth_C(Model_Health)[T.Unhealthy], Funhealth_analyte2, Funhealth_interaction, Funhealth_pval_adj, interact_dif_sign]\n",
       "Index: []"
      ]
     },
     "execution_count": 79,
     "metadata": {},
     "output_type": "execute_result"
    }
   ],
   "source": [
    "pd.merge(Fhealth_sum_comp, Funhealth_sum_comp, how='inner', on=['col1', 'col2', 'name1','name2']).assign(interact_dif_sign=lambda x: np.sign(x.Fhealth_interaction * x.Funhealth_interaction))"
   ]
  }
 ],
 "metadata": {
  "kernelspec": {
   "display_name": "arivale-py3 - Python",
   "language": "python",
   "name": "conda-env-arivale-py3-py"
  },
  "language_info": {
   "codemirror_mode": {
    "name": "ipython",
    "version": 3
   },
   "file_extension": ".py",
   "mimetype": "text/x-python",
   "name": "python",
   "nbconvert_exporter": "python",
   "pygments_lexer": "ipython3",
   "version": "3.9.7"
  }
 },
 "nbformat": 4,
 "nbformat_minor": 4
}
